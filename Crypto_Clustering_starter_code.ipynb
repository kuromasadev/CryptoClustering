{
 "cells": [
  {
   "cell_type": "code",
<<<<<<< Updated upstream
   "execution_count": null,
   "metadata": {},
   "outputs": [],
   "source": [
    "%pip install"
   ]
  },
  {
   "cell_type": "code",
   "execution_count": 1,
   "metadata": {},
   "outputs": [
    {
     "data": {
      "application/javascript": "(function(root) {\n  function now() {\n    return new Date();\n  }\n\n  var force = true;\n  var py_version = '3.1.1'.replace('rc', '-rc.');\n  var is_dev = py_version.indexOf(\"+\") !== -1 || py_version.indexOf(\"-\") !== -1;\n  var reloading = false;\n  var Bokeh = root.Bokeh;\n  var bokeh_loaded = Bokeh != null && (Bokeh.version === py_version || (Bokeh.versions !== undefined && Bokeh.versions.has(py_version)));\n\n  if (typeof (root._bokeh_timeout) === \"undefined\" || force) {\n    root._bokeh_timeout = Date.now() + 5000;\n    root._bokeh_failed_load = false;\n  }\n\n  function run_callbacks() {\n    try {\n      root._bokeh_onload_callbacks.forEach(function(callback) {\n        if (callback != null)\n          callback();\n      });\n    } finally {\n      delete root._bokeh_onload_callbacks;\n    }\n    console.debug(\"Bokeh: all callbacks have finished\");\n  }\n\n  function load_libs(css_urls, js_urls, js_modules, js_exports, callback) {\n    if (css_urls == null) css_urls = [];\n    if (js_urls == null) js_urls = [];\n    if (js_modules == null) js_modules = [];\n    if (js_exports == null) js_exports = {};\n\n    root._bokeh_onload_callbacks.push(callback);\n\n    if (root._bokeh_is_loading > 0) {\n      console.debug(\"Bokeh: BokehJS is being loaded, scheduling callback at\", now());\n      return null;\n    }\n    if (js_urls.length === 0 && js_modules.length === 0 && Object.keys(js_exports).length === 0) {\n      run_callbacks();\n      return null;\n    }\n    if (!reloading) {\n      console.debug(\"Bokeh: BokehJS not loaded, scheduling load and callback at\", now());\n    }\n\n    function on_load() {\n      root._bokeh_is_loading--;\n      if (root._bokeh_is_loading === 0) {\n        console.debug(\"Bokeh: all BokehJS libraries/stylesheets loaded\");\n        run_callbacks()\n      }\n    }\n    window._bokeh_on_load = on_load\n\n    function on_error() {\n      console.error(\"failed to load \" + url);\n    }\n\n    var skip = [];\n    if (window.requirejs) {\n      window.requirejs.config({'packages': {}, 'paths': {'jspanel': 'https://cdn.jsdelivr.net/npm/jspanel4@4.12.0/dist/jspanel', 'jspanel-modal': 'https://cdn.jsdelivr.net/npm/jspanel4@4.12.0/dist/extensions/modal/jspanel.modal', 'jspanel-tooltip': 'https://cdn.jsdelivr.net/npm/jspanel4@4.12.0/dist/extensions/tooltip/jspanel.tooltip', 'jspanel-hint': 'https://cdn.jsdelivr.net/npm/jspanel4@4.12.0/dist/extensions/hint/jspanel.hint', 'jspanel-layout': 'https://cdn.jsdelivr.net/npm/jspanel4@4.12.0/dist/extensions/layout/jspanel.layout', 'jspanel-contextmenu': 'https://cdn.jsdelivr.net/npm/jspanel4@4.12.0/dist/extensions/contextmenu/jspanel.contextmenu', 'jspanel-dock': 'https://cdn.jsdelivr.net/npm/jspanel4@4.12.0/dist/extensions/dock/jspanel.dock', 'gridstack': 'https://cdn.jsdelivr.net/npm/gridstack@7.2.3/dist/gridstack-all', 'notyf': 'https://cdn.jsdelivr.net/npm/notyf@3/notyf.min'}, 'shim': {'jspanel': {'exports': 'jsPanel'}, 'gridstack': {'exports': 'GridStack'}}});\n      require([\"jspanel\"], function(jsPanel) {\n\twindow.jsPanel = jsPanel\n\ton_load()\n      })\n      require([\"jspanel-modal\"], function() {\n\ton_load()\n      })\n      require([\"jspanel-tooltip\"], function() {\n\ton_load()\n      })\n      require([\"jspanel-hint\"], function() {\n\ton_load()\n      })\n      require([\"jspanel-layout\"], function() {\n\ton_load()\n      })\n      require([\"jspanel-contextmenu\"], function() {\n\ton_load()\n      })\n      require([\"jspanel-dock\"], function() {\n\ton_load()\n      })\n      require([\"gridstack\"], function(GridStack) {\n\twindow.GridStack = GridStack\n\ton_load()\n      })\n      require([\"notyf\"], function() {\n\ton_load()\n      })\n      root._bokeh_is_loading = css_urls.length + 9;\n    } else {\n      root._bokeh_is_loading = css_urls.length + js_urls.length + js_modules.length + Object.keys(js_exports).length;\n    }\n\n    var existing_stylesheets = []\n    var links = document.getElementsByTagName('link')\n    for (var i = 0; i < links.length; i++) {\n      var link = links[i]\n      if (link.href != null) {\n\texisting_stylesheets.push(link.href)\n      }\n    }\n    for (var i = 0; i < css_urls.length; i++) {\n      var url = css_urls[i];\n      if (existing_stylesheets.indexOf(url) !== -1) {\n\ton_load()\n\tcontinue;\n      }\n      const element = document.createElement(\"link\");\n      element.onload = on_load;\n      element.onerror = on_error;\n      element.rel = \"stylesheet\";\n      element.type = \"text/css\";\n      element.href = url;\n      console.debug(\"Bokeh: injecting link tag for BokehJS stylesheet: \", url);\n      document.body.appendChild(element);\n    }    if (((window['jsPanel'] !== undefined) && (!(window['jsPanel'] instanceof HTMLElement))) || window.requirejs) {\n      var urls = ['https://cdn.holoviz.org/panel/1.1.0/dist/bundled/floatpanel/jspanel4@4.12.0/dist/jspanel.js', 'https://cdn.holoviz.org/panel/1.1.0/dist/bundled/floatpanel/jspanel4@4.12.0/dist/extensions/modal/jspanel.modal.js', 'https://cdn.holoviz.org/panel/1.1.0/dist/bundled/floatpanel/jspanel4@4.12.0/dist/extensions/tooltip/jspanel.tooltip.js', 'https://cdn.holoviz.org/panel/1.1.0/dist/bundled/floatpanel/jspanel4@4.12.0/dist/extensions/hint/jspanel.hint.js', 'https://cdn.holoviz.org/panel/1.1.0/dist/bundled/floatpanel/jspanel4@4.12.0/dist/extensions/layout/jspanel.layout.js', 'https://cdn.holoviz.org/panel/1.1.0/dist/bundled/floatpanel/jspanel4@4.12.0/dist/extensions/contextmenu/jspanel.contextmenu.js', 'https://cdn.holoviz.org/panel/1.1.0/dist/bundled/floatpanel/jspanel4@4.12.0/dist/extensions/dock/jspanel.dock.js'];\n      for (var i = 0; i < urls.length; i++) {\n        skip.push(urls[i])\n      }\n    }    if (((window['GridStack'] !== undefined) && (!(window['GridStack'] instanceof HTMLElement))) || window.requirejs) {\n      var urls = ['https://cdn.holoviz.org/panel/1.1.0/dist/bundled/gridstack/gridstack@7.2.3/dist/gridstack-all.js'];\n      for (var i = 0; i < urls.length; i++) {\n        skip.push(urls[i])\n      }\n    }    if (((window['Notyf'] !== undefined) && (!(window['Notyf'] instanceof HTMLElement))) || window.requirejs) {\n      var urls = ['https://cdn.holoviz.org/panel/1.1.0/dist/bundled/notificationarea/notyf@3/notyf.min.js'];\n      for (var i = 0; i < urls.length; i++) {\n        skip.push(urls[i])\n      }\n    }    var existing_scripts = []\n    var scripts = document.getElementsByTagName('script')\n    for (var i = 0; i < scripts.length; i++) {\n      var script = scripts[i]\n      if (script.src != null) {\n\texisting_scripts.push(script.src)\n      }\n    }\n    for (var i = 0; i < js_urls.length; i++) {\n      var url = js_urls[i];\n      if (skip.indexOf(url) !== -1 || existing_scripts.indexOf(url) !== -1) {\n\tif (!window.requirejs) {\n\t  on_load();\n\t}\n\tcontinue;\n      }\n      var element = document.createElement('script');\n      element.onload = on_load;\n      element.onerror = on_error;\n      element.async = false;\n      element.src = url;\n      console.debug(\"Bokeh: injecting script tag for BokehJS library: \", url);\n      document.head.appendChild(element);\n    }\n    for (var i = 0; i < js_modules.length; i++) {\n      var url = js_modules[i];\n      if (skip.indexOf(url) !== -1 || existing_scripts.indexOf(url) !== -1) {\n\tif (!window.requirejs) {\n\t  on_load();\n\t}\n\tcontinue;\n      }\n      var element = document.createElement('script');\n      element.onload = on_load;\n      element.onerror = on_error;\n      element.async = false;\n      element.src = url;\n      element.type = \"module\";\n      console.debug(\"Bokeh: injecting script tag for BokehJS library: \", url);\n      document.head.appendChild(element);\n    }\n    for (const name in js_exports) {\n      var url = js_exports[name];\n      if (skip.indexOf(url) >= 0 || root[name] != null) {\n\tif (!window.requirejs) {\n\t  on_load();\n\t}\n\tcontinue;\n      }\n      var element = document.createElement('script');\n      element.onerror = on_error;\n      element.async = false;\n      element.type = \"module\";\n      console.debug(\"Bokeh: injecting script tag for BokehJS library: \", url);\n      element.textContent = `\n      import ${name} from \"${url}\"\n      window.${name} = ${name}\n      window._bokeh_on_load()\n      `\n      document.head.appendChild(element);\n    }\n    if (!js_urls.length && !js_modules.length) {\n      on_load()\n    }\n  };\n\n  function inject_raw_css(css) {\n    const element = document.createElement(\"style\");\n    element.appendChild(document.createTextNode(css));\n    document.body.appendChild(element);\n  }\n\n  var js_urls = [\"https://cdn.bokeh.org/bokeh/release/bokeh-3.1.1.min.js\", \"https://cdn.bokeh.org/bokeh/release/bokeh-gl-3.1.1.min.js\", \"https://cdn.bokeh.org/bokeh/release/bokeh-widgets-3.1.1.min.js\", \"https://cdn.bokeh.org/bokeh/release/bokeh-tables-3.1.1.min.js\", \"https://cdn.holoviz.org/panel/1.1.0/dist/panel.min.js\"];\n  var js_modules = [];\n  var js_exports = {};\n  var css_urls = [];\n  var inline_js = [    function(Bokeh) {\n      Bokeh.set_log_level(\"info\");\n    },\nfunction(Bokeh) {} // ensure no trailing comma for IE\n  ];\n\n  function run_inline_js() {\n    if ((root.Bokeh !== undefined) || (force === true)) {\n      for (var i = 0; i < inline_js.length; i++) {\n        inline_js[i].call(root, root.Bokeh);\n      }\n      // Cache old bokeh versions\n      if (Bokeh != undefined && !reloading) {\n\tvar NewBokeh = root.Bokeh;\n\tif (Bokeh.versions === undefined) {\n\t  Bokeh.versions = new Map();\n\t}\n\tif (NewBokeh.version !== Bokeh.version) {\n\t  Bokeh.versions.set(NewBokeh.version, NewBokeh)\n\t}\n\troot.Bokeh = Bokeh;\n      }} else if (Date.now() < root._bokeh_timeout) {\n      setTimeout(run_inline_js, 100);\n    } else if (!root._bokeh_failed_load) {\n      console.log(\"Bokeh: BokehJS failed to load within specified timeout.\");\n      root._bokeh_failed_load = true;\n    }\n    root._bokeh_is_initializing = false\n  }\n\n  function load_or_wait() {\n    // Implement a backoff loop that tries to ensure we do not load multiple\n    // versions of Bokeh and its dependencies at the same time.\n    // In recent versions we use the root._bokeh_is_initializing flag\n    // to determine whether there is an ongoing attempt to initialize\n    // bokeh, however for backward compatibility we also try to ensure\n    // that we do not start loading a newer (Panel>=1.0 and Bokeh>3) version\n    // before older versions are fully initialized.\n    if (root._bokeh_is_initializing && Date.now() > root._bokeh_timeout) {\n      root._bokeh_is_initializing = false;\n      root._bokeh_onload_callbacks = undefined;\n      console.log(\"Bokeh: BokehJS was loaded multiple times but one version failed to initialize.\");\n      load_or_wait();\n    } else if (root._bokeh_is_initializing || (typeof root._bokeh_is_initializing === \"undefined\" && root._bokeh_onload_callbacks !== undefined)) {\n      setTimeout(load_or_wait, 100);\n    } else {\n      Bokeh = root.Bokeh;\n      bokeh_loaded = Bokeh != null && (Bokeh.version === py_version || (Bokeh.versions !== undefined && Bokeh.versions.has(py_version)));\n      root._bokeh_is_initializing = true\n      root._bokeh_onload_callbacks = []\n      if (!reloading && (!bokeh_loaded || is_dev)) {\n\troot.Bokeh = undefined;\n      }\n      load_libs(css_urls, js_urls, js_modules, js_exports, function() {\n\tconsole.debug(\"Bokeh: BokehJS plotting callback run at\", now());\n\trun_inline_js();\n      });\n    }\n  }\n  // Give older versions of the autoload script a head-start to ensure\n  // they initialize before we start loading newer version.\n  setTimeout(load_or_wait, 100)\n}(window));",
      "application/vnd.holoviews_load.v0+json": ""
     },
     "metadata": {},
     "output_type": "display_data"
    },
    {
     "data": {
      "application/javascript": "\nif ((window.PyViz === undefined) || (window.PyViz instanceof HTMLElement)) {\n  window.PyViz = {comms: {}, comm_status:{}, kernels:{}, receivers: {}, plot_index: []}\n}\n\n\n    function JupyterCommManager() {\n    }\n\n    JupyterCommManager.prototype.register_target = function(plot_id, comm_id, msg_handler) {\n      if (window.comm_manager || ((window.Jupyter !== undefined) && (Jupyter.notebook.kernel != null))) {\n        var comm_manager = window.comm_manager || Jupyter.notebook.kernel.comm_manager;\n        comm_manager.register_target(comm_id, function(comm) {\n          comm.on_msg(msg_handler);\n        });\n      } else if ((plot_id in window.PyViz.kernels) && (window.PyViz.kernels[plot_id])) {\n        window.PyViz.kernels[plot_id].registerCommTarget(comm_id, function(comm) {\n          comm.onMsg = msg_handler;\n        });\n      } else if (typeof google != 'undefined' && google.colab.kernel != null) {\n        google.colab.kernel.comms.registerTarget(comm_id, (comm) => {\n          var messages = comm.messages[Symbol.asyncIterator]();\n          function processIteratorResult(result) {\n            var message = result.value;\n            console.log(message)\n            var content = {data: message.data, comm_id};\n            var buffers = []\n            for (var buffer of message.buffers || []) {\n              buffers.push(new DataView(buffer))\n            }\n            var metadata = message.metadata || {};\n            var msg = {content, buffers, metadata}\n            msg_handler(msg);\n            return messages.next().then(processIteratorResult);\n          }\n          return messages.next().then(processIteratorResult);\n        })\n      }\n    }\n\n    JupyterCommManager.prototype.get_client_comm = function(plot_id, comm_id, msg_handler) {\n      if (comm_id in window.PyViz.comms) {\n        return window.PyViz.comms[comm_id];\n      } else if (window.comm_manager || ((window.Jupyter !== undefined) && (Jupyter.notebook.kernel != null))) {\n        var comm_manager = window.comm_manager || Jupyter.notebook.kernel.comm_manager;\n        var comm = comm_manager.new_comm(comm_id, {}, {}, {}, comm_id);\n        if (msg_handler) {\n          comm.on_msg(msg_handler);\n        }\n      } else if ((plot_id in window.PyViz.kernels) && (window.PyViz.kernels[plot_id])) {\n        var comm = window.PyViz.kernels[plot_id].connectToComm(comm_id);\n        comm.open();\n        if (msg_handler) {\n          comm.onMsg = msg_handler;\n        }\n      } else if (typeof google != 'undefined' && google.colab.kernel != null) {\n        var comm_promise = google.colab.kernel.comms.open(comm_id)\n        comm_promise.then((comm) => {\n          window.PyViz.comms[comm_id] = comm;\n          if (msg_handler) {\n            var messages = comm.messages[Symbol.asyncIterator]();\n            function processIteratorResult(result) {\n              var message = result.value;\n              var content = {data: message.data};\n              var metadata = message.metadata || {comm_id};\n              var msg = {content, metadata}\n              msg_handler(msg);\n              return messages.next().then(processIteratorResult);\n            }\n            return messages.next().then(processIteratorResult);\n          }\n        }) \n        var sendClosure = (data, metadata, buffers, disposeOnDone) => {\n          return comm_promise.then((comm) => {\n            comm.send(data, metadata, buffers, disposeOnDone);\n          });\n        };\n        var comm = {\n          send: sendClosure\n        };\n      }\n      window.PyViz.comms[comm_id] = comm;\n      return comm;\n    }\n    window.PyViz.comm_manager = new JupyterCommManager();\n    \n\n\nvar JS_MIME_TYPE = 'application/javascript';\nvar HTML_MIME_TYPE = 'text/html';\nvar EXEC_MIME_TYPE = 'application/vnd.holoviews_exec.v0+json';\nvar CLASS_NAME = 'output';\n\n/**\n * Render data to the DOM node\n */\nfunction render(props, node) {\n  var div = document.createElement(\"div\");\n  var script = document.createElement(\"script\");\n  node.appendChild(div);\n  node.appendChild(script);\n}\n\n/**\n * Handle when a new output is added\n */\nfunction handle_add_output(event, handle) {\n  var output_area = handle.output_area;\n  var output = handle.output;\n  if ((output.data == undefined) || (!output.data.hasOwnProperty(EXEC_MIME_TYPE))) {\n    return\n  }\n  var id = output.metadata[EXEC_MIME_TYPE][\"id\"];\n  var toinsert = output_area.element.find(\".\" + CLASS_NAME.split(' ')[0]);\n  if (id !== undefined) {\n    var nchildren = toinsert.length;\n    var html_node = toinsert[nchildren-1].children[0];\n    html_node.innerHTML = output.data[HTML_MIME_TYPE];\n    var scripts = [];\n    var nodelist = html_node.querySelectorAll(\"script\");\n    for (var i in nodelist) {\n      if (nodelist.hasOwnProperty(i)) {\n        scripts.push(nodelist[i])\n      }\n    }\n\n    scripts.forEach( function (oldScript) {\n      var newScript = document.createElement(\"script\");\n      var attrs = [];\n      var nodemap = oldScript.attributes;\n      for (var j in nodemap) {\n        if (nodemap.hasOwnProperty(j)) {\n          attrs.push(nodemap[j])\n        }\n      }\n      attrs.forEach(function(attr) { newScript.setAttribute(attr.name, attr.value) });\n      newScript.appendChild(document.createTextNode(oldScript.innerHTML));\n      oldScript.parentNode.replaceChild(newScript, oldScript);\n    });\n    if (JS_MIME_TYPE in output.data) {\n      toinsert[nchildren-1].children[1].textContent = output.data[JS_MIME_TYPE];\n    }\n    output_area._hv_plot_id = id;\n    if ((window.Bokeh !== undefined) && (id in Bokeh.index)) {\n      window.PyViz.plot_index[id] = Bokeh.index[id];\n    } else {\n      window.PyViz.plot_index[id] = null;\n    }\n  } else if (output.metadata[EXEC_MIME_TYPE][\"server_id\"] !== undefined) {\n    var bk_div = document.createElement(\"div\");\n    bk_div.innerHTML = output.data[HTML_MIME_TYPE];\n    var script_attrs = bk_div.children[0].attributes;\n    for (var i = 0; i < script_attrs.length; i++) {\n      toinsert[toinsert.length - 1].childNodes[1].setAttribute(script_attrs[i].name, script_attrs[i].value);\n    }\n    // store reference to server id on output_area\n    output_area._bokeh_server_id = output.metadata[EXEC_MIME_TYPE][\"server_id\"];\n  }\n}\n\n/**\n * Handle when an output is cleared or removed\n */\nfunction handle_clear_output(event, handle) {\n  var id = handle.cell.output_area._hv_plot_id;\n  var server_id = handle.cell.output_area._bokeh_server_id;\n  if (((id === undefined) || !(id in PyViz.plot_index)) && (server_id !== undefined)) { return; }\n  var comm = window.PyViz.comm_manager.get_client_comm(\"hv-extension-comm\", \"hv-extension-comm\", function () {});\n  if (server_id !== null) {\n    comm.send({event_type: 'server_delete', 'id': server_id});\n    return;\n  } else if (comm !== null) {\n    comm.send({event_type: 'delete', 'id': id});\n  }\n  delete PyViz.plot_index[id];\n  if ((window.Bokeh !== undefined) & (id in window.Bokeh.index)) {\n    var doc = window.Bokeh.index[id].model.document\n    doc.clear();\n    const i = window.Bokeh.documents.indexOf(doc);\n    if (i > -1) {\n      window.Bokeh.documents.splice(i, 1);\n    }\n  }\n}\n\n/**\n * Handle kernel restart event\n */\nfunction handle_kernel_cleanup(event, handle) {\n  delete PyViz.comms[\"hv-extension-comm\"];\n  window.PyViz.plot_index = {}\n}\n\n/**\n * Handle update_display_data messages\n */\nfunction handle_update_output(event, handle) {\n  handle_clear_output(event, {cell: {output_area: handle.output_area}})\n  handle_add_output(event, handle)\n}\n\nfunction register_renderer(events, OutputArea) {\n  function append_mime(data, metadata, element) {\n    // create a DOM node to render to\n    var toinsert = this.create_output_subarea(\n    metadata,\n    CLASS_NAME,\n    EXEC_MIME_TYPE\n    );\n    this.keyboard_manager.register_events(toinsert);\n    // Render to node\n    var props = {data: data, metadata: metadata[EXEC_MIME_TYPE]};\n    render(props, toinsert[0]);\n    element.append(toinsert);\n    return toinsert\n  }\n\n  events.on('output_added.OutputArea', handle_add_output);\n  events.on('output_updated.OutputArea', handle_update_output);\n  events.on('clear_output.CodeCell', handle_clear_output);\n  events.on('delete.Cell', handle_clear_output);\n  events.on('kernel_ready.Kernel', handle_kernel_cleanup);\n\n  OutputArea.prototype.register_mime_type(EXEC_MIME_TYPE, append_mime, {\n    safe: true,\n    index: 0\n  });\n}\n\nif (window.Jupyter !== undefined) {\n  try {\n    var events = require('base/js/events');\n    var OutputArea = require('notebook/js/outputarea').OutputArea;\n    if (OutputArea.prototype.mime_types().indexOf(EXEC_MIME_TYPE) == -1) {\n      register_renderer(events, OutputArea);\n    }\n  } catch(err) {\n  }\n}\n",
      "application/vnd.holoviews_load.v0+json": ""
     },
     "metadata": {},
     "output_type": "display_data"
    },
    {
     "data": {
      "text/html": [
       "<style>*[data-root-id],\n",
       "*[data-root-id] > * {\n",
       "  box-sizing: border-box;\n",
       "  font-family: var(--jp-ui-font-family);\n",
       "  font-size: var(--jp-ui-font-size1);\n",
       "  color: var(--vscode-editor-foreground, var(--jp-ui-font-color1));\n",
       "}\n",
       "\n",
       "/* Override VSCode background color */\n",
       ".cell-output-ipywidget-background:has(> .cell-output-ipywidget-background\n",
       "    > .lm-Widget\n",
       "    > *[data-root-id]),\n",
       ".cell-output-ipywidget-background:has(> .lm-Widget > *[data-root-id]) {\n",
       "  background-color: transparent !important;\n",
       "}\n",
       "</style>"
      ]
     },
     "metadata": {},
     "output_type": "display_data"
    }
   ],
=======
   "execution_count": 165,
   "metadata": {},
   "outputs": [],
>>>>>>> Stashed changes
   "source": [
    "# Import required libraries and dependencies\n",
    "import pandas as pd\n",
    "import hvplot.pandas\n",
    "from sklearn.cluster import KMeans\n",
    "from sklearn.decomposition import PCA\n",
    "from sklearn.preprocessing import StandardScaler"
   ]
  },
  {
   "cell_type": "code",
   "execution_count": 166,
   "metadata": {},
   "outputs": [
    {
     "data": {
      "text/html": [
       "<div>\n",
       "<style scoped>\n",
       "    .dataframe tbody tr th:only-of-type {\n",
       "        vertical-align: middle;\n",
       "    }\n",
       "\n",
       "    .dataframe tbody tr th {\n",
       "        vertical-align: top;\n",
       "    }\n",
       "\n",
       "    .dataframe thead th {\n",
       "        text-align: right;\n",
       "    }\n",
       "</style>\n",
       "<table border=\"1\" class=\"dataframe\">\n",
       "  <thead>\n",
       "    <tr style=\"text-align: right;\">\n",
       "      <th></th>\n",
       "      <th>price_change_percentage_24h</th>\n",
       "      <th>price_change_percentage_7d</th>\n",
       "      <th>price_change_percentage_14d</th>\n",
       "      <th>price_change_percentage_30d</th>\n",
       "      <th>price_change_percentage_60d</th>\n",
       "      <th>price_change_percentage_200d</th>\n",
       "      <th>price_change_percentage_1y</th>\n",
       "    </tr>\n",
       "    <tr>\n",
       "      <th>coin_id</th>\n",
       "      <th></th>\n",
       "      <th></th>\n",
       "      <th></th>\n",
       "      <th></th>\n",
       "      <th></th>\n",
       "      <th></th>\n",
       "      <th></th>\n",
       "    </tr>\n",
       "  </thead>\n",
       "  <tbody>\n",
       "    <tr>\n",
       "      <th>bitcoin</th>\n",
       "      <td>1.08388</td>\n",
       "      <td>7.60278</td>\n",
       "      <td>6.57509</td>\n",
       "      <td>7.67258</td>\n",
       "      <td>-3.25185</td>\n",
       "      <td>83.51840</td>\n",
       "      <td>37.51761</td>\n",
       "    </tr>\n",
       "    <tr>\n",
       "      <th>ethereum</th>\n",
       "      <td>0.22392</td>\n",
       "      <td>10.38134</td>\n",
       "      <td>4.80849</td>\n",
       "      <td>0.13169</td>\n",
       "      <td>-12.88890</td>\n",
       "      <td>186.77418</td>\n",
       "      <td>101.96023</td>\n",
       "    </tr>\n",
       "    <tr>\n",
       "      <th>tether</th>\n",
       "      <td>-0.21173</td>\n",
       "      <td>0.04935</td>\n",
       "      <td>0.00640</td>\n",
       "      <td>-0.04237</td>\n",
       "      <td>0.28037</td>\n",
       "      <td>-0.00542</td>\n",
       "      <td>0.01954</td>\n",
       "    </tr>\n",
       "    <tr>\n",
       "      <th>ripple</th>\n",
       "      <td>-0.37819</td>\n",
       "      <td>-0.60926</td>\n",
       "      <td>2.24984</td>\n",
       "      <td>0.23455</td>\n",
       "      <td>-17.55245</td>\n",
       "      <td>39.53888</td>\n",
       "      <td>-16.60193</td>\n",
       "    </tr>\n",
       "    <tr>\n",
       "      <th>bitcoin-cash</th>\n",
       "      <td>2.90585</td>\n",
       "      <td>17.09717</td>\n",
       "      <td>14.75334</td>\n",
       "      <td>15.74903</td>\n",
       "      <td>-13.71793</td>\n",
       "      <td>21.66042</td>\n",
       "      <td>14.49384</td>\n",
       "    </tr>\n",
       "    <tr>\n",
       "      <th>binancecoin</th>\n",
       "      <td>2.10423</td>\n",
       "      <td>12.85511</td>\n",
       "      <td>6.80688</td>\n",
       "      <td>0.05865</td>\n",
       "      <td>36.33486</td>\n",
       "      <td>155.61937</td>\n",
       "      <td>69.69195</td>\n",
       "    </tr>\n",
       "    <tr>\n",
       "      <th>chainlink</th>\n",
       "      <td>-0.23935</td>\n",
       "      <td>20.69459</td>\n",
       "      <td>9.30098</td>\n",
       "      <td>-11.21747</td>\n",
       "      <td>-43.69522</td>\n",
       "      <td>403.22917</td>\n",
       "      <td>325.13186</td>\n",
       "    </tr>\n",
       "    <tr>\n",
       "      <th>cardano</th>\n",
       "      <td>0.00322</td>\n",
       "      <td>13.99302</td>\n",
       "      <td>5.55476</td>\n",
       "      <td>10.10553</td>\n",
       "      <td>-22.84776</td>\n",
       "      <td>264.51418</td>\n",
       "      <td>156.09756</td>\n",
       "    </tr>\n",
       "    <tr>\n",
       "      <th>litecoin</th>\n",
       "      <td>-0.06341</td>\n",
       "      <td>6.60221</td>\n",
       "      <td>7.28931</td>\n",
       "      <td>1.21662</td>\n",
       "      <td>-17.23960</td>\n",
       "      <td>27.49919</td>\n",
       "      <td>-12.66408</td>\n",
       "    </tr>\n",
       "    <tr>\n",
       "      <th>bitcoin-cash-sv</th>\n",
       "      <td>0.92530</td>\n",
       "      <td>3.29641</td>\n",
       "      <td>-1.86656</td>\n",
       "      <td>2.88926</td>\n",
       "      <td>-24.87434</td>\n",
       "      <td>7.42562</td>\n",
       "      <td>93.73082</td>\n",
       "    </tr>\n",
       "  </tbody>\n",
       "</table>\n",
       "</div>"
      ],
      "text/plain": [
       "                 price_change_percentage_24h  price_change_percentage_7d  \\\n",
       "coin_id                                                                    \n",
       "bitcoin                              1.08388                     7.60278   \n",
       "ethereum                             0.22392                    10.38134   \n",
       "tether                              -0.21173                     0.04935   \n",
       "ripple                              -0.37819                    -0.60926   \n",
       "bitcoin-cash                         2.90585                    17.09717   \n",
       "binancecoin                          2.10423                    12.85511   \n",
       "chainlink                           -0.23935                    20.69459   \n",
       "cardano                              0.00322                    13.99302   \n",
       "litecoin                            -0.06341                     6.60221   \n",
       "bitcoin-cash-sv                      0.92530                     3.29641   \n",
       "\n",
       "                 price_change_percentage_14d  price_change_percentage_30d  \\\n",
       "coin_id                                                                     \n",
       "bitcoin                              6.57509                      7.67258   \n",
       "ethereum                             4.80849                      0.13169   \n",
       "tether                               0.00640                     -0.04237   \n",
       "ripple                               2.24984                      0.23455   \n",
       "bitcoin-cash                        14.75334                     15.74903   \n",
       "binancecoin                          6.80688                      0.05865   \n",
       "chainlink                            9.30098                    -11.21747   \n",
       "cardano                              5.55476                     10.10553   \n",
       "litecoin                             7.28931                      1.21662   \n",
       "bitcoin-cash-sv                     -1.86656                      2.88926   \n",
       "\n",
       "                 price_change_percentage_60d  price_change_percentage_200d  \\\n",
       "coin_id                                                                      \n",
       "bitcoin                             -3.25185                      83.51840   \n",
       "ethereum                           -12.88890                     186.77418   \n",
       "tether                               0.28037                      -0.00542   \n",
       "ripple                             -17.55245                      39.53888   \n",
       "bitcoin-cash                       -13.71793                      21.66042   \n",
       "binancecoin                         36.33486                     155.61937   \n",
       "chainlink                          -43.69522                     403.22917   \n",
       "cardano                            -22.84776                     264.51418   \n",
       "litecoin                           -17.23960                      27.49919   \n",
       "bitcoin-cash-sv                    -24.87434                       7.42562   \n",
       "\n",
       "                 price_change_percentage_1y  \n",
       "coin_id                                      \n",
       "bitcoin                            37.51761  \n",
       "ethereum                          101.96023  \n",
       "tether                              0.01954  \n",
       "ripple                            -16.60193  \n",
       "bitcoin-cash                       14.49384  \n",
       "binancecoin                        69.69195  \n",
       "chainlink                         325.13186  \n",
       "cardano                           156.09756  \n",
       "litecoin                          -12.66408  \n",
       "bitcoin-cash-sv                    93.73082  "
      ]
     },
     "execution_count": 166,
     "metadata": {},
     "output_type": "execute_result"
    }
   ],
   "source": [
    "# Load the data into a Pandas DataFrame\n",
    "df_market_data = pd.read_csv(\n",
    "    \"Resources/crypto_market_data.csv\",\n",
    "    index_col=\"coin_id\")\n",
    "\n",
    "# Display sample data\n",
    "df_market_data.head(10)"
   ]
  },
  {
   "cell_type": "code",
   "execution_count": 167,
   "metadata": {},
   "outputs": [
    {
     "data": {
      "text/html": [
       "<div>\n",
       "<style scoped>\n",
       "    .dataframe tbody tr th:only-of-type {\n",
       "        vertical-align: middle;\n",
       "    }\n",
       "\n",
       "    .dataframe tbody tr th {\n",
       "        vertical-align: top;\n",
       "    }\n",
       "\n",
       "    .dataframe thead th {\n",
       "        text-align: right;\n",
       "    }\n",
       "</style>\n",
       "<table border=\"1\" class=\"dataframe\">\n",
       "  <thead>\n",
       "    <tr style=\"text-align: right;\">\n",
       "      <th></th>\n",
       "      <th>price_change_percentage_24h</th>\n",
       "      <th>price_change_percentage_7d</th>\n",
       "      <th>price_change_percentage_14d</th>\n",
       "      <th>price_change_percentage_30d</th>\n",
       "      <th>price_change_percentage_60d</th>\n",
       "      <th>price_change_percentage_200d</th>\n",
       "      <th>price_change_percentage_1y</th>\n",
       "    </tr>\n",
       "  </thead>\n",
       "  <tbody>\n",
       "    <tr>\n",
       "      <th>count</th>\n",
       "      <td>41.000000</td>\n",
       "      <td>41.000000</td>\n",
       "      <td>41.000000</td>\n",
       "      <td>41.000000</td>\n",
       "      <td>41.000000</td>\n",
       "      <td>41.000000</td>\n",
       "      <td>41.000000</td>\n",
       "    </tr>\n",
       "    <tr>\n",
       "      <th>mean</th>\n",
       "      <td>-0.269686</td>\n",
       "      <td>4.497147</td>\n",
       "      <td>0.185787</td>\n",
       "      <td>1.545693</td>\n",
       "      <td>-0.094119</td>\n",
       "      <td>236.537432</td>\n",
       "      <td>347.667956</td>\n",
       "    </tr>\n",
       "    <tr>\n",
       "      <th>std</th>\n",
       "      <td>2.694793</td>\n",
       "      <td>6.375218</td>\n",
       "      <td>8.376939</td>\n",
       "      <td>26.344218</td>\n",
       "      <td>47.365803</td>\n",
       "      <td>435.225304</td>\n",
       "      <td>1247.842884</td>\n",
       "    </tr>\n",
       "    <tr>\n",
       "      <th>min</th>\n",
       "      <td>-13.527860</td>\n",
       "      <td>-6.094560</td>\n",
       "      <td>-18.158900</td>\n",
       "      <td>-34.705480</td>\n",
       "      <td>-44.822480</td>\n",
       "      <td>-0.392100</td>\n",
       "      <td>-17.567530</td>\n",
       "    </tr>\n",
       "    <tr>\n",
       "      <th>25%</th>\n",
       "      <td>-0.608970</td>\n",
       "      <td>0.047260</td>\n",
       "      <td>-5.026620</td>\n",
       "      <td>-10.438470</td>\n",
       "      <td>-25.907990</td>\n",
       "      <td>21.660420</td>\n",
       "      <td>0.406170</td>\n",
       "    </tr>\n",
       "    <tr>\n",
       "      <th>50%</th>\n",
       "      <td>-0.063410</td>\n",
       "      <td>3.296410</td>\n",
       "      <td>0.109740</td>\n",
       "      <td>-0.042370</td>\n",
       "      <td>-7.544550</td>\n",
       "      <td>83.905200</td>\n",
       "      <td>69.691950</td>\n",
       "    </tr>\n",
       "    <tr>\n",
       "      <th>75%</th>\n",
       "      <td>0.612090</td>\n",
       "      <td>7.602780</td>\n",
       "      <td>5.510740</td>\n",
       "      <td>4.578130</td>\n",
       "      <td>0.657260</td>\n",
       "      <td>216.177610</td>\n",
       "      <td>168.372510</td>\n",
       "    </tr>\n",
       "    <tr>\n",
       "      <th>max</th>\n",
       "      <td>4.840330</td>\n",
       "      <td>20.694590</td>\n",
       "      <td>24.239190</td>\n",
       "      <td>140.795700</td>\n",
       "      <td>223.064370</td>\n",
       "      <td>2227.927820</td>\n",
       "      <td>7852.089700</td>\n",
       "    </tr>\n",
       "  </tbody>\n",
       "</table>\n",
       "</div>"
      ],
      "text/plain": [
       "       price_change_percentage_24h  price_change_percentage_7d  \\\n",
       "count                    41.000000                   41.000000   \n",
       "mean                     -0.269686                    4.497147   \n",
       "std                       2.694793                    6.375218   \n",
       "min                     -13.527860                   -6.094560   \n",
       "25%                      -0.608970                    0.047260   \n",
       "50%                      -0.063410                    3.296410   \n",
       "75%                       0.612090                    7.602780   \n",
       "max                       4.840330                   20.694590   \n",
       "\n",
       "       price_change_percentage_14d  price_change_percentage_30d  \\\n",
       "count                    41.000000                    41.000000   \n",
       "mean                      0.185787                     1.545693   \n",
       "std                       8.376939                    26.344218   \n",
       "min                     -18.158900                   -34.705480   \n",
       "25%                      -5.026620                   -10.438470   \n",
       "50%                       0.109740                    -0.042370   \n",
       "75%                       5.510740                     4.578130   \n",
       "max                      24.239190                   140.795700   \n",
       "\n",
       "       price_change_percentage_60d  price_change_percentage_200d  \\\n",
       "count                    41.000000                     41.000000   \n",
       "mean                     -0.094119                    236.537432   \n",
       "std                      47.365803                    435.225304   \n",
       "min                     -44.822480                     -0.392100   \n",
       "25%                     -25.907990                     21.660420   \n",
       "50%                      -7.544550                     83.905200   \n",
       "75%                       0.657260                    216.177610   \n",
       "max                     223.064370                   2227.927820   \n",
       "\n",
       "       price_change_percentage_1y  \n",
       "count                   41.000000  \n",
       "mean                   347.667956  \n",
       "std                   1247.842884  \n",
       "min                    -17.567530  \n",
       "25%                      0.406170  \n",
       "50%                     69.691950  \n",
       "75%                    168.372510  \n",
       "max                   7852.089700  "
      ]
     },
     "execution_count": 167,
     "metadata": {},
     "output_type": "execute_result"
    }
   ],
   "source": [
    "# Generate summary statistics\n",
    "df_market_data.describe()"
   ]
  },
  {
   "cell_type": "code",
   "execution_count": 168,
   "metadata": {},
   "outputs": [
    {
     "data": {},
     "metadata": {},
     "output_type": "display_data"
    },
    {
     "data": {
      "application/vnd.holoviews_exec.v0+json": "",
      "text/html": [
<<<<<<< Updated upstream
       "<div id='p1002'>\n",
       "  <div id=\"f3024fb0-0a53-41db-994e-ac23b86fad1a\" data-root-id=\"p1002\" style=\"display: contents;\"></div>\n",
=======
       "<div id='4911'>\n",
       "  <div class=\"bk-root\" id=\"8971114d-55a1-4493-95ea-7259568b9786\" data-root-id=\"4911\"></div>\n",
>>>>>>> Stashed changes
       "</div>\n",
       "<script type=\"application/javascript\">(function(root) {\n",
       "  var docs_json = {\"8a500df0-33e9-487e-a957-003257b0195d\":{\"version\":\"3.1.1\",\"title\":\"Bokeh Application\",\"defs\":[{\"type\":\"model\",\"name\":\"ReactiveHTML1\"},{\"type\":\"model\",\"name\":\"FlexBox1\",\"properties\":[{\"name\":\"align_content\",\"kind\":\"Any\",\"default\":\"flex-start\"},{\"name\":\"align_items\",\"kind\":\"Any\",\"default\":\"flex-start\"},{\"name\":\"flex_direction\",\"kind\":\"Any\",\"default\":\"row\"},{\"name\":\"flex_wrap\",\"kind\":\"Any\",\"default\":\"wrap\"},{\"name\":\"justify_content\",\"kind\":\"Any\",\"default\":\"flex-start\"}]},{\"type\":\"model\",\"name\":\"FloatPanel1\",\"properties\":[{\"name\":\"config\",\"kind\":\"Any\",\"default\":{\"type\":\"map\"}},{\"name\":\"contained\",\"kind\":\"Any\",\"default\":true},{\"name\":\"position\",\"kind\":\"Any\",\"default\":\"right-top\"},{\"name\":\"offsetx\",\"kind\":\"Any\",\"default\":null},{\"name\":\"offsety\",\"kind\":\"Any\",\"default\":null},{\"name\":\"theme\",\"kind\":\"Any\",\"default\":\"primary\"},{\"name\":\"status\",\"kind\":\"Any\",\"default\":\"normalized\"}]},{\"type\":\"model\",\"name\":\"GridStack1\",\"properties\":[{\"name\":\"mode\",\"kind\":\"Any\",\"default\":\"warn\"},{\"name\":\"ncols\",\"kind\":\"Any\",\"default\":null},{\"name\":\"nrows\",\"kind\":\"Any\",\"default\":null},{\"name\":\"allow_resize\",\"kind\":\"Any\",\"default\":true},{\"name\":\"allow_drag\",\"kind\":\"Any\",\"default\":true},{\"name\":\"state\",\"kind\":\"Any\",\"default\":[]}]},{\"type\":\"model\",\"name\":\"drag1\",\"properties\":[{\"name\":\"slider_width\",\"kind\":\"Any\",\"default\":5},{\"name\":\"slider_color\",\"kind\":\"Any\",\"default\":\"black\"},{\"name\":\"value\",\"kind\":\"Any\",\"default\":50}]},{\"type\":\"model\",\"name\":\"click1\",\"properties\":[{\"name\":\"terminal_output\",\"kind\":\"Any\",\"default\":\"\"},{\"name\":\"debug_name\",\"kind\":\"Any\",\"default\":\"\"},{\"name\":\"clears\",\"kind\":\"Any\",\"default\":0}]},{\"type\":\"model\",\"name\":\"FastWrapper1\",\"properties\":[{\"name\":\"object\",\"kind\":\"Any\",\"default\":null},{\"name\":\"style\",\"kind\":\"Any\",\"default\":null}]},{\"type\":\"model\",\"name\":\"NotificationAreaBase1\",\"properties\":[{\"name\":\"position\",\"kind\":\"Any\",\"default\":\"bottom-right\"},{\"name\":\"_clear\",\"kind\":\"Any\",\"default\":0}]},{\"type\":\"model\",\"name\":\"NotificationArea1\",\"properties\":[{\"name\":\"notifications\",\"kind\":\"Any\",\"default\":[]},{\"name\":\"position\",\"kind\":\"Any\",\"default\":\"bottom-right\"},{\"name\":\"_clear\",\"kind\":\"Any\",\"default\":0},{\"name\":\"types\",\"kind\":\"Any\",\"default\":[{\"type\":\"map\",\"entries\":[[\"type\",\"warning\"],[\"background\",\"#ffc107\"],[\"icon\",{\"type\":\"map\",\"entries\":[[\"className\",\"fas fa-exclamation-triangle\"],[\"tagName\",\"i\"],[\"color\",\"white\"]]}]]},{\"type\":\"map\",\"entries\":[[\"type\",\"info\"],[\"background\",\"#007bff\"],[\"icon\",{\"type\":\"map\",\"entries\":[[\"className\",\"fas fa-info-circle\"],[\"tagName\",\"i\"],[\"color\",\"white\"]]}]]}]}]},{\"type\":\"model\",\"name\":\"Notification\",\"properties\":[{\"name\":\"background\",\"kind\":\"Any\",\"default\":null},{\"name\":\"duration\",\"kind\":\"Any\",\"default\":3000},{\"name\":\"icon\",\"kind\":\"Any\",\"default\":null},{\"name\":\"message\",\"kind\":\"Any\",\"default\":\"\"},{\"name\":\"notification_type\",\"kind\":\"Any\",\"default\":null},{\"name\":\"_destroyed\",\"kind\":\"Any\",\"default\":false}]},{\"type\":\"model\",\"name\":\"TemplateActions1\",\"properties\":[{\"name\":\"open_modal\",\"kind\":\"Any\",\"default\":0},{\"name\":\"close_modal\",\"kind\":\"Any\",\"default\":0}]},{\"type\":\"model\",\"name\":\"BootstrapTemplateActions1\",\"properties\":[{\"name\":\"open_modal\",\"kind\":\"Any\",\"default\":0},{\"name\":\"close_modal\",\"kind\":\"Any\",\"default\":0}]},{\"type\":\"model\",\"name\":\"MaterialTemplateActions1\",\"properties\":[{\"name\":\"open_modal\",\"kind\":\"Any\",\"default\":0},{\"name\":\"close_modal\",\"kind\":\"Any\",\"default\":0}]}],\"roots\":[{\"type\":\"object\",\"name\":\"Row\",\"id\":\"p1002\",\"attributes\":{\"name\":\"Row01057\",\"tags\":[\"embedded\"],\"stylesheets\":[\"\\n:host(.pn-loading.pn-arc):before, .pn-loading.pn-arc:before {\\n  background-image: url(\\\"data:image/svg+xml;base64,PHN2ZyB4bWxucz0iaHR0cDovL3d3dy53My5vcmcvMjAwMC9zdmciIHN0eWxlPSJtYXJnaW46IGF1dG87IGJhY2tncm91bmQ6IG5vbmU7IGRpc3BsYXk6IGJsb2NrOyBzaGFwZS1yZW5kZXJpbmc6IGF1dG87IiB2aWV3Qm94PSIwIDAgMTAwIDEwMCIgcHJlc2VydmVBc3BlY3RSYXRpbz0ieE1pZFlNaWQiPiAgPGNpcmNsZSBjeD0iNTAiIGN5PSI1MCIgZmlsbD0ibm9uZSIgc3Ryb2tlPSIjYzNjM2MzIiBzdHJva2Utd2lkdGg9IjEwIiByPSIzNSIgc3Ryb2tlLWRhc2hhcnJheT0iMTY0LjkzMzYxNDMxMzQ2NDE1IDU2Ljk3Nzg3MTQzNzgyMTM4Ij4gICAgPGFuaW1hdGVUcmFuc2Zvcm0gYXR0cmlidXRlTmFtZT0idHJhbnNmb3JtIiB0eXBlPSJyb3RhdGUiIHJlcGVhdENvdW50PSJpbmRlZmluaXRlIiBkdXI9IjFzIiB2YWx1ZXM9IjAgNTAgNTA7MzYwIDUwIDUwIiBrZXlUaW1lcz0iMDsxIj48L2FuaW1hdGVUcmFuc2Zvcm0+ICA8L2NpcmNsZT48L3N2Zz4=\\\");\\n  background-size: auto calc(min(50%, 400px));\\n}\",{\"type\":\"object\",\"name\":\"ImportedStyleSheet\",\"id\":\"p1005\",\"attributes\":{\"url\":\"https://cdn.holoviz.org/panel/1.1.0/dist/css/loading.css\"}},{\"type\":\"object\",\"name\":\"ImportedStyleSheet\",\"id\":\"p1221\",\"attributes\":{\"url\":\"https://cdn.holoviz.org/panel/1.1.0/dist/css/listpanel.css\"}},{\"type\":\"object\",\"name\":\"ImportedStyleSheet\",\"id\":\"p1003\",\"attributes\":{\"url\":\"https://cdn.holoviz.org/panel/1.1.0/dist/bundled/theme/default.css\"}},{\"type\":\"object\",\"name\":\"ImportedStyleSheet\",\"id\":\"p1004\",\"attributes\":{\"url\":\"https://cdn.holoviz.org/panel/1.1.0/dist/bundled/theme/native.css\"}}],\"min_width\":0,\"margin\":0,\"sizing_mode\":\"stretch_width\",\"align\":\"start\",\"children\":[{\"type\":\"object\",\"name\":\"Spacer\",\"id\":\"p1006\",\"attributes\":{\"name\":\"HSpacer01068\",\"stylesheets\":[\"\\n:host(.pn-loading.pn-arc):before, .pn-loading.pn-arc:before {\\n  background-image: url(\\\"data:image/svg+xml;base64,PHN2ZyB4bWxucz0iaHR0cDovL3d3dy53My5vcmcvMjAwMC9zdmciIHN0eWxlPSJtYXJnaW46IGF1dG87IGJhY2tncm91bmQ6IG5vbmU7IGRpc3BsYXk6IGJsb2NrOyBzaGFwZS1yZW5kZXJpbmc6IGF1dG87IiB2aWV3Qm94PSIwIDAgMTAwIDEwMCIgcHJlc2VydmVBc3BlY3RSYXRpbz0ieE1pZFlNaWQiPiAgPGNpcmNsZSBjeD0iNTAiIGN5PSI1MCIgZmlsbD0ibm9uZSIgc3Ryb2tlPSIjYzNjM2MzIiBzdHJva2Utd2lkdGg9IjEwIiByPSIzNSIgc3Ryb2tlLWRhc2hhcnJheT0iMTY0LjkzMzYxNDMxMzQ2NDE1IDU2Ljk3Nzg3MTQzNzgyMTM4Ij4gICAgPGFuaW1hdGVUcmFuc2Zvcm0gYXR0cmlidXRlTmFtZT0idHJhbnNmb3JtIiB0eXBlPSJyb3RhdGUiIHJlcGVhdENvdW50PSJpbmRlZmluaXRlIiBkdXI9IjFzIiB2YWx1ZXM9IjAgNTAgNTA7MzYwIDUwIDUwIiBrZXlUaW1lcz0iMDsxIj48L2FuaW1hdGVUcmFuc2Zvcm0+ICA8L2NpcmNsZT48L3N2Zz4=\\\");\\n  background-size: auto calc(min(50%, 400px));\\n}\",{\"id\":\"p1005\"},{\"id\":\"p1003\"},{\"id\":\"p1004\"}],\"margin\":0,\"sizing_mode\":\"stretch_width\",\"align\":\"start\"}},{\"type\":\"object\",\"name\":\"Figure\",\"id\":\"p1018\",\"attributes\":{\"width\":800,\"height\":400,\"margin\":[5,10],\"sizing_mode\":\"fixed\",\"align\":\"start\",\"x_range\":{\"type\":\"object\",\"name\":\"FactorRange\",\"id\":\"p1007\",\"attributes\":{\"tags\":[[[\"coin_id\",\"coin_id\",null]],[]],\"factors\":[\"bitcoin\",\"ethereum\",\"tether\",\"ripple\",\"bitcoin-cash\",\"binancecoin\",\"chainlink\",\"cardano\",\"litecoin\",\"bitcoin-cash-sv\",\"crypto-com-chain\",\"usd-coin\",\"eos\",\"monero\",\"tron\",\"tezos\",\"okb\",\"stellar\",\"cosmos\",\"cdai\",\"neo\",\"wrapped-bitcoin\",\"leo-token\",\"huobi-token\",\"nem\",\"binance-usd\",\"iota\",\"vechain\",\"zcash\",\"theta-token\",\"dash\",\"ethereum-classic\",\"ethlend\",\"maker\",\"havven\",\"omisego\",\"celsius-degree-token\",\"ontology\",\"ftx-token\",\"true-usd\",\"digibyte\"]}},\"y_range\":{\"type\":\"object\",\"name\":\"Range1d\",\"id\":\"p1008\",\"attributes\":{\"tags\":[[[\"value\",\"value\",null]],{\"type\":\"map\",\"entries\":[[\"invert_yaxis\",false],[\"autorange\",false]]}],\"start\":-834.5136980000001,\"end\":8641.780918,\"reset_start\":-834.5136980000001,\"reset_end\":8641.780918}},\"x_scale\":{\"type\":\"object\",\"name\":\"CategoricalScale\",\"id\":\"p1030\"},\"y_scale\":{\"type\":\"object\",\"name\":\"LinearScale\",\"id\":\"p1031\"},\"title\":{\"type\":\"object\",\"name\":\"Title\",\"id\":\"p1021\",\"attributes\":{\"text_color\":\"black\",\"text_font_size\":\"12pt\"}},\"renderers\":[{\"type\":\"object\",\"name\":\"GlyphRenderer\",\"id\":\"p1075\",\"attributes\":{\"name\":\"price_change_percentage_24h\",\"data_source\":{\"type\":\"object\",\"name\":\"ColumnDataSource\",\"id\":\"p1065\",\"attributes\":{\"selected\":{\"type\":\"object\",\"name\":\"Selection\",\"id\":\"p1066\",\"attributes\":{\"indices\":[],\"line_indices\":[]}},\"selection_policy\":{\"type\":\"object\",\"name\":\"UnionRenderers\",\"id\":\"p1067\"},\"data\":{\"type\":\"map\",\"entries\":[[\"coin_id\",[\"bitcoin\",\"ethereum\",\"tether\",\"ripple\",\"bitcoin-cash\",\"binancecoin\",\"chainlink\",\"cardano\",\"litecoin\",\"bitcoin-cash-sv\",\"crypto-com-chain\",\"usd-coin\",\"eos\",\"monero\",\"tron\",\"tezos\",\"okb\",\"stellar\",\"cosmos\",\"cdai\",\"neo\",\"wrapped-bitcoin\",\"leo-token\",\"huobi-token\",\"nem\",\"binance-usd\",\"iota\",\"vechain\",\"zcash\",\"theta-token\",\"dash\",\"ethereum-classic\",\"ethlend\",\"maker\",\"havven\",\"omisego\",\"celsius-degree-token\",\"ontology\",\"ftx-token\",\"true-usd\",\"digibyte\"]],[\"value\",{\"type\":\"ndarray\",\"array\":{\"type\":\"bytes\",\"data\":\"nZ0MjpJX8T8MzXUaaanMP5mByvj3Gcu/wCZr1EM02L8ep+hILj8HQL0Yyol21QBAwhcmUwWjzr//CS5W1GBqP7JGPUSjO7C/QKTfvg6c7T8urYbEPZbjPzeJQWDl0Ma/1pC4x9KHwj87NgLxun7bP90HILWJk7M/JjYf14aK5b83iUFg5dAFwG3i5H6HIvC/5nlwd9Zu7r9i83FtqBjLP+iHEcKjjd8/M9yAzw+j8T/fGtgqweLAv+RmuAGfH9q/UdobfGEy678D7KNTVz67v8YzaOif4No/teBFX0Ga9D8G2Eenrnzjvx+duvJZPhLAoMN8eQH28L+cxCCwcmjdv667eapDDivAX5hMFYxK479EUaBP5EkQwAZkr3d/XBNA0JuKVBgbBEDqBDQRNrz1vxo09E9wseo/tI6qJoi6r79qMA3DR8QHQA==\"},\"shape\":[41],\"dtype\":\"float64\",\"order\":\"little\"}],[\"Variable\",[\"price_change_percentage_24h\",\"price_change_percentage_24h\",\"price_change_percentage_24h\",\"price_change_percentage_24h\",\"price_change_percentage_24h\",\"price_change_percentage_24h\",\"price_change_percentage_24h\",\"price_change_percentage_24h\",\"price_change_percentage_24h\",\"price_change_percentage_24h\",\"price_change_percentage_24h\",\"price_change_percentage_24h\",\"price_change_percentage_24h\",\"price_change_percentage_24h\",\"price_change_percentage_24h\",\"price_change_percentage_24h\",\"price_change_percentage_24h\",\"price_change_percentage_24h\",\"price_change_percentage_24h\",\"price_change_percentage_24h\",\"price_change_percentage_24h\",\"price_change_percentage_24h\",\"price_change_percentage_24h\",\"price_change_percentage_24h\",\"price_change_percentage_24h\",\"price_change_percentage_24h\",\"price_change_percentage_24h\",\"price_change_percentage_24h\",\"price_change_percentage_24h\",\"price_change_percentage_24h\",\"price_change_percentage_24h\",\"price_change_percentage_24h\",\"price_change_percentage_24h\",\"price_change_percentage_24h\",\"price_change_percentage_24h\",\"price_change_percentage_24h\",\"price_change_percentage_24h\",\"price_change_percentage_24h\",\"price_change_percentage_24h\",\"price_change_percentage_24h\",\"price_change_percentage_24h\"]]]}}},\"view\":{\"type\":\"object\",\"name\":\"CDSView\",\"id\":\"p1076\",\"attributes\":{\"filter\":{\"type\":\"object\",\"name\":\"AllIndices\",\"id\":\"p1077\"}}},\"glyph\":{\"type\":\"object\",\"name\":\"Line\",\"id\":\"p1072\",\"attributes\":{\"tags\":[\"apply_ranges\"],\"x\":{\"type\":\"field\",\"field\":\"coin_id\"},\"y\":{\"type\":\"field\",\"field\":\"value\"},\"line_color\":\"#30a2da\",\"line_width\":2}},\"selection_glyph\":{\"type\":\"object\",\"name\":\"Line\",\"id\":\"p1080\",\"attributes\":{\"tags\":[\"apply_ranges\"],\"x\":{\"type\":\"field\",\"field\":\"coin_id\"},\"y\":{\"type\":\"field\",\"field\":\"value\"},\"line_color\":\"#30a2da\",\"line_width\":2}},\"nonselection_glyph\":{\"type\":\"object\",\"name\":\"Line\",\"id\":\"p1073\",\"attributes\":{\"tags\":[\"apply_ranges\"],\"x\":{\"type\":\"field\",\"field\":\"coin_id\"},\"y\":{\"type\":\"field\",\"field\":\"value\"},\"line_color\":\"#30a2da\",\"line_alpha\":0.1,\"line_width\":2}},\"muted_glyph\":{\"type\":\"object\",\"name\":\"Line\",\"id\":\"p1074\",\"attributes\":{\"tags\":[\"apply_ranges\"],\"x\":{\"type\":\"field\",\"field\":\"coin_id\"},\"y\":{\"type\":\"field\",\"field\":\"value\"},\"line_color\":\"#30a2da\",\"line_alpha\":0.2,\"line_width\":2}}}},{\"type\":\"object\",\"name\":\"GlyphRenderer\",\"id\":\"p1091\",\"attributes\":{\"name\":\"price_change_percentage_7d\",\"data_source\":{\"type\":\"object\",\"name\":\"ColumnDataSource\",\"id\":\"p1081\",\"attributes\":{\"selected\":{\"type\":\"object\",\"name\":\"Selection\",\"id\":\"p1082\",\"attributes\":{\"indices\":[],\"line_indices\":[]}},\"selection_policy\":{\"type\":\"object\",\"name\":\"UnionRenderers\",\"id\":\"p1083\"},\"data\":{\"type\":\"map\",\"entries\":[[\"coin_id\",[\"bitcoin\",\"ethereum\",\"tether\",\"ripple\",\"bitcoin-cash\",\"binancecoin\",\"chainlink\",\"cardano\",\"litecoin\",\"bitcoin-cash-sv\",\"crypto-com-chain\",\"usd-coin\",\"eos\",\"monero\",\"tron\",\"tezos\",\"okb\",\"stellar\",\"cosmos\",\"cdai\",\"neo\",\"wrapped-bitcoin\",\"leo-token\",\"huobi-token\",\"nem\",\"binance-usd\",\"iota\",\"vechain\",\"zcash\",\"theta-token\",\"dash\",\"ethereum-classic\",\"ethlend\",\"maker\",\"havven\",\"omisego\",\"celsius-degree-token\",\"ontology\",\"ftx-token\",\"true-usd\",\"digibyte\"]],[\"value\",{\"type\":\"ndarray\",\"array\":{\"type\":\"bytes\",\"data\":\"RbsKKT9pHkAzUBn/PsMkQL99HThnRKk/yVnY0w5/47/+JhQi4BgxQBL3WPrQtSlA7yB2ptCxNEA/jBAebfwrQPFL/bypaBpArKjBNAxfCkByv0NRoK8WwPlJtU/HY76/lPsdigL99L+n6Egu/5EvQE1KQbeX9BBA0m9fB87pIUBlU67wLjcSwKbtX1lpkgBAZwqd19gVMEBcIEHxY8ytP3wnZr0YigNAOh4zUBmfHUD3Hi457pT1vzNQGf8+4/k/kQ96Nqs+6781Y9F0djKoP2dEaW/wRRhAgXhdv2A3/L/8GHPXErIkQP8JLlbUYBjAVU0QdR9gFEDRlnMprmoIQGCrBIvD2RBAAiuHFtlOIECbG9MTllgRQKhXyjLEURtAqn06HjNQ4z+UvDrHgGzzvwltOZfiahxAsD2zJEBNxT8yj/zBwHPlPw==\"},\"shape\":[41],\"dtype\":\"float64\",\"order\":\"little\"}],[\"Variable\",[\"price_change_percentage_7d\",\"price_change_percentage_7d\",\"price_change_percentage_7d\",\"price_change_percentage_7d\",\"price_change_percentage_7d\",\"price_change_percentage_7d\",\"price_change_percentage_7d\",\"price_change_percentage_7d\",\"price_change_percentage_7d\",\"price_change_percentage_7d\",\"price_change_percentage_7d\",\"price_change_percentage_7d\",\"price_change_percentage_7d\",\"price_change_percentage_7d\",\"price_change_percentage_7d\",\"price_change_percentage_7d\",\"price_change_percentage_7d\",\"price_change_percentage_7d\",\"price_change_percentage_7d\",\"price_change_percentage_7d\",\"price_change_percentage_7d\",\"price_change_percentage_7d\",\"price_change_percentage_7d\",\"price_change_percentage_7d\",\"price_change_percentage_7d\",\"price_change_percentage_7d\",\"price_change_percentage_7d\",\"price_change_percentage_7d\",\"price_change_percentage_7d\",\"price_change_percentage_7d\",\"price_change_percentage_7d\",\"price_change_percentage_7d\",\"price_change_percentage_7d\",\"price_change_percentage_7d\",\"price_change_percentage_7d\",\"price_change_percentage_7d\",\"price_change_percentage_7d\",\"price_change_percentage_7d\",\"price_change_percentage_7d\",\"price_change_percentage_7d\",\"price_change_percentage_7d\"]]]}}},\"view\":{\"type\":\"object\",\"name\":\"CDSView\",\"id\":\"p1092\",\"attributes\":{\"filter\":{\"type\":\"object\",\"name\":\"AllIndices\",\"id\":\"p1093\"}}},\"glyph\":{\"type\":\"object\",\"name\":\"Line\",\"id\":\"p1088\",\"attributes\":{\"tags\":[\"apply_ranges\"],\"x\":{\"type\":\"field\",\"field\":\"coin_id\"},\"y\":{\"type\":\"field\",\"field\":\"value\"},\"line_color\":\"#fc4f30\",\"line_width\":2}},\"selection_glyph\":{\"type\":\"object\",\"name\":\"Line\",\"id\":\"p1095\",\"attributes\":{\"tags\":[\"apply_ranges\"],\"x\":{\"type\":\"field\",\"field\":\"coin_id\"},\"y\":{\"type\":\"field\",\"field\":\"value\"},\"line_color\":\"#fc4f30\",\"line_width\":2}},\"nonselection_glyph\":{\"type\":\"object\",\"name\":\"Line\",\"id\":\"p1089\",\"attributes\":{\"tags\":[\"apply_ranges\"],\"x\":{\"type\":\"field\",\"field\":\"coin_id\"},\"y\":{\"type\":\"field\",\"field\":\"value\"},\"line_color\":\"#fc4f30\",\"line_alpha\":0.1,\"line_width\":2}},\"muted_glyph\":{\"type\":\"object\",\"name\":\"Line\",\"id\":\"p1090\",\"attributes\":{\"tags\":[\"apply_ranges\"],\"x\":{\"type\":\"field\",\"field\":\"coin_id\"},\"y\":{\"type\":\"field\",\"field\":\"value\"},\"line_color\":\"#fc4f30\",\"line_alpha\":0.2,\"line_width\":2}}}},{\"type\":\"object\",\"name\":\"GlyphRenderer\",\"id\":\"p1106\",\"attributes\":{\"name\":\"price_change_percentage_14d\",\"data_source\":{\"type\":\"object\",\"name\":\"ColumnDataSource\",\"id\":\"p1096\",\"attributes\":{\"selected\":{\"type\":\"object\",\"name\":\"Selection\",\"id\":\"p1097\",\"attributes\":{\"indices\":[],\"line_indices\":[]}},\"selection_policy\":{\"type\":\"object\",\"name\":\"UnionRenderers\",\"id\":\"p1098\"},\"data\":{\"type\":\"map\",\"entries\":[[\"coin_id\",[\"bitcoin\",\"ethereum\",\"tether\",\"ripple\",\"bitcoin-cash\",\"binancecoin\",\"chainlink\",\"cardano\",\"litecoin\",\"bitcoin-cash-sv\",\"crypto-com-chain\",\"usd-coin\",\"eos\",\"monero\",\"tron\",\"tezos\",\"okb\",\"stellar\",\"cosmos\",\"cdai\",\"neo\",\"wrapped-bitcoin\",\"leo-token\",\"huobi-token\",\"nem\",\"binance-usd\",\"iota\",\"vechain\",\"zcash\",\"theta-token\",\"dash\",\"ethereum-classic\",\"ethlend\",\"maker\",\"havven\",\"omisego\",\"celsius-degree-token\",\"ontology\",\"ftx-token\",\"true-usd\",\"digibyte\"]],[\"value\",{\"type\":\"ndarray\",\"array\":{\"type\":\"bytes\",\"data\":\"zQaZZORMGkB5knTN5DsTQC1DHOviNno/ctwpHaz/AUCLic3HtYEtQJgvL8A+OhtACoDxDBqaIkAOhGQBEzgWQICfceFAKB1AIVnABG7d/b8xsfm4NhQhwGtI3GPpQ3e/pfeNrz0z8j8ao3VUNWkyQBUA4xk0dPY/VIzzN6GQAkCXrfVFQhsUwKpla32RUPG/Qgkzbf8KFkDPg7uzdtvFP8MN+PwwsiPAYFlpUgo6GkB3+GuyRh0cwM2v5gDBHN0/jliLTwEwBUDWrZ6T3jeuP7pOIy2VNw7Am1Wfq60oMsAJM23/yioXQJfK2xFOSxrAQE0tW+uL4D9OucK7XET0v0SLbOf7mSPA/pqsUQ/R978vaYzWUZUqwDtT6LzGbirAvodLjjs9OEByUMJM2x8lwJ30vvG1Z8q/ZCMQr+sXvD+7D0BqE0cdwA==\"},\"shape\":[41],\"dtype\":\"float64\",\"order\":\"little\"}],[\"Variable\",[\"price_change_percentage_14d\",\"price_change_percentage_14d\",\"price_change_percentage_14d\",\"price_change_percentage_14d\",\"price_change_percentage_14d\",\"price_change_percentage_14d\",\"price_change_percentage_14d\",\"price_change_percentage_14d\",\"price_change_percentage_14d\",\"price_change_percentage_14d\",\"price_change_percentage_14d\",\"price_change_percentage_14d\",\"price_change_percentage_14d\",\"price_change_percentage_14d\",\"price_change_percentage_14d\",\"price_change_percentage_14d\",\"price_change_percentage_14d\",\"price_change_percentage_14d\",\"price_change_percentage_14d\",\"price_change_percentage_14d\",\"price_change_percentage_14d\",\"price_change_percentage_14d\",\"price_change_percentage_14d\",\"price_change_percentage_14d\",\"price_change_percentage_14d\",\"price_change_percentage_14d\",\"price_change_percentage_14d\",\"price_change_percentage_14d\",\"price_change_percentage_14d\",\"price_change_percentage_14d\",\"price_change_percentage_14d\",\"price_change_percentage_14d\",\"price_change_percentage_14d\",\"price_change_percentage_14d\",\"price_change_percentage_14d\",\"price_change_percentage_14d\",\"price_change_percentage_14d\",\"price_change_percentage_14d\",\"price_change_percentage_14d\",\"price_change_percentage_14d\",\"price_change_percentage_14d\"]]]}}},\"view\":{\"type\":\"object\",\"name\":\"CDSView\",\"id\":\"p1107\",\"attributes\":{\"filter\":{\"type\":\"object\",\"name\":\"AllIndices\",\"id\":\"p1108\"}}},\"glyph\":{\"type\":\"object\",\"name\":\"Line\",\"id\":\"p1103\",\"attributes\":{\"tags\":[\"apply_ranges\"],\"x\":{\"type\":\"field\",\"field\":\"coin_id\"},\"y\":{\"type\":\"field\",\"field\":\"value\"},\"line_color\":\"#e5ae38\",\"line_width\":2}},\"selection_glyph\":{\"type\":\"object\",\"name\":\"Line\",\"id\":\"p1110\",\"attributes\":{\"tags\":[\"apply_ranges\"],\"x\":{\"type\":\"field\",\"field\":\"coin_id\"},\"y\":{\"type\":\"field\",\"field\":\"value\"},\"line_color\":\"#e5ae38\",\"line_width\":2}},\"nonselection_glyph\":{\"type\":\"object\",\"name\":\"Line\",\"id\":\"p1104\",\"attributes\":{\"tags\":[\"apply_ranges\"],\"x\":{\"type\":\"field\",\"field\":\"coin_id\"},\"y\":{\"type\":\"field\",\"field\":\"value\"},\"line_color\":\"#e5ae38\",\"line_alpha\":0.1,\"line_width\":2}},\"muted_glyph\":{\"type\":\"object\",\"name\":\"Line\",\"id\":\"p1105\",\"attributes\":{\"tags\":[\"apply_ranges\"],\"x\":{\"type\":\"field\",\"field\":\"coin_id\"},\"y\":{\"type\":\"field\",\"field\":\"value\"},\"line_color\":\"#e5ae38\",\"line_alpha\":0.2,\"line_width\":2}}}},{\"type\":\"object\",\"name\":\"GlyphRenderer\",\"id\":\"p1121\",\"attributes\":{\"name\":\"price_change_percentage_30d\",\"data_source\":{\"type\":\"object\",\"name\":\"ColumnDataSource\",\"id\":\"p1111\",\"attributes\":{\"selected\":{\"type\":\"object\",\"name\":\"Selection\",\"id\":\"p1112\",\"attributes\":{\"indices\":[],\"line_indices\":[]}},\"selection_policy\":{\"type\":\"object\",\"name\":\"UnionRenderers\",\"id\":\"p1113\"},\"data\":{\"type\":\"map\",\"entries\":[[\"coin_id\",[\"bitcoin\",\"ethereum\",\"tether\",\"ripple\",\"bitcoin-cash\",\"binancecoin\",\"chainlink\",\"cardano\",\"litecoin\",\"bitcoin-cash-sv\",\"crypto-com-chain\",\"usd-coin\",\"eos\",\"monero\",\"tron\",\"tezos\",\"okb\",\"stellar\",\"cosmos\",\"cdai\",\"neo\",\"wrapped-bitcoin\",\"leo-token\",\"huobi-token\",\"nem\",\"binance-usd\",\"iota\",\"vechain\",\"zcash\",\"theta-token\",\"dash\",\"ethereum-classic\",\"ethlend\",\"maker\",\"havven\",\"omisego\",\"celsius-degree-token\",\"ontology\",\"ftx-token\",\"true-usd\",\"digibyte\"]],[\"value\",{\"type\":\"ndarray\",\"array\":{\"type\":\"bytes\",\"data\":\"VMa/z7iwHkAl6ZrJN9vAP/28qUiFsaW/L26jAbwFzj8dcjPcgH8vQPMf0m9fB64/5bhTOlhvJsBnfjUHCDYkQGWNeohGd/M/sCDNWDQdB0Cmft5UpHIxwJgvL8A+OsW/t0WZDTKJEsDeVKTC2HpDQEzD8BExNSnAjWK5pdVALMDjjcwjf+AkwIrIsIo3QiDAjliLTwFQEkAWpBmLpnMBwE3WqIdo9DXAVG8NbJWAHUAnMQisHJoIQGA8g4b+CQrACcTr+gU7DcCPpQ9dUN+SP80Bgjl6nBDA9S1zuixWLMBC7Eyh83odQEku/yH9bj9AtTf4wmQqH8Am/FI/byoHQNjYJaq3/j3A9GxWfa62MECdRloqb9c0wF4R/G8lOyLArK3YX3aZYUC1/SsrTVpBwP/PYb68ICXAFR3J5T+knz+ndLD+z4EqQA==\"},\"shape\":[41],\"dtype\":\"float64\",\"order\":\"little\"}],[\"Variable\",[\"price_change_percentage_30d\",\"price_change_percentage_30d\",\"price_change_percentage_30d\",\"price_change_percentage_30d\",\"price_change_percentage_30d\",\"price_change_percentage_30d\",\"price_change_percentage_30d\",\"price_change_percentage_30d\",\"price_change_percentage_30d\",\"price_change_percentage_30d\",\"price_change_percentage_30d\",\"price_change_percentage_30d\",\"price_change_percentage_30d\",\"price_change_percentage_30d\",\"price_change_percentage_30d\",\"price_change_percentage_30d\",\"price_change_percentage_30d\",\"price_change_percentage_30d\",\"price_change_percentage_30d\",\"price_change_percentage_30d\",\"price_change_percentage_30d\",\"price_change_percentage_30d\",\"price_change_percentage_30d\",\"price_change_percentage_30d\",\"price_change_percentage_30d\",\"price_change_percentage_30d\",\"price_change_percentage_30d\",\"price_change_percentage_30d\",\"price_change_percentage_30d\",\"price_change_percentage_30d\",\"price_change_percentage_30d\",\"price_change_percentage_30d\",\"price_change_percentage_30d\",\"price_change_percentage_30d\",\"price_change_percentage_30d\",\"price_change_percentage_30d\",\"price_change_percentage_30d\",\"price_change_percentage_30d\",\"price_change_percentage_30d\",\"price_change_percentage_30d\",\"price_change_percentage_30d\"]]]}}},\"view\":{\"type\":\"object\",\"name\":\"CDSView\",\"id\":\"p1122\",\"attributes\":{\"filter\":{\"type\":\"object\",\"name\":\"AllIndices\",\"id\":\"p1123\"}}},\"glyph\":{\"type\":\"object\",\"name\":\"Line\",\"id\":\"p1118\",\"attributes\":{\"tags\":[\"apply_ranges\"],\"x\":{\"type\":\"field\",\"field\":\"coin_id\"},\"y\":{\"type\":\"field\",\"field\":\"value\"},\"line_color\":\"#6d904f\",\"line_width\":2}},\"selection_glyph\":{\"type\":\"object\",\"name\":\"Line\",\"id\":\"p1125\",\"attributes\":{\"tags\":[\"apply_ranges\"],\"x\":{\"type\":\"field\",\"field\":\"coin_id\"},\"y\":{\"type\":\"field\",\"field\":\"value\"},\"line_color\":\"#6d904f\",\"line_width\":2}},\"nonselection_glyph\":{\"type\":\"object\",\"name\":\"Line\",\"id\":\"p1119\",\"attributes\":{\"tags\":[\"apply_ranges\"],\"x\":{\"type\":\"field\",\"field\":\"coin_id\"},\"y\":{\"type\":\"field\",\"field\":\"value\"},\"line_color\":\"#6d904f\",\"line_alpha\":0.1,\"line_width\":2}},\"muted_glyph\":{\"type\":\"object\",\"name\":\"Line\",\"id\":\"p1120\",\"attributes\":{\"tags\":[\"apply_ranges\"],\"x\":{\"type\":\"field\",\"field\":\"coin_id\"},\"y\":{\"type\":\"field\",\"field\":\"value\"},\"line_color\":\"#6d904f\",\"line_alpha\":0.2,\"line_width\":2}}}},{\"type\":\"object\",\"name\":\"GlyphRenderer\",\"id\":\"p1136\",\"attributes\":{\"name\":\"price_change_percentage_60d\",\"data_source\":{\"type\":\"object\",\"name\":\"ColumnDataSource\",\"id\":\"p1126\",\"attributes\":{\"selected\":{\"type\":\"object\",\"name\":\"Selection\",\"id\":\"p1127\",\"attributes\":{\"indices\":[],\"line_indices\":[]}},\"selection_policy\":{\"type\":\"object\",\"name\":\"UnionRenderers\",\"id\":\"p1128\"},\"data\":{\"type\":\"map\",\"entries\":[[\"coin_id\",[\"bitcoin\",\"ethereum\",\"tether\",\"ripple\",\"bitcoin-cash\",\"binancecoin\",\"chainlink\",\"cardano\",\"litecoin\",\"bitcoin-cash-sv\",\"crypto-com-chain\",\"usd-coin\",\"eos\",\"monero\",\"tron\",\"tezos\",\"okb\",\"stellar\",\"cosmos\",\"cdai\",\"neo\",\"wrapped-bitcoin\",\"leo-token\",\"huobi-token\",\"nem\",\"binance-usd\",\"iota\",\"vechain\",\"zcash\",\"theta-token\",\"dash\",\"ethereum-classic\",\"ethlend\",\"maker\",\"havven\",\"omisego\",\"celsius-degree-token\",\"ontology\",\"ftx-token\",\"true-usd\",\"digibyte\"]],[\"value\",{\"type\":\"ndarray\",\"array\":{\"type\":\"bytes\",\"data\":\"FvvL7skDCsAs1JrmHccpwKjjMQOV8dE/2qz6XG2NMcBzol2FlG8rwIleRrHcKkJAN8MN+PzYRcBi26LMBtk2wCEf9GxWPTHAq5UJv9TfOMBg5dAi23kwwDygbMoV3qU/l631RUIrPsDNzMzMzNxEQJm7lpAPGhZAms5OBkdpRsBKe4MvTKYGwEsfuqC+zT7APL1SliHOHMC4AZ8fRgjlP9L7xteeCStAFqQZi6azDMCvJeSDni0ewDeOWItPQQvAXvQVpBm3VEDaOGItPgW4PwpLPKBsQkHAaw4QzNHPRcAJM23/yoo0wBmQvd79AVRAfa62Yn85OsBVGFsIcug5wLCsNCkFHQFA529CIQKeMsA0uoPYmbZDwPKwUGua0VNA/pqsUQ/ia0Ao8iTpmllAwFuxv+yenBdAmrFoOjsZ0D8s1JrmHRc/wA==\"},\"shape\":[41],\"dtype\":\"float64\",\"order\":\"little\"}],[\"Variable\",[\"price_change_percentage_60d\",\"price_change_percentage_60d\",\"price_change_percentage_60d\",\"price_change_percentage_60d\",\"price_change_percentage_60d\",\"price_change_percentage_60d\",\"price_change_percentage_60d\",\"price_change_percentage_60d\",\"price_change_percentage_60d\",\"price_change_percentage_60d\",\"price_change_percentage_60d\",\"price_change_percentage_60d\",\"price_change_percentage_60d\",\"price_change_percentage_60d\",\"price_change_percentage_60d\",\"price_change_percentage_60d\",\"price_change_percentage_60d\",\"price_change_percentage_60d\",\"price_change_percentage_60d\",\"price_change_percentage_60d\",\"price_change_percentage_60d\",\"price_change_percentage_60d\",\"price_change_percentage_60d\",\"price_change_percentage_60d\",\"price_change_percentage_60d\",\"price_change_percentage_60d\",\"price_change_percentage_60d\",\"price_change_percentage_60d\",\"price_change_percentage_60d\",\"price_change_percentage_60d\",\"price_change_percentage_60d\",\"price_change_percentage_60d\",\"price_change_percentage_60d\",\"price_change_percentage_60d\",\"price_change_percentage_60d\",\"price_change_percentage_60d\",\"price_change_percentage_60d\",\"price_change_percentage_60d\",\"price_change_percentage_60d\",\"price_change_percentage_60d\",\"price_change_percentage_60d\"]]]}}},\"view\":{\"type\":\"object\",\"name\":\"CDSView\",\"id\":\"p1137\",\"attributes\":{\"filter\":{\"type\":\"object\",\"name\":\"AllIndices\",\"id\":\"p1138\"}}},\"glyph\":{\"type\":\"object\",\"name\":\"Line\",\"id\":\"p1133\",\"attributes\":{\"tags\":[\"apply_ranges\"],\"x\":{\"type\":\"field\",\"field\":\"coin_id\"},\"y\":{\"type\":\"field\",\"field\":\"value\"},\"line_color\":\"#8b8b8b\",\"line_width\":2}},\"selection_glyph\":{\"type\":\"object\",\"name\":\"Line\",\"id\":\"p1140\",\"attributes\":{\"tags\":[\"apply_ranges\"],\"x\":{\"type\":\"field\",\"field\":\"coin_id\"},\"y\":{\"type\":\"field\",\"field\":\"value\"},\"line_color\":\"#8b8b8b\",\"line_width\":2}},\"nonselection_glyph\":{\"type\":\"object\",\"name\":\"Line\",\"id\":\"p1134\",\"attributes\":{\"tags\":[\"apply_ranges\"],\"x\":{\"type\":\"field\",\"field\":\"coin_id\"},\"y\":{\"type\":\"field\",\"field\":\"value\"},\"line_color\":\"#8b8b8b\",\"line_alpha\":0.1,\"line_width\":2}},\"muted_glyph\":{\"type\":\"object\",\"name\":\"Line\",\"id\":\"p1135\",\"attributes\":{\"tags\":[\"apply_ranges\"],\"x\":{\"type\":\"field\",\"field\":\"coin_id\"},\"y\":{\"type\":\"field\",\"field\":\"value\"},\"line_color\":\"#8b8b8b\",\"line_alpha\":0.2,\"line_width\":2}}}},{\"type\":\"object\",\"name\":\"GlyphRenderer\",\"id\":\"p1151\",\"attributes\":{\"name\":\"price_change_percentage_200d\",\"data_source\":{\"type\":\"object\",\"name\":\"ColumnDataSource\",\"id\":\"p1141\",\"attributes\":{\"selected\":{\"type\":\"object\",\"name\":\"Selection\",\"id\":\"p1142\",\"attributes\":{\"indices\":[],\"line_indices\":[]}},\"selection_policy\":{\"type\":\"object\",\"name\":\"UnionRenderers\",\"id\":\"p1143\"},\"data\":{\"type\":\"map\",\"entries\":[[\"coin_id\",[\"bitcoin\",\"ethereum\",\"tether\",\"ripple\",\"bitcoin-cash\",\"binancecoin\",\"chainlink\",\"cardano\",\"litecoin\",\"bitcoin-cash-sv\",\"crypto-com-chain\",\"usd-coin\",\"eos\",\"monero\",\"tron\",\"tezos\",\"okb\",\"stellar\",\"cosmos\",\"cdai\",\"neo\",\"wrapped-bitcoin\",\"leo-token\",\"huobi-token\",\"nem\",\"binance-usd\",\"iota\",\"vechain\",\"zcash\",\"theta-token\",\"dash\",\"ethereum-classic\",\"ethlend\",\"maker\",\"havven\",\"omisego\",\"celsius-degree-token\",\"ontology\",\"ftx-token\",\"true-usd\",\"digibyte\"]],[\"value\",{\"type\":\"ndarray\",\"array\":{\"type\":\"bytes\",\"data\":\"xY8xdy3hVED0piIVxlhnQBe86CtIM3a/9zsUBfrEQ0DTn/1IEak1QPTDCOHRc2NAl3MprqozeUAexM4UOohwQIB9dOrKfztAFhiyutWzHUCN7iB2plZsQIQqNXugFcS/ZHWr56QPMkALe9rhrzBlQH+8V61MnGBA5nlwd9a2RUARHm0csfpDQC+Lic3HJ1VAkj8YeO4/Z0AOvjCZKhjZv2vUQzS61GNAtRX7y+75VEC5GW7A52cwQAPso1NXHkVAKa4q+64Fa0A7NgLxun65P+TaUDHOwVdAyM1wAz7bcEAFwHgGDaNeQH3Qs1k1lYtAOUVHcvnvGEANGvonuMgkQCYZOQvbZ6FAGD4ipkSiVED5MeauZXeDQHi0ccQaSoJAC170FcTYmEB1PGagMmJLQC2yne+nvkxAndfYJaq3tr9R9wFIbSl+QA==\"},\"shape\":[41],\"dtype\":\"float64\",\"order\":\"little\"}],[\"Variable\",[\"price_change_percentage_200d\",\"price_change_percentage_200d\",\"price_change_percentage_200d\",\"price_change_percentage_200d\",\"price_change_percentage_200d\",\"price_change_percentage_200d\",\"price_change_percentage_200d\",\"price_change_percentage_200d\",\"price_change_percentage_200d\",\"price_change_percentage_200d\",\"price_change_percentage_200d\",\"price_change_percentage_200d\",\"price_change_percentage_200d\",\"price_change_percentage_200d\",\"price_change_percentage_200d\",\"price_change_percentage_200d\",\"price_change_percentage_200d\",\"price_change_percentage_200d\",\"price_change_percentage_200d\",\"price_change_percentage_200d\",\"price_change_percentage_200d\",\"price_change_percentage_200d\",\"price_change_percentage_200d\",\"price_change_percentage_200d\",\"price_change_percentage_200d\",\"price_change_percentage_200d\",\"price_change_percentage_200d\",\"price_change_percentage_200d\",\"price_change_percentage_200d\",\"price_change_percentage_200d\",\"price_change_percentage_200d\",\"price_change_percentage_200d\",\"price_change_percentage_200d\",\"price_change_percentage_200d\",\"price_change_percentage_200d\",\"price_change_percentage_200d\",\"price_change_percentage_200d\",\"price_change_percentage_200d\",\"price_change_percentage_200d\",\"price_change_percentage_200d\",\"price_change_percentage_200d\"]]]}}},\"view\":{\"type\":\"object\",\"name\":\"CDSView\",\"id\":\"p1152\",\"attributes\":{\"filter\":{\"type\":\"object\",\"name\":\"AllIndices\",\"id\":\"p1153\"}}},\"glyph\":{\"type\":\"object\",\"name\":\"Line\",\"id\":\"p1148\",\"attributes\":{\"tags\":[\"apply_ranges\"],\"x\":{\"type\":\"field\",\"field\":\"coin_id\"},\"y\":{\"type\":\"field\",\"field\":\"value\"},\"line_color\":\"#17becf\",\"line_width\":2}},\"selection_glyph\":{\"type\":\"object\",\"name\":\"Line\",\"id\":\"p1155\",\"attributes\":{\"tags\":[\"apply_ranges\"],\"x\":{\"type\":\"field\",\"field\":\"coin_id\"},\"y\":{\"type\":\"field\",\"field\":\"value\"},\"line_color\":\"#17becf\",\"line_width\":2}},\"nonselection_glyph\":{\"type\":\"object\",\"name\":\"Line\",\"id\":\"p1149\",\"attributes\":{\"tags\":[\"apply_ranges\"],\"x\":{\"type\":\"field\",\"field\":\"coin_id\"},\"y\":{\"type\":\"field\",\"field\":\"value\"},\"line_color\":\"#17becf\",\"line_alpha\":0.1,\"line_width\":2}},\"muted_glyph\":{\"type\":\"object\",\"name\":\"Line\",\"id\":\"p1150\",\"attributes\":{\"tags\":[\"apply_ranges\"],\"x\":{\"type\":\"field\",\"field\":\"coin_id\"},\"y\":{\"type\":\"field\",\"field\":\"value\"},\"line_color\":\"#17becf\",\"line_alpha\":0.2,\"line_width\":2}}}},{\"type\":\"object\",\"name\":\"GlyphRenderer\",\"id\":\"p1166\",\"attributes\":{\"name\":\"price_change_percentage_1y\",\"data_source\":{\"type\":\"object\",\"name\":\"ColumnDataSource\",\"id\":\"p1156\",\"attributes\":{\"selected\":{\"type\":\"object\",\"name\":\"Selection\",\"id\":\"p1157\",\"attributes\":{\"indices\":[],\"line_indices\":[]}},\"selection_policy\":{\"type\":\"object\",\"name\":\"UnionRenderers\",\"id\":\"p1158\"},\"data\":{\"type\":\"map\",\"entries\":[[\"coin_id\",[\"bitcoin\",\"ethereum\",\"tether\",\"ripple\",\"bitcoin-cash\",\"binancecoin\",\"chainlink\",\"cardano\",\"litecoin\",\"bitcoin-cash-sv\",\"crypto-com-chain\",\"usd-coin\",\"eos\",\"monero\",\"tron\",\"tezos\",\"okb\",\"stellar\",\"cosmos\",\"cdai\",\"neo\",\"wrapped-bitcoin\",\"leo-token\",\"huobi-token\",\"nem\",\"binance-usd\",\"iota\",\"vechain\",\"zcash\",\"theta-token\",\"dash\",\"ethereum-classic\",\"ethlend\",\"maker\",\"havven\",\"omisego\",\"celsius-degree-token\",\"ontology\",\"ftx-token\",\"true-usd\",\"digibyte\"]],[\"value\",{\"type\":\"ndarray\",\"array\":{\"type\":\"bytes\",\"data\":\"kQpjC0HCQkDWqIdodH1ZQN/42jNLApQ/NXugFRiaMMDN6bKY2PwsQOcdp+hIbFFAaTo7GRxSdEC6LCY2H4NjQPnaM0sCVCnA0NA/wcVuV0CQvd798RBzQL4wmSoYlci/t39lpUmRMcDovMYuUaFhQEPKT6p9nk1A6PaSxmiAYUBdUN8yp75hQMzuycNCnStAw7ZFmQ2cVEAHsTOFzmvSvx/0bFZ9aWBAhhvw+WHEQkAN/RNcrAA1QN8Vwf9WkjhAS7A4nPkWaUAVUn5S7dPBPzUk7rH04Q/AIsMq3shbaUBf0hito7hUQPyMCwcC64VAzsKedvirA8Dwoq8gzTgmQHRGlPYWrL5Ayk+qfTpOJUDfiVkvRjaFQEfJq3MMC3RAnFCIgONmn0CsVib8Uk8pwNttF5rrC2VAyXGndLD+2T/ZfFwbKgxnQA==\"},\"shape\":[41],\"dtype\":\"float64\",\"order\":\"little\"}],[\"Variable\",[\"price_change_percentage_1y\",\"price_change_percentage_1y\",\"price_change_percentage_1y\",\"price_change_percentage_1y\",\"price_change_percentage_1y\",\"price_change_percentage_1y\",\"price_change_percentage_1y\",\"price_change_percentage_1y\",\"price_change_percentage_1y\",\"price_change_percentage_1y\",\"price_change_percentage_1y\",\"price_change_percentage_1y\",\"price_change_percentage_1y\",\"price_change_percentage_1y\",\"price_change_percentage_1y\",\"price_change_percentage_1y\",\"price_change_percentage_1y\",\"price_change_percentage_1y\",\"price_change_percentage_1y\",\"price_change_percentage_1y\",\"price_change_percentage_1y\",\"price_change_percentage_1y\",\"price_change_percentage_1y\",\"price_change_percentage_1y\",\"price_change_percentage_1y\",\"price_change_percentage_1y\",\"price_change_percentage_1y\",\"price_change_percentage_1y\",\"price_change_percentage_1y\",\"price_change_percentage_1y\",\"price_change_percentage_1y\",\"price_change_percentage_1y\",\"price_change_percentage_1y\",\"price_change_percentage_1y\",\"price_change_percentage_1y\",\"price_change_percentage_1y\",\"price_change_percentage_1y\",\"price_change_percentage_1y\",\"price_change_percentage_1y\",\"price_change_percentage_1y\",\"price_change_percentage_1y\"]]]}}},\"view\":{\"type\":\"object\",\"name\":\"CDSView\",\"id\":\"p1167\",\"attributes\":{\"filter\":{\"type\":\"object\",\"name\":\"AllIndices\",\"id\":\"p1168\"}}},\"glyph\":{\"type\":\"object\",\"name\":\"Line\",\"id\":\"p1163\",\"attributes\":{\"tags\":[\"apply_ranges\"],\"x\":{\"type\":\"field\",\"field\":\"coin_id\"},\"y\":{\"type\":\"field\",\"field\":\"value\"},\"line_color\":\"#9467bd\",\"line_width\":2}},\"selection_glyph\":{\"type\":\"object\",\"name\":\"Line\",\"id\":\"p1170\",\"attributes\":{\"tags\":[\"apply_ranges\"],\"x\":{\"type\":\"field\",\"field\":\"coin_id\"},\"y\":{\"type\":\"field\",\"field\":\"value\"},\"line_color\":\"#9467bd\",\"line_width\":2}},\"nonselection_glyph\":{\"type\":\"object\",\"name\":\"Line\",\"id\":\"p1164\",\"attributes\":{\"tags\":[\"apply_ranges\"],\"x\":{\"type\":\"field\",\"field\":\"coin_id\"},\"y\":{\"type\":\"field\",\"field\":\"value\"},\"line_color\":\"#9467bd\",\"line_alpha\":0.1,\"line_width\":2}},\"muted_glyph\":{\"type\":\"object\",\"name\":\"Line\",\"id\":\"p1165\",\"attributes\":{\"tags\":[\"apply_ranges\"],\"x\":{\"type\":\"field\",\"field\":\"coin_id\"},\"y\":{\"type\":\"field\",\"field\":\"value\"},\"line_color\":\"#9467bd\",\"line_alpha\":0.2,\"line_width\":2}}}}],\"toolbar\":{\"type\":\"object\",\"name\":\"Toolbar\",\"id\":\"p1025\",\"attributes\":{\"tools\":[{\"type\":\"object\",\"name\":\"HoverTool\",\"id\":\"p1011\",\"attributes\":{\"tags\":[\"hv_created\"],\"renderers\":[{\"id\":\"p1075\"},{\"id\":\"p1091\"},{\"id\":\"p1106\"},{\"id\":\"p1121\"},{\"id\":\"p1136\"},{\"id\":\"p1151\"},{\"id\":\"p1166\"}],\"tooltips\":[[\"Variable\",\"@{Variable}\"],[\"coin_id\",\"@{coin_id}\"],[\"value\",\"@{value}\"]]}},{\"type\":\"object\",\"name\":\"SaveTool\",\"id\":\"p1045\"},{\"type\":\"object\",\"name\":\"PanTool\",\"id\":\"p1046\"},{\"type\":\"object\",\"name\":\"WheelZoomTool\",\"id\":\"p1047\"},{\"type\":\"object\",\"name\":\"BoxZoomTool\",\"id\":\"p1048\",\"attributes\":{\"overlay\":{\"type\":\"object\",\"name\":\"BoxAnnotation\",\"id\":\"p1049\",\"attributes\":{\"syncable\":false,\"level\":\"overlay\",\"visible\":false,\"left_units\":\"canvas\",\"right_units\":\"canvas\",\"bottom_units\":\"canvas\",\"top_units\":\"canvas\",\"line_color\":\"black\",\"line_alpha\":1.0,\"line_width\":2,\"line_dash\":[4,4],\"fill_color\":\"lightgrey\",\"fill_alpha\":0.5}}}},{\"type\":\"object\",\"name\":\"ResetTool\",\"id\":\"p1050\"}],\"active_drag\":{\"id\":\"p1046\"},\"active_scroll\":{\"id\":\"p1047\"}}},\"left\":[{\"type\":\"object\",\"name\":\"LinearAxis\",\"id\":\"p1038\",\"attributes\":{\"ticker\":{\"type\":\"object\",\"name\":\"BasicTicker\",\"id\":\"p1039\",\"attributes\":{\"mantissas\":[1,2,5]}},\"formatter\":{\"type\":\"object\",\"name\":\"BasicTickFormatter\",\"id\":\"p1040\"},\"axis_label\":\"\",\"major_label_policy\":{\"type\":\"object\",\"name\":\"AllLabels\",\"id\":\"p1041\"}}}],\"right\":[{\"type\":\"object\",\"name\":\"Legend\",\"id\":\"p1078\",\"attributes\":{\"location\":[0,0],\"title\":\"Variable\",\"click_policy\":\"mute\",\"items\":[{\"type\":\"object\",\"name\":\"LegendItem\",\"id\":\"p1079\",\"attributes\":{\"label\":{\"type\":\"value\",\"value\":\"price_change_percentage_24h\"},\"renderers\":[{\"id\":\"p1075\"}]}},{\"type\":\"object\",\"name\":\"LegendItem\",\"id\":\"p1094\",\"attributes\":{\"label\":{\"type\":\"value\",\"value\":\"price_change_percentage_7d\"},\"renderers\":[{\"id\":\"p1091\"}]}},{\"type\":\"object\",\"name\":\"LegendItem\",\"id\":\"p1109\",\"attributes\":{\"label\":{\"type\":\"value\",\"value\":\"price_change_percentage_14d\"},\"renderers\":[{\"id\":\"p1106\"}]}},{\"type\":\"object\",\"name\":\"LegendItem\",\"id\":\"p1124\",\"attributes\":{\"label\":{\"type\":\"value\",\"value\":\"price_change_percentage_30d\"},\"renderers\":[{\"id\":\"p1121\"}]}},{\"type\":\"object\",\"name\":\"LegendItem\",\"id\":\"p1139\",\"attributes\":{\"label\":{\"type\":\"value\",\"value\":\"price_change_percentage_60d\"},\"renderers\":[{\"id\":\"p1136\"}]}},{\"type\":\"object\",\"name\":\"LegendItem\",\"id\":\"p1154\",\"attributes\":{\"label\":{\"type\":\"value\",\"value\":\"price_change_percentage_200d\"},\"renderers\":[{\"id\":\"p1151\"}]}},{\"type\":\"object\",\"name\":\"LegendItem\",\"id\":\"p1169\",\"attributes\":{\"label\":{\"type\":\"value\",\"value\":\"price_change_percentage_1y\"},\"renderers\":[{\"id\":\"p1166\"}]}}]}}],\"below\":[{\"type\":\"object\",\"name\":\"CategoricalAxis\",\"id\":\"p1032\",\"attributes\":{\"ticker\":{\"type\":\"object\",\"name\":\"CategoricalTicker\",\"id\":\"p1033\"},\"formatter\":{\"type\":\"object\",\"name\":\"CategoricalTickFormatter\",\"id\":\"p1034\"},\"axis_label\":\"coin_id\",\"major_label_orientation\":1.5707963267948966,\"major_label_policy\":{\"type\":\"object\",\"name\":\"AllLabels\",\"id\":\"p1035\"}}}],\"center\":[{\"type\":\"object\",\"name\":\"Grid\",\"id\":\"p1037\",\"attributes\":{\"axis\":{\"id\":\"p1032\"},\"grid_line_color\":null}},{\"type\":\"object\",\"name\":\"Grid\",\"id\":\"p1044\",\"attributes\":{\"dimension\":1,\"axis\":{\"id\":\"p1038\"},\"grid_line_color\":null}}],\"min_border_top\":10,\"min_border_bottom\":10,\"min_border_left\":10,\"min_border_right\":10,\"output_backend\":\"webgl\"}},{\"type\":\"object\",\"name\":\"Spacer\",\"id\":\"p1219\",\"attributes\":{\"name\":\"HSpacer01071\",\"stylesheets\":[\"\\n:host(.pn-loading.pn-arc):before, .pn-loading.pn-arc:before {\\n  background-image: url(\\\"data:image/svg+xml;base64,PHN2ZyB4bWxucz0iaHR0cDovL3d3dy53My5vcmcvMjAwMC9zdmciIHN0eWxlPSJtYXJnaW46IGF1dG87IGJhY2tncm91bmQ6IG5vbmU7IGRpc3BsYXk6IGJsb2NrOyBzaGFwZS1yZW5kZXJpbmc6IGF1dG87IiB2aWV3Qm94PSIwIDAgMTAwIDEwMCIgcHJlc2VydmVBc3BlY3RSYXRpbz0ieE1pZFlNaWQiPiAgPGNpcmNsZSBjeD0iNTAiIGN5PSI1MCIgZmlsbD0ibm9uZSIgc3Ryb2tlPSIjYzNjM2MzIiBzdHJva2Utd2lkdGg9IjEwIiByPSIzNSIgc3Ryb2tlLWRhc2hhcnJheT0iMTY0LjkzMzYxNDMxMzQ2NDE1IDU2Ljk3Nzg3MTQzNzgyMTM4Ij4gICAgPGFuaW1hdGVUcmFuc2Zvcm0gYXR0cmlidXRlTmFtZT0idHJhbnNmb3JtIiB0eXBlPSJyb3RhdGUiIHJlcGVhdENvdW50PSJpbmRlZmluaXRlIiBkdXI9IjFzIiB2YWx1ZXM9IjAgNTAgNTA7MzYwIDUwIDUwIiBrZXlUaW1lcz0iMDsxIj48L2FuaW1hdGVUcmFuc2Zvcm0+ICA8L2NpcmNsZT48L3N2Zz4=\\\");\\n  background-size: auto calc(min(50%, 400px));\\n}\",{\"id\":\"p1005\"},{\"id\":\"p1003\"},{\"id\":\"p1004\"}],\"margin\":0,\"sizing_mode\":\"stretch_width\",\"align\":\"start\"}}]}}],\"callbacks\":{\"type\":\"map\"}}};\n",
       "  var render_items = [{\"docid\":\"8a500df0-33e9-487e-a957-003257b0195d\",\"roots\":{\"p1002\":\"f3024fb0-0a53-41db-994e-ac23b86fad1a\"},\"root_ids\":[\"p1002\"]}];\n",
       "  var docs = Object.values(docs_json)\n",
       "  if (!docs) {\n",
       "    return\n",
       "  }\n",
       "  const py_version = docs[0].version.replace('rc', '-rc.')\n",
       "  const is_dev = py_version.indexOf(\"+\") !== -1 || py_version.indexOf(\"-\") !== -1\n",
       "  function embed_document(root) {\n",
<<<<<<< Updated upstream
       "    var Bokeh = get_bokeh(root)\n",
       "    Bokeh.embed.embed_items_notebook(docs_json, render_items);\n",
=======
       "    var docs_json = {\"f353555d-c3a8-4a27-85a7-5dae7b315436\":{\"defs\":[{\"extends\":null,\"module\":null,\"name\":\"ReactiveHTML1\",\"overrides\":[],\"properties\":[]},{\"extends\":null,\"module\":null,\"name\":\"FlexBox1\",\"overrides\":[],\"properties\":[{\"default\":\"flex-start\",\"kind\":null,\"name\":\"align_content\"},{\"default\":\"flex-start\",\"kind\":null,\"name\":\"align_items\"},{\"default\":\"row\",\"kind\":null,\"name\":\"flex_direction\"},{\"default\":\"wrap\",\"kind\":null,\"name\":\"flex_wrap\"},{\"default\":\"flex-start\",\"kind\":null,\"name\":\"justify_content\"}]},{\"extends\":null,\"module\":null,\"name\":\"GridStack1\",\"overrides\":[],\"properties\":[{\"default\":\"warn\",\"kind\":null,\"name\":\"mode\"},{\"default\":null,\"kind\":null,\"name\":\"ncols\"},{\"default\":null,\"kind\":null,\"name\":\"nrows\"},{\"default\":true,\"kind\":null,\"name\":\"allow_resize\"},{\"default\":true,\"kind\":null,\"name\":\"allow_drag\"},{\"default\":[],\"kind\":null,\"name\":\"state\"}]},{\"extends\":null,\"module\":null,\"name\":\"click1\",\"overrides\":[],\"properties\":[{\"default\":\"\",\"kind\":null,\"name\":\"terminal_output\"},{\"default\":\"\",\"kind\":null,\"name\":\"debug_name\"},{\"default\":0,\"kind\":null,\"name\":\"clears\"}]},{\"extends\":null,\"module\":null,\"name\":\"NotificationAreaBase1\",\"overrides\":[],\"properties\":[{\"default\":\"bottom-right\",\"kind\":null,\"name\":\"position\"},{\"default\":0,\"kind\":null,\"name\":\"_clear\"}]},{\"extends\":null,\"module\":null,\"name\":\"NotificationArea1\",\"overrides\":[],\"properties\":[{\"default\":[],\"kind\":null,\"name\":\"notifications\"},{\"default\":\"bottom-right\",\"kind\":null,\"name\":\"position\"},{\"default\":0,\"kind\":null,\"name\":\"_clear\"},{\"default\":[{\"background\":\"#ffc107\",\"icon\":{\"className\":\"fas fa-exclamation-triangle\",\"color\":\"white\",\"tagName\":\"i\"},\"type\":\"warning\"},{\"background\":\"#007bff\",\"icon\":{\"className\":\"fas fa-info-circle\",\"color\":\"white\",\"tagName\":\"i\"},\"type\":\"info\"}],\"kind\":null,\"name\":\"types\"}]},{\"extends\":null,\"module\":null,\"name\":\"Notification\",\"overrides\":[],\"properties\":[{\"default\":null,\"kind\":null,\"name\":\"background\"},{\"default\":3000,\"kind\":null,\"name\":\"duration\"},{\"default\":null,\"kind\":null,\"name\":\"icon\"},{\"default\":\"\",\"kind\":null,\"name\":\"message\"},{\"default\":null,\"kind\":null,\"name\":\"notification_type\"},{\"default\":false,\"kind\":null,\"name\":\"_destroyed\"}]},{\"extends\":null,\"module\":null,\"name\":\"TemplateActions1\",\"overrides\":[],\"properties\":[{\"default\":0,\"kind\":null,\"name\":\"open_modal\"},{\"default\":0,\"kind\":null,\"name\":\"close_modal\"}]},{\"extends\":null,\"module\":null,\"name\":\"MaterialTemplateActions1\",\"overrides\":[],\"properties\":[{\"default\":0,\"kind\":null,\"name\":\"open_modal\"},{\"default\":0,\"kind\":null,\"name\":\"close_modal\"}]}],\"roots\":{\"references\":[{\"attributes\":{},\"id\":\"5018\",\"type\":\"UnionRenderers\"},{\"attributes\":{\"line_alpha\":0.1,\"line_color\":\"#fc4f30\",\"line_width\":2,\"x\":{\"field\":\"coin_id\"},\"y\":{\"field\":\"value\"}},\"id\":\"4981\",\"type\":\"Line\"},{\"attributes\":{\"label\":{\"value\":\"price_change_percentage_200d\"},\"renderers\":[{\"id\":\"5083\"}]},\"id\":\"5105\",\"type\":\"LegendItem\"},{\"attributes\":{\"factors\":[\"bitcoin\",\"ethereum\",\"tether\",\"ripple\",\"bitcoin-cash\",\"binancecoin\",\"chainlink\",\"cardano\",\"litecoin\",\"bitcoin-cash-sv\",\"crypto-com-chain\",\"usd-coin\",\"eos\",\"monero\",\"tron\",\"tezos\",\"okb\",\"stellar\",\"cosmos\",\"cdai\",\"neo\",\"wrapped-bitcoin\",\"leo-token\",\"huobi-token\",\"nem\",\"binance-usd\",\"iota\",\"vechain\",\"zcash\",\"theta-token\",\"dash\",\"ethereum-classic\",\"ethlend\",\"maker\",\"havven\",\"omisego\",\"celsius-degree-token\",\"ontology\",\"ftx-token\",\"true-usd\",\"digibyte\"],\"tags\":[[[\"coin_id\",\"coin_id\",null]]]},\"id\":\"4912\",\"type\":\"FactorRange\"},{\"attributes\":{\"line_color\":\"#30a2da\",\"line_width\":2,\"x\":{\"field\":\"coin_id\"},\"y\":{\"field\":\"value\"}},\"id\":\"4976\",\"type\":\"Line\"},{\"attributes\":{\"line_alpha\":0.1,\"line_color\":\"#8b8b8b\",\"line_width\":2,\"x\":{\"field\":\"coin_id\"},\"y\":{\"field\":\"value\"}},\"id\":\"5053\",\"type\":\"Line\"},{\"attributes\":{\"source\":{\"id\":\"4977\"}},\"id\":\"4984\",\"type\":\"CDSView\"},{\"attributes\":{\"label\":{\"value\":\"price_change_percentage_14d\"},\"renderers\":[{\"id\":\"5005\"}]},\"id\":\"5021\",\"type\":\"LegendItem\"},{\"attributes\":{\"line_color\":\"#6d904f\",\"line_width\":2,\"x\":{\"field\":\"coin_id\"},\"y\":{\"field\":\"value\"}},\"id\":\"5048\",\"type\":\"Line\"},{\"attributes\":{},\"id\":\"4926\",\"type\":\"CategoricalScale\"},{\"attributes\":{\"axis_label\":\"coin_id\",\"coordinates\":null,\"formatter\":{\"id\":\"4951\"},\"group\":null,\"major_label_orientation\":1.5707963267948966,\"major_label_policy\":{\"id\":\"4952\"},\"ticker\":{\"id\":\"4931\"}},\"id\":\"4930\",\"type\":\"CategoricalAxis\"},{\"attributes\":{\"line_alpha\":0.1,\"line_color\":\"#e5ae38\",\"line_width\":2,\"x\":{\"field\":\"coin_id\"},\"y\":{\"field\":\"value\"}},\"id\":\"5003\",\"type\":\"Line\"},{\"attributes\":{},\"id\":\"4957\",\"type\":\"Selection\"},{\"attributes\":{\"below\":[{\"id\":\"4930\"}],\"center\":[{\"id\":\"4932\"},{\"id\":\"4936\"}],\"height\":400,\"left\":[{\"id\":\"4933\"}],\"margin\":[5,5,5,5],\"min_border_bottom\":10,\"min_border_left\":10,\"min_border_right\":10,\"min_border_top\":10,\"renderers\":[{\"id\":\"4962\"},{\"id\":\"4983\"},{\"id\":\"5005\"},{\"id\":\"5029\"},{\"id\":\"5055\"},{\"id\":\"5083\"},{\"id\":\"5113\"}],\"right\":[{\"id\":\"4974\"}],\"sizing_mode\":\"fixed\",\"title\":{\"id\":\"4922\"},\"toolbar\":{\"id\":\"4943\"},\"width\":800,\"x_range\":{\"id\":\"4912\"},\"x_scale\":{\"id\":\"4926\"},\"y_range\":{\"id\":\"4913\"},\"y_scale\":{\"id\":\"4928\"}},\"id\":\"4921\",\"subtype\":\"Figure\",\"type\":\"Plot\"},{\"attributes\":{\"end\":8641.780918,\"reset_end\":8641.780918,\"reset_start\":-834.5136980000001,\"start\":-834.5136980000001,\"tags\":[[[\"value\",\"value\",null]]]},\"id\":\"4913\",\"type\":\"Range1d\"},{\"attributes\":{\"click_policy\":\"mute\",\"coordinates\":null,\"group\":null,\"items\":[{\"id\":\"4975\"},{\"id\":\"4997\"},{\"id\":\"5021\"},{\"id\":\"5047\"},{\"id\":\"5075\"},{\"id\":\"5105\"},{\"id\":\"5137\"}],\"location\":[0,0],\"title\":\"Variable\"},\"id\":\"4974\",\"type\":\"Legend\"},{\"attributes\":{},\"id\":\"4971\",\"type\":\"UnionRenderers\"},{\"attributes\":{\"coordinates\":null,\"data_source\":{\"id\":\"4999\"},\"glyph\":{\"id\":\"5002\"},\"group\":null,\"hover_glyph\":null,\"muted_glyph\":{\"id\":\"5004\"},\"nonselection_glyph\":{\"id\":\"5003\"},\"selection_glyph\":{\"id\":\"5022\"},\"view\":{\"id\":\"5006\"}},\"id\":\"5005\",\"type\":\"GlyphRenderer\"},{\"attributes\":{\"line_color\":\"#30a2da\",\"line_width\":2,\"x\":{\"field\":\"coin_id\"},\"y\":{\"field\":\"value\"}},\"id\":\"4959\",\"type\":\"Line\"},{\"attributes\":{\"line_alpha\":0.2,\"line_color\":\"#e5ae38\",\"line_width\":2,\"x\":{\"field\":\"coin_id\"},\"y\":{\"field\":\"value\"}},\"id\":\"5004\",\"type\":\"Line\"},{\"attributes\":{\"source\":{\"id\":\"4999\"}},\"id\":\"5006\",\"type\":\"CDSView\"},{\"attributes\":{\"line_color\":\"#fc4f30\",\"line_width\":2,\"x\":{\"field\":\"coin_id\"},\"y\":{\"field\":\"value\"}},\"id\":\"4980\",\"type\":\"Line\"},{\"attributes\":{\"data\":{\"Variable\":[\"price_change_percentage_60d\",\"price_change_percentage_60d\",\"price_change_percentage_60d\",\"price_change_percentage_60d\",\"price_change_percentage_60d\",\"price_change_percentage_60d\",\"price_change_percentage_60d\",\"price_change_percentage_60d\",\"price_change_percentage_60d\",\"price_change_percentage_60d\",\"price_change_percentage_60d\",\"price_change_percentage_60d\",\"price_change_percentage_60d\",\"price_change_percentage_60d\",\"price_change_percentage_60d\",\"price_change_percentage_60d\",\"price_change_percentage_60d\",\"price_change_percentage_60d\",\"price_change_percentage_60d\",\"price_change_percentage_60d\",\"price_change_percentage_60d\",\"price_change_percentage_60d\",\"price_change_percentage_60d\",\"price_change_percentage_60d\",\"price_change_percentage_60d\",\"price_change_percentage_60d\",\"price_change_percentage_60d\",\"price_change_percentage_60d\",\"price_change_percentage_60d\",\"price_change_percentage_60d\",\"price_change_percentage_60d\",\"price_change_percentage_60d\",\"price_change_percentage_60d\",\"price_change_percentage_60d\",\"price_change_percentage_60d\",\"price_change_percentage_60d\",\"price_change_percentage_60d\",\"price_change_percentage_60d\",\"price_change_percentage_60d\",\"price_change_percentage_60d\",\"price_change_percentage_60d\"],\"coin_id\":[\"bitcoin\",\"ethereum\",\"tether\",\"ripple\",\"bitcoin-cash\",\"binancecoin\",\"chainlink\",\"cardano\",\"litecoin\",\"bitcoin-cash-sv\",\"crypto-com-chain\",\"usd-coin\",\"eos\",\"monero\",\"tron\",\"tezos\",\"okb\",\"stellar\",\"cosmos\",\"cdai\",\"neo\",\"wrapped-bitcoin\",\"leo-token\",\"huobi-token\",\"nem\",\"binance-usd\",\"iota\",\"vechain\",\"zcash\",\"theta-token\",\"dash\",\"ethereum-classic\",\"ethlend\",\"maker\",\"havven\",\"omisego\",\"celsius-degree-token\",\"ontology\",\"ftx-token\",\"true-usd\",\"digibyte\"],\"value\":{\"__ndarray__\":\"FvvL7skDCsAs1JrmHccpwKjjMQOV8dE/2qz6XG2NMcBzol2FlG8rwIleRrHcKkJAN8MN+PzYRcBi26LMBtk2wCEf9GxWPTHAq5UJv9TfOMBg5dAi23kwwDygbMoV3qU/l631RUIrPsDNzMzMzNxEQJm7lpAPGhZAms5OBkdpRsBKe4MvTKYGwEsfuqC+zT7APL1SliHOHMC4AZ8fRgjlP9L7xteeCStAFqQZi6azDMCvJeSDni0ewDeOWItPQQvAXvQVpBm3VEDaOGItPgW4PwpLPKBsQkHAaw4QzNHPRcAJM23/yoo0wBmQvd79AVRAfa62Yn85OsBVGFsIcug5wLCsNCkFHQFA529CIQKeMsA0uoPYmbZDwPKwUGua0VNA/pqsUQ/ia0Ao8iTpmllAwFuxv+yenBdAmrFoOjsZ0D8s1JrmHRc/wA==\",\"dtype\":\"float64\",\"order\":\"little\",\"shape\":[41]}},\"selected\":{\"id\":\"5050\"},\"selection_policy\":{\"id\":\"5072\"}},\"id\":\"5049\",\"type\":\"ColumnDataSource\"},{\"attributes\":{\"line_color\":\"#17becf\",\"line_width\":2,\"x\":{\"field\":\"coin_id\"},\"y\":{\"field\":\"value\"}},\"id\":\"5106\",\"type\":\"Line\"},{\"attributes\":{\"label\":{\"value\":\"price_change_percentage_60d\"},\"renderers\":[{\"id\":\"5055\"}]},\"id\":\"5075\",\"type\":\"LegendItem\"},{\"attributes\":{\"line_alpha\":0.1,\"line_color\":\"#9467bd\",\"line_width\":2,\"x\":{\"field\":\"coin_id\"},\"y\":{\"field\":\"value\"}},\"id\":\"5111\",\"type\":\"Line\"},{\"attributes\":{\"data\":{\"Variable\":[\"price_change_percentage_1y\",\"price_change_percentage_1y\",\"price_change_percentage_1y\",\"price_change_percentage_1y\",\"price_change_percentage_1y\",\"price_change_percentage_1y\",\"price_change_percentage_1y\",\"price_change_percentage_1y\",\"price_change_percentage_1y\",\"price_change_percentage_1y\",\"price_change_percentage_1y\",\"price_change_percentage_1y\",\"price_change_percentage_1y\",\"price_change_percentage_1y\",\"price_change_percentage_1y\",\"price_change_percentage_1y\",\"price_change_percentage_1y\",\"price_change_percentage_1y\",\"price_change_percentage_1y\",\"price_change_percentage_1y\",\"price_change_percentage_1y\",\"price_change_percentage_1y\",\"price_change_percentage_1y\",\"price_change_percentage_1y\",\"price_change_percentage_1y\",\"price_change_percentage_1y\",\"price_change_percentage_1y\",\"price_change_percentage_1y\",\"price_change_percentage_1y\",\"price_change_percentage_1y\",\"price_change_percentage_1y\",\"price_change_percentage_1y\",\"price_change_percentage_1y\",\"price_change_percentage_1y\",\"price_change_percentage_1y\",\"price_change_percentage_1y\",\"price_change_percentage_1y\",\"price_change_percentage_1y\",\"price_change_percentage_1y\",\"price_change_percentage_1y\",\"price_change_percentage_1y\"],\"coin_id\":[\"bitcoin\",\"ethereum\",\"tether\",\"ripple\",\"bitcoin-cash\",\"binancecoin\",\"chainlink\",\"cardano\",\"litecoin\",\"bitcoin-cash-sv\",\"crypto-com-chain\",\"usd-coin\",\"eos\",\"monero\",\"tron\",\"tezos\",\"okb\",\"stellar\",\"cosmos\",\"cdai\",\"neo\",\"wrapped-bitcoin\",\"leo-token\",\"huobi-token\",\"nem\",\"binance-usd\",\"iota\",\"vechain\",\"zcash\",\"theta-token\",\"dash\",\"ethereum-classic\",\"ethlend\",\"maker\",\"havven\",\"omisego\",\"celsius-degree-token\",\"ontology\",\"ftx-token\",\"true-usd\",\"digibyte\"],\"value\":{\"__ndarray__\":\"kQpjC0HCQkDWqIdodH1ZQN/42jNLApQ/NXugFRiaMMDN6bKY2PwsQOcdp+hIbFFAaTo7GRxSdEC6LCY2H4NjQPnaM0sCVCnA0NA/wcVuV0CQvd798RBzQL4wmSoYlci/t39lpUmRMcDovMYuUaFhQEPKT6p9nk1A6PaSxmiAYUBdUN8yp75hQMzuycNCnStAw7ZFmQ2cVEAHsTOFzmvSvx/0bFZ9aWBAhhvw+WHEQkAN/RNcrAA1QN8Vwf9WkjhAS7A4nPkWaUAVUn5S7dPBPzUk7rH04Q/AIsMq3shbaUBf0hito7hUQPyMCwcC64VAzsKedvirA8Dwoq8gzTgmQHRGlPYWrL5Ayk+qfTpOJUDfiVkvRjaFQEfJq3MMC3RAnFCIgONmn0CsVib8Uk8pwNttF5rrC2VAyXGndLD+2T/ZfFwbKgxnQA==\",\"dtype\":\"float64\",\"order\":\"little\",\"shape\":[41]}},\"selected\":{\"id\":\"5108\"},\"selection_policy\":{\"id\":\"5134\"}},\"id\":\"5107\",\"type\":\"ColumnDataSource\"},{\"attributes\":{\"coordinates\":null,\"data_source\":{\"id\":\"5049\"},\"glyph\":{\"id\":\"5052\"},\"group\":null,\"hover_glyph\":null,\"muted_glyph\":{\"id\":\"5054\"},\"nonselection_glyph\":{\"id\":\"5053\"},\"selection_glyph\":{\"id\":\"5076\"},\"view\":{\"id\":\"5056\"}},\"id\":\"5055\",\"type\":\"GlyphRenderer\"},{\"attributes\":{\"line_alpha\":0.1,\"line_color\":\"#30a2da\",\"line_width\":2,\"x\":{\"field\":\"coin_id\"},\"y\":{\"field\":\"value\"}},\"id\":\"4960\",\"type\":\"Line\"},{\"attributes\":{\"label\":{\"value\":\"price_change_percentage_24h\"},\"renderers\":[{\"id\":\"4962\"}]},\"id\":\"4975\",\"type\":\"LegendItem\"},{\"attributes\":{\"coordinates\":null,\"group\":null,\"text_color\":\"black\",\"text_font_size\":\"12pt\"},\"id\":\"4922\",\"type\":\"Title\"},{\"attributes\":{\"line_alpha\":0.2,\"line_color\":\"#8b8b8b\",\"line_width\":2,\"x\":{\"field\":\"coin_id\"},\"y\":{\"field\":\"value\"}},\"id\":\"5054\",\"type\":\"Line\"},{\"attributes\":{},\"id\":\"4952\",\"type\":\"AllLabels\"},{\"attributes\":{},\"id\":\"5050\",\"type\":\"Selection\"},{\"attributes\":{},\"id\":\"5134\",\"type\":\"UnionRenderers\"},{\"attributes\":{},\"id\":\"4928\",\"type\":\"LinearScale\"},{\"attributes\":{\"label\":{\"value\":\"price_change_percentage_1y\"},\"renderers\":[{\"id\":\"5113\"}]},\"id\":\"5137\",\"type\":\"LegendItem\"},{\"attributes\":{},\"id\":\"4994\",\"type\":\"UnionRenderers\"},{\"attributes\":{},\"id\":\"4931\",\"type\":\"CategoricalTicker\"},{\"attributes\":{\"axis\":{\"id\":\"4930\"},\"coordinates\":null,\"grid_line_color\":null,\"group\":null,\"ticker\":null},\"id\":\"4932\",\"type\":\"Grid\"},{\"attributes\":{\"source\":{\"id\":\"5049\"}},\"id\":\"5056\",\"type\":\"CDSView\"},{\"attributes\":{},\"id\":\"4938\",\"type\":\"PanTool\"},{\"attributes\":{\"line_color\":\"#8b8b8b\",\"line_width\":2,\"x\":{\"field\":\"coin_id\"},\"y\":{\"field\":\"value\"}},\"id\":\"5052\",\"type\":\"Line\"},{\"attributes\":{\"coordinates\":null,\"data_source\":{\"id\":\"5107\"},\"glyph\":{\"id\":\"5110\"},\"group\":null,\"hover_glyph\":null,\"muted_glyph\":{\"id\":\"5112\"},\"nonselection_glyph\":{\"id\":\"5111\"},\"selection_glyph\":{\"id\":\"5138\"},\"view\":{\"id\":\"5114\"}},\"id\":\"5113\",\"type\":\"GlyphRenderer\"},{\"attributes\":{\"axis_label\":\"\",\"coordinates\":null,\"formatter\":{\"id\":\"4954\"},\"group\":null,\"major_label_policy\":{\"id\":\"4955\"},\"ticker\":{\"id\":\"4934\"}},\"id\":\"4933\",\"type\":\"LinearAxis\"},{\"attributes\":{},\"id\":\"4978\",\"type\":\"Selection\"},{\"attributes\":{\"axis\":{\"id\":\"4933\"},\"coordinates\":null,\"dimension\":1,\"grid_line_color\":null,\"group\":null,\"ticker\":null},\"id\":\"4936\",\"type\":\"Grid\"},{\"attributes\":{\"line_alpha\":0.1,\"line_color\":\"#6d904f\",\"line_width\":2,\"x\":{\"field\":\"coin_id\"},\"y\":{\"field\":\"value\"}},\"id\":\"5027\",\"type\":\"Line\"},{\"attributes\":{},\"id\":\"4934\",\"type\":\"BasicTicker\"},{\"attributes\":{\"line_alpha\":0.2,\"line_color\":\"#fc4f30\",\"line_width\":2,\"x\":{\"field\":\"coin_id\"},\"y\":{\"field\":\"value\"}},\"id\":\"4982\",\"type\":\"Line\"},{\"attributes\":{},\"id\":\"5000\",\"type\":\"Selection\"},{\"attributes\":{},\"id\":\"4939\",\"type\":\"WheelZoomTool\"},{\"attributes\":{\"line_alpha\":0.2,\"line_color\":\"#9467bd\",\"line_width\":2,\"x\":{\"field\":\"coin_id\"},\"y\":{\"field\":\"value\"}},\"id\":\"5112\",\"type\":\"Line\"},{\"attributes\":{},\"id\":\"5108\",\"type\":\"Selection\"},{\"attributes\":{\"line_color\":\"#e5ae38\",\"line_width\":2,\"x\":{\"field\":\"coin_id\"},\"y\":{\"field\":\"value\"}},\"id\":\"5022\",\"type\":\"Line\"},{\"attributes\":{},\"id\":\"4937\",\"type\":\"SaveTool\"},{\"attributes\":{\"coordinates\":null,\"data_source\":{\"id\":\"4977\"},\"glyph\":{\"id\":\"4980\"},\"group\":null,\"hover_glyph\":null,\"muted_glyph\":{\"id\":\"4982\"},\"nonselection_glyph\":{\"id\":\"4981\"},\"selection_glyph\":{\"id\":\"4998\"},\"view\":{\"id\":\"4984\"}},\"id\":\"4983\",\"type\":\"GlyphRenderer\"},{\"attributes\":{\"overlay\":{\"id\":\"4942\"}},\"id\":\"4940\",\"type\":\"BoxZoomTool\"},{\"attributes\":{\"children\":[{\"id\":\"4921\"}],\"height\":400,\"margin\":[0,0,0,0],\"name\":\"Row04291\",\"sizing_mode\":\"fixed\",\"tags\":[\"embedded\"],\"width\":800},\"id\":\"4911\",\"type\":\"Row\"},{\"attributes\":{},\"id\":\"4941\",\"type\":\"ResetTool\"},{\"attributes\":{\"data\":{\"Variable\":[\"price_change_percentage_14d\",\"price_change_percentage_14d\",\"price_change_percentage_14d\",\"price_change_percentage_14d\",\"price_change_percentage_14d\",\"price_change_percentage_14d\",\"price_change_percentage_14d\",\"price_change_percentage_14d\",\"price_change_percentage_14d\",\"price_change_percentage_14d\",\"price_change_percentage_14d\",\"price_change_percentage_14d\",\"price_change_percentage_14d\",\"price_change_percentage_14d\",\"price_change_percentage_14d\",\"price_change_percentage_14d\",\"price_change_percentage_14d\",\"price_change_percentage_14d\",\"price_change_percentage_14d\",\"price_change_percentage_14d\",\"price_change_percentage_14d\",\"price_change_percentage_14d\",\"price_change_percentage_14d\",\"price_change_percentage_14d\",\"price_change_percentage_14d\",\"price_change_percentage_14d\",\"price_change_percentage_14d\",\"price_change_percentage_14d\",\"price_change_percentage_14d\",\"price_change_percentage_14d\",\"price_change_percentage_14d\",\"price_change_percentage_14d\",\"price_change_percentage_14d\",\"price_change_percentage_14d\",\"price_change_percentage_14d\",\"price_change_percentage_14d\",\"price_change_percentage_14d\",\"price_change_percentage_14d\",\"price_change_percentage_14d\",\"price_change_percentage_14d\",\"price_change_percentage_14d\"],\"coin_id\":[\"bitcoin\",\"ethereum\",\"tether\",\"ripple\",\"bitcoin-cash\",\"binancecoin\",\"chainlink\",\"cardano\",\"litecoin\",\"bitcoin-cash-sv\",\"crypto-com-chain\",\"usd-coin\",\"eos\",\"monero\",\"tron\",\"tezos\",\"okb\",\"stellar\",\"cosmos\",\"cdai\",\"neo\",\"wrapped-bitcoin\",\"leo-token\",\"huobi-token\",\"nem\",\"binance-usd\",\"iota\",\"vechain\",\"zcash\",\"theta-token\",\"dash\",\"ethereum-classic\",\"ethlend\",\"maker\",\"havven\",\"omisego\",\"celsius-degree-token\",\"ontology\",\"ftx-token\",\"true-usd\",\"digibyte\"],\"value\":{\"__ndarray__\":\"zQaZZORMGkB5knTN5DsTQC1DHOviNno/ctwpHaz/AUCLic3HtYEtQJgvL8A+OhtACoDxDBqaIkAOhGQBEzgWQICfceFAKB1AIVnABG7d/b8xsfm4NhQhwGtI3GPpQ3e/pfeNrz0z8j8ao3VUNWkyQBUA4xk0dPY/VIzzN6GQAkCXrfVFQhsUwKpla32RUPG/Qgkzbf8KFkDPg7uzdtvFP8MN+PwwsiPAYFlpUgo6GkB3+GuyRh0cwM2v5gDBHN0/jliLTwEwBUDWrZ6T3jeuP7pOIy2VNw7Am1Wfq60oMsAJM23/yioXQJfK2xFOSxrAQE0tW+uL4D9OucK7XET0v0SLbOf7mSPA/pqsUQ/R978vaYzWUZUqwDtT6LzGbirAvodLjjs9OEByUMJM2x8lwJ30vvG1Z8q/ZCMQr+sXvD+7D0BqE0cdwA==\",\"dtype\":\"float64\",\"order\":\"little\",\"shape\":[41]}},\"selected\":{\"id\":\"5000\"},\"selection_policy\":{\"id\":\"5018\"}},\"id\":\"4999\",\"type\":\"ColumnDataSource\"},{\"attributes\":{\"source\":{\"id\":\"5107\"}},\"id\":\"5114\",\"type\":\"CDSView\"},{\"attributes\":{\"data\":{\"Variable\":[\"price_change_percentage_7d\",\"price_change_percentage_7d\",\"price_change_percentage_7d\",\"price_change_percentage_7d\",\"price_change_percentage_7d\",\"price_change_percentage_7d\",\"price_change_percentage_7d\",\"price_change_percentage_7d\",\"price_change_percentage_7d\",\"price_change_percentage_7d\",\"price_change_percentage_7d\",\"price_change_percentage_7d\",\"price_change_percentage_7d\",\"price_change_percentage_7d\",\"price_change_percentage_7d\",\"price_change_percentage_7d\",\"price_change_percentage_7d\",\"price_change_percentage_7d\",\"price_change_percentage_7d\",\"price_change_percentage_7d\",\"price_change_percentage_7d\",\"price_change_percentage_7d\",\"price_change_percentage_7d\",\"price_change_percentage_7d\",\"price_change_percentage_7d\",\"price_change_percentage_7d\",\"price_change_percentage_7d\",\"price_change_percentage_7d\",\"price_change_percentage_7d\",\"price_change_percentage_7d\",\"price_change_percentage_7d\",\"price_change_percentage_7d\",\"price_change_percentage_7d\",\"price_change_percentage_7d\",\"price_change_percentage_7d\",\"price_change_percentage_7d\",\"price_change_percentage_7d\",\"price_change_percentage_7d\",\"price_change_percentage_7d\",\"price_change_percentage_7d\",\"price_change_percentage_7d\"],\"coin_id\":[\"bitcoin\",\"ethereum\",\"tether\",\"ripple\",\"bitcoin-cash\",\"binancecoin\",\"chainlink\",\"cardano\",\"litecoin\",\"bitcoin-cash-sv\",\"crypto-com-chain\",\"usd-coin\",\"eos\",\"monero\",\"tron\",\"tezos\",\"okb\",\"stellar\",\"cosmos\",\"cdai\",\"neo\",\"wrapped-bitcoin\",\"leo-token\",\"huobi-token\",\"nem\",\"binance-usd\",\"iota\",\"vechain\",\"zcash\",\"theta-token\",\"dash\",\"ethereum-classic\",\"ethlend\",\"maker\",\"havven\",\"omisego\",\"celsius-degree-token\",\"ontology\",\"ftx-token\",\"true-usd\",\"digibyte\"],\"value\":{\"__ndarray__\":\"RbsKKT9pHkAzUBn/PsMkQL99HThnRKk/yVnY0w5/47/+JhQi4BgxQBL3WPrQtSlA7yB2ptCxNEA/jBAebfwrQPFL/bypaBpArKjBNAxfCkByv0NRoK8WwPlJtU/HY76/lPsdigL99L+n6Egu/5EvQE1KQbeX9BBA0m9fB87pIUBlU67wLjcSwKbtX1lpkgBAZwqd19gVMEBcIEHxY8ytP3wnZr0YigNAOh4zUBmfHUD3Hi457pT1vzNQGf8+4/k/kQ96Nqs+6781Y9F0djKoP2dEaW/wRRhAgXhdv2A3/L/8GHPXErIkQP8JLlbUYBjAVU0QdR9gFEDRlnMprmoIQGCrBIvD2RBAAiuHFtlOIECbG9MTllgRQKhXyjLEURtAqn06HjNQ4z+UvDrHgGzzvwltOZfiahxAsD2zJEBNxT8yj/zBwHPlPw==\",\"dtype\":\"float64\",\"order\":\"little\",\"shape\":[41]}},\"selected\":{\"id\":\"4978\"},\"selection_policy\":{\"id\":\"4994\"}},\"id\":\"4977\",\"type\":\"ColumnDataSource\"},{\"attributes\":{\"line_color\":\"#9467bd\",\"line_width\":2,\"x\":{\"field\":\"coin_id\"},\"y\":{\"field\":\"value\"}},\"id\":\"5110\",\"type\":\"Line\"},{\"attributes\":{\"data\":{\"Variable\":[\"price_change_percentage_30d\",\"price_change_percentage_30d\",\"price_change_percentage_30d\",\"price_change_percentage_30d\",\"price_change_percentage_30d\",\"price_change_percentage_30d\",\"price_change_percentage_30d\",\"price_change_percentage_30d\",\"price_change_percentage_30d\",\"price_change_percentage_30d\",\"price_change_percentage_30d\",\"price_change_percentage_30d\",\"price_change_percentage_30d\",\"price_change_percentage_30d\",\"price_change_percentage_30d\",\"price_change_percentage_30d\",\"price_change_percentage_30d\",\"price_change_percentage_30d\",\"price_change_percentage_30d\",\"price_change_percentage_30d\",\"price_change_percentage_30d\",\"price_change_percentage_30d\",\"price_change_percentage_30d\",\"price_change_percentage_30d\",\"price_change_percentage_30d\",\"price_change_percentage_30d\",\"price_change_percentage_30d\",\"price_change_percentage_30d\",\"price_change_percentage_30d\",\"price_change_percentage_30d\",\"price_change_percentage_30d\",\"price_change_percentage_30d\",\"price_change_percentage_30d\",\"price_change_percentage_30d\",\"price_change_percentage_30d\",\"price_change_percentage_30d\",\"price_change_percentage_30d\",\"price_change_percentage_30d\",\"price_change_percentage_30d\",\"price_change_percentage_30d\",\"price_change_percentage_30d\"],\"coin_id\":[\"bitcoin\",\"ethereum\",\"tether\",\"ripple\",\"bitcoin-cash\",\"binancecoin\",\"chainlink\",\"cardano\",\"litecoin\",\"bitcoin-cash-sv\",\"crypto-com-chain\",\"usd-coin\",\"eos\",\"monero\",\"tron\",\"tezos\",\"okb\",\"stellar\",\"cosmos\",\"cdai\",\"neo\",\"wrapped-bitcoin\",\"leo-token\",\"huobi-token\",\"nem\",\"binance-usd\",\"iota\",\"vechain\",\"zcash\",\"theta-token\",\"dash\",\"ethereum-classic\",\"ethlend\",\"maker\",\"havven\",\"omisego\",\"celsius-degree-token\",\"ontology\",\"ftx-token\",\"true-usd\",\"digibyte\"],\"value\":{\"__ndarray__\":\"VMa/z7iwHkAl6ZrJN9vAP/28qUiFsaW/L26jAbwFzj8dcjPcgH8vQPMf0m9fB64/5bhTOlhvJsBnfjUHCDYkQGWNeohGd/M/sCDNWDQdB0Cmft5UpHIxwJgvL8A+OsW/t0WZDTKJEsDeVKTC2HpDQEzD8BExNSnAjWK5pdVALMDjjcwjf+AkwIrIsIo3QiDAjliLTwFQEkAWpBmLpnMBwE3WqIdo9DXAVG8NbJWAHUAnMQisHJoIQGA8g4b+CQrACcTr+gU7DcCPpQ9dUN+SP80Bgjl6nBDA9S1zuixWLMBC7Eyh83odQEku/yH9bj9AtTf4wmQqH8Am/FI/byoHQNjYJaq3/j3A9GxWfa62MECdRloqb9c0wF4R/G8lOyLArK3YX3aZYUC1/SsrTVpBwP/PYb68ICXAFR3J5T+knz+ndLD+z4EqQA==\",\"dtype\":\"float64\",\"order\":\"little\",\"shape\":[41]}},\"selected\":{\"id\":\"5024\"},\"selection_policy\":{\"id\":\"5044\"}},\"id\":\"5023\",\"type\":\"ColumnDataSource\"},{\"attributes\":{},\"id\":\"5044\",\"type\":\"UnionRenderers\"},{\"attributes\":{\"bottom_units\":\"screen\",\"coordinates\":null,\"fill_alpha\":0.5,\"fill_color\":\"lightgrey\",\"group\":null,\"left_units\":\"screen\",\"level\":\"overlay\",\"line_alpha\":1.0,\"line_color\":\"black\",\"line_dash\":[4,4],\"line_width\":2,\"right_units\":\"screen\",\"syncable\":false,\"top_units\":\"screen\"},\"id\":\"4942\",\"type\":\"BoxAnnotation\"},{\"attributes\":{\"label\":{\"value\":\"price_change_percentage_7d\"},\"renderers\":[{\"id\":\"4983\"}]},\"id\":\"4997\",\"type\":\"LegendItem\"},{\"attributes\":{\"line_alpha\":0.2,\"line_color\":\"#30a2da\",\"line_width\":2,\"x\":{\"field\":\"coin_id\"},\"y\":{\"field\":\"value\"}},\"id\":\"4961\",\"type\":\"Line\"},{\"attributes\":{\"line_color\":\"#e5ae38\",\"line_width\":2,\"x\":{\"field\":\"coin_id\"},\"y\":{\"field\":\"value\"}},\"id\":\"5002\",\"type\":\"Line\"},{\"attributes\":{\"active_drag\":{\"id\":\"4938\"},\"active_scroll\":{\"id\":\"4939\"},\"tools\":[{\"id\":\"4914\"},{\"id\":\"4937\"},{\"id\":\"4938\"},{\"id\":\"4939\"},{\"id\":\"4940\"},{\"id\":\"4941\"}]},\"id\":\"4943\",\"type\":\"Toolbar\"},{\"attributes\":{\"label\":{\"value\":\"price_change_percentage_30d\"},\"renderers\":[{\"id\":\"5029\"}]},\"id\":\"5047\",\"type\":\"LegendItem\"},{\"attributes\":{},\"id\":\"5072\",\"type\":\"UnionRenderers\"},{\"attributes\":{},\"id\":\"4951\",\"type\":\"CategoricalTickFormatter\"},{\"attributes\":{\"data\":{\"Variable\":[\"price_change_percentage_24h\",\"price_change_percentage_24h\",\"price_change_percentage_24h\",\"price_change_percentage_24h\",\"price_change_percentage_24h\",\"price_change_percentage_24h\",\"price_change_percentage_24h\",\"price_change_percentage_24h\",\"price_change_percentage_24h\",\"price_change_percentage_24h\",\"price_change_percentage_24h\",\"price_change_percentage_24h\",\"price_change_percentage_24h\",\"price_change_percentage_24h\",\"price_change_percentage_24h\",\"price_change_percentage_24h\",\"price_change_percentage_24h\",\"price_change_percentage_24h\",\"price_change_percentage_24h\",\"price_change_percentage_24h\",\"price_change_percentage_24h\",\"price_change_percentage_24h\",\"price_change_percentage_24h\",\"price_change_percentage_24h\",\"price_change_percentage_24h\",\"price_change_percentage_24h\",\"price_change_percentage_24h\",\"price_change_percentage_24h\",\"price_change_percentage_24h\",\"price_change_percentage_24h\",\"price_change_percentage_24h\",\"price_change_percentage_24h\",\"price_change_percentage_24h\",\"price_change_percentage_24h\",\"price_change_percentage_24h\",\"price_change_percentage_24h\",\"price_change_percentage_24h\",\"price_change_percentage_24h\",\"price_change_percentage_24h\",\"price_change_percentage_24h\",\"price_change_percentage_24h\"],\"coin_id\":[\"bitcoin\",\"ethereum\",\"tether\",\"ripple\",\"bitcoin-cash\",\"binancecoin\",\"chainlink\",\"cardano\",\"litecoin\",\"bitcoin-cash-sv\",\"crypto-com-chain\",\"usd-coin\",\"eos\",\"monero\",\"tron\",\"tezos\",\"okb\",\"stellar\",\"cosmos\",\"cdai\",\"neo\",\"wrapped-bitcoin\",\"leo-token\",\"huobi-token\",\"nem\",\"binance-usd\",\"iota\",\"vechain\",\"zcash\",\"theta-token\",\"dash\",\"ethereum-classic\",\"ethlend\",\"maker\",\"havven\",\"omisego\",\"celsius-degree-token\",\"ontology\",\"ftx-token\",\"true-usd\",\"digibyte\"],\"value\":{\"__ndarray__\":\"nZ0MjpJX8T8MzXUaaanMP5mByvj3Gcu/wCZr1EM02L8ep+hILj8HQL0Yyol21QBAwhcmUwWjzr//CS5W1GBqP7JGPUSjO7C/QKTfvg6c7T8urYbEPZbjPzeJQWDl0Ma/1pC4x9KHwj87NgLxun7bP90HILWJk7M/JjYf14aK5b83iUFg5dAFwG3i5H6HIvC/5nlwd9Zu7r9i83FtqBjLP+iHEcKjjd8/M9yAzw+j8T/fGtgqweLAv+RmuAGfH9q/UdobfGEy678D7KNTVz67v8YzaOif4No/teBFX0Ga9D8G2Eenrnzjvx+duvJZPhLAoMN8eQH28L+cxCCwcmjdv667eapDDivAX5hMFYxK479EUaBP5EkQwAZkr3d/XBNA0JuKVBgbBEDqBDQRNrz1vxo09E9wseo/tI6qJoi6r79qMA3DR8QHQA==\",\"dtype\":\"float64\",\"order\":\"little\",\"shape\":[41]}},\"selected\":{\"id\":\"4957\"},\"selection_policy\":{\"id\":\"4971\"}},\"id\":\"4956\",\"type\":\"ColumnDataSource\"},{\"attributes\":{\"line_color\":\"#8b8b8b\",\"line_width\":2,\"x\":{\"field\":\"coin_id\"},\"y\":{\"field\":\"value\"}},\"id\":\"5076\",\"type\":\"Line\"},{\"attributes\":{\"coordinates\":null,\"data_source\":{\"id\":\"5023\"},\"glyph\":{\"id\":\"5026\"},\"group\":null,\"hover_glyph\":null,\"muted_glyph\":{\"id\":\"5028\"},\"nonselection_glyph\":{\"id\":\"5027\"},\"selection_glyph\":{\"id\":\"5048\"},\"view\":{\"id\":\"5030\"}},\"id\":\"5029\",\"type\":\"GlyphRenderer\"},{\"attributes\":{},\"id\":\"4954\",\"type\":\"BasicTickFormatter\"},{\"attributes\":{\"line_alpha\":0.2,\"line_color\":\"#6d904f\",\"line_width\":2,\"x\":{\"field\":\"coin_id\"},\"y\":{\"field\":\"value\"}},\"id\":\"5028\",\"type\":\"Line\"},{\"attributes\":{},\"id\":\"5024\",\"type\":\"Selection\"},{\"attributes\":{},\"id\":\"4955\",\"type\":\"AllLabels\"},{\"attributes\":{},\"id\":\"5102\",\"type\":\"UnionRenderers\"},{\"attributes\":{\"line_alpha\":0.1,\"line_color\":\"#17becf\",\"line_width\":2,\"x\":{\"field\":\"coin_id\"},\"y\":{\"field\":\"value\"}},\"id\":\"5081\",\"type\":\"Line\"},{\"attributes\":{\"source\":{\"id\":\"5023\"}},\"id\":\"5030\",\"type\":\"CDSView\"},{\"attributes\":{\"line_color\":\"#6d904f\",\"line_width\":2,\"x\":{\"field\":\"coin_id\"},\"y\":{\"field\":\"value\"}},\"id\":\"5026\",\"type\":\"Line\"},{\"attributes\":{\"coordinates\":null,\"data_source\":{\"id\":\"5077\"},\"glyph\":{\"id\":\"5080\"},\"group\":null,\"hover_glyph\":null,\"muted_glyph\":{\"id\":\"5082\"},\"nonselection_glyph\":{\"id\":\"5081\"},\"selection_glyph\":{\"id\":\"5106\"},\"view\":{\"id\":\"5084\"}},\"id\":\"5083\",\"type\":\"GlyphRenderer\"},{\"attributes\":{\"line_color\":\"#9467bd\",\"line_width\":2,\"x\":{\"field\":\"coin_id\"},\"y\":{\"field\":\"value\"}},\"id\":\"5138\",\"type\":\"Line\"},{\"attributes\":{\"coordinates\":null,\"data_source\":{\"id\":\"4956\"},\"glyph\":{\"id\":\"4959\"},\"group\":null,\"hover_glyph\":null,\"muted_glyph\":{\"id\":\"4961\"},\"nonselection_glyph\":{\"id\":\"4960\"},\"selection_glyph\":{\"id\":\"4976\"},\"view\":{\"id\":\"4963\"}},\"id\":\"4962\",\"type\":\"GlyphRenderer\"},{\"attributes\":{\"line_alpha\":0.2,\"line_color\":\"#17becf\",\"line_width\":2,\"x\":{\"field\":\"coin_id\"},\"y\":{\"field\":\"value\"}},\"id\":\"5082\",\"type\":\"Line\"},{\"attributes\":{},\"id\":\"5078\",\"type\":\"Selection\"},{\"attributes\":{\"data\":{\"Variable\":[\"price_change_percentage_200d\",\"price_change_percentage_200d\",\"price_change_percentage_200d\",\"price_change_percentage_200d\",\"price_change_percentage_200d\",\"price_change_percentage_200d\",\"price_change_percentage_200d\",\"price_change_percentage_200d\",\"price_change_percentage_200d\",\"price_change_percentage_200d\",\"price_change_percentage_200d\",\"price_change_percentage_200d\",\"price_change_percentage_200d\",\"price_change_percentage_200d\",\"price_change_percentage_200d\",\"price_change_percentage_200d\",\"price_change_percentage_200d\",\"price_change_percentage_200d\",\"price_change_percentage_200d\",\"price_change_percentage_200d\",\"price_change_percentage_200d\",\"price_change_percentage_200d\",\"price_change_percentage_200d\",\"price_change_percentage_200d\",\"price_change_percentage_200d\",\"price_change_percentage_200d\",\"price_change_percentage_200d\",\"price_change_percentage_200d\",\"price_change_percentage_200d\",\"price_change_percentage_200d\",\"price_change_percentage_200d\",\"price_change_percentage_200d\",\"price_change_percentage_200d\",\"price_change_percentage_200d\",\"price_change_percentage_200d\",\"price_change_percentage_200d\",\"price_change_percentage_200d\",\"price_change_percentage_200d\",\"price_change_percentage_200d\",\"price_change_percentage_200d\",\"price_change_percentage_200d\"],\"coin_id\":[\"bitcoin\",\"ethereum\",\"tether\",\"ripple\",\"bitcoin-cash\",\"binancecoin\",\"chainlink\",\"cardano\",\"litecoin\",\"bitcoin-cash-sv\",\"crypto-com-chain\",\"usd-coin\",\"eos\",\"monero\",\"tron\",\"tezos\",\"okb\",\"stellar\",\"cosmos\",\"cdai\",\"neo\",\"wrapped-bitcoin\",\"leo-token\",\"huobi-token\",\"nem\",\"binance-usd\",\"iota\",\"vechain\",\"zcash\",\"theta-token\",\"dash\",\"ethereum-classic\",\"ethlend\",\"maker\",\"havven\",\"omisego\",\"celsius-degree-token\",\"ontology\",\"ftx-token\",\"true-usd\",\"digibyte\"],\"value\":{\"__ndarray__\":\"xY8xdy3hVED0piIVxlhnQBe86CtIM3a/9zsUBfrEQ0DTn/1IEak1QPTDCOHRc2NAl3MprqozeUAexM4UOohwQIB9dOrKfztAFhiyutWzHUCN7iB2plZsQIQqNXugFcS/ZHWr56QPMkALe9rhrzBlQH+8V61MnGBA5nlwd9a2RUARHm0csfpDQC+Lic3HJ1VAkj8YeO4/Z0AOvjCZKhjZv2vUQzS61GNAtRX7y+75VEC5GW7A52cwQAPso1NXHkVAKa4q+64Fa0A7NgLxun65P+TaUDHOwVdAyM1wAz7bcEAFwHgGDaNeQH3Qs1k1lYtAOUVHcvnvGEANGvonuMgkQCYZOQvbZ6FAGD4ipkSiVED5MeauZXeDQHi0ccQaSoJAC170FcTYmEB1PGagMmJLQC2yne+nvkxAndfYJaq3tr9R9wFIbSl+QA==\",\"dtype\":\"float64\",\"order\":\"little\",\"shape\":[41]}},\"selected\":{\"id\":\"5078\"},\"selection_policy\":{\"id\":\"5102\"}},\"id\":\"5077\",\"type\":\"ColumnDataSource\"},{\"attributes\":{\"line_color\":\"#fc4f30\",\"line_width\":2,\"x\":{\"field\":\"coin_id\"},\"y\":{\"field\":\"value\"}},\"id\":\"4998\",\"type\":\"Line\"},{\"attributes\":{\"source\":{\"id\":\"5077\"}},\"id\":\"5084\",\"type\":\"CDSView\"},{\"attributes\":{\"line_color\":\"#17becf\",\"line_width\":2,\"x\":{\"field\":\"coin_id\"},\"y\":{\"field\":\"value\"}},\"id\":\"5080\",\"type\":\"Line\"},{\"attributes\":{\"source\":{\"id\":\"4956\"}},\"id\":\"4963\",\"type\":\"CDSView\"},{\"attributes\":{\"callback\":null,\"renderers\":[{\"id\":\"4962\"},{\"id\":\"4983\"},{\"id\":\"5005\"},{\"id\":\"5029\"},{\"id\":\"5055\"},{\"id\":\"5083\"},{\"id\":\"5113\"}],\"tags\":[\"hv_created\"],\"tooltips\":[[\"Variable\",\"@{Variable}\"],[\"coin_id\",\"@{coin_id}\"],[\"value\",\"@{value}\"]]},\"id\":\"4914\",\"type\":\"HoverTool\"}],\"root_ids\":[\"4911\"]},\"title\":\"Bokeh Application\",\"version\":\"2.4.3\"}};\n",
       "    var render_items = [{\"docid\":\"f353555d-c3a8-4a27-85a7-5dae7b315436\",\"root_ids\":[\"4911\"],\"roots\":{\"4911\":\"8971114d-55a1-4493-95ea-7259568b9786\"}}];\n",
       "    root.Bokeh.embed.embed_items_notebook(docs_json, render_items);\n",
>>>>>>> Stashed changes
       "    for (const render_item of render_items) {\n",
       "      for (const root_id of render_item.root_ids) {\n",
       "\tconst id_el = document.getElementById(root_id)\n",
       "\tif (id_el.children.length && (id_el.children[0].className === 'bk-root')) {\n",
       "\t  const root_el = id_el.children[0]\n",
       "\t  root_el.id = root_el.id + '-rendered'\n",
       "\t}\n",
       "      }\n",
       "    }\n",
       "  }\n",
       "  function get_bokeh(root) {\n",
       "    if (root.Bokeh === undefined) {\n",
       "      return null\n",
       "    } else if (root.Bokeh.version !== py_version && !is_dev) {\n",
       "      if (root.Bokeh.versions === undefined || !root.Bokeh.versions.has(py_version)) {\n",
       "\treturn null\n",
       "      }\n",
       "      return root.Bokeh.versions.get(py_version);\n",
       "    } else if (root.Bokeh.version === py_version) {\n",
       "      return root.Bokeh\n",
       "    }\n",
       "    return null\n",
       "  }\n",
       "  function is_loaded(root) {\n",
       "    var Bokeh = get_bokeh(root)\n",
       "    return (Bokeh != null && Bokeh.Panel !== undefined)\n",
       "  }\n",
       "  if (is_loaded(root)) {\n",
       "    embed_document(root);\n",
       "  } else {\n",
       "    var attempts = 0;\n",
       "    var timer = setInterval(function(root) {\n",
       "      if (is_loaded(root)) {\n",
       "        clearInterval(timer);\n",
       "        embed_document(root);\n",
       "      } else if (document.readyState == \"complete\") {\n",
       "        attempts++;\n",
       "        if (attempts > 200) {\n",
       "          clearInterval(timer);\n",
       "\t  var Bokeh = get_bokeh(root)\n",
       "\t  if (Bokeh == null || Bokeh.Panel == null) {\n",
       "            console.warn(\"Panel: ERROR: Unable to run Panel code because Bokeh or Panel library is missing\");\n",
       "\t  } else {\n",
       "\t    console.warn(\"Panel: WARNING: Attempting to render but not all required libraries could be resolved.\")\n",
       "\t    embed_document(root)\n",
       "\t  }\n",
       "        }\n",
       "      }\n",
       "    }, 25, root)\n",
       "  }\n",
       "})(window);</script>"
      ],
      "text/plain": [
       ":NdOverlay   [Variable]\n",
       "   :Curve   [coin_id]   (value)"
      ]
     },
     "execution_count": 168,
     "metadata": {
      "application/vnd.holoviews_exec.v0+json": {
<<<<<<< Updated upstream
       "id": "p1002"
=======
       "id": "4911"
>>>>>>> Stashed changes
      }
     },
     "output_type": "execute_result"
    }
   ],
   "source": [
    "# Plot your data to see what's in your DataFrame\n",
    "df_market_data.hvplot.line(\n",
    "    width=800,\n",
    "    height=400,\n",
    "    rot=90\n",
    ")"
   ]
  },
  {
   "attachments": {},
   "cell_type": "markdown",
   "metadata": {},
   "source": [
    "---"
   ]
  },
  {
   "attachments": {},
   "cell_type": "markdown",
   "metadata": {},
   "source": [
    "### Prepare the Data"
   ]
  },
  {
   "cell_type": "code",
   "execution_count": 169,
   "metadata": {},
   "outputs": [],
   "source": [
    "prep_num_col = ['price_change_percentage_24h',\n",
    "                'price_change_percentage_7d',\n",
    "                'price_change_percentage_14d',\n",
    "                'price_change_percentage_30d',\n",
    "                'price_change_percentage_60d',\n",
    "                'price_change_percentage_200d',\n",
    "                'price_change_percentage_1y']"
   ]
  },
  {
   "cell_type": "code",
   "execution_count": 170,
   "metadata": {},
   "outputs": [],
   "source": [
    "# Use the `StandardScaler()` module from scikit-learn to normalize the data from the CSV file\n",
    "scaler = StandardScaler()\n",
    "\n",
    "df_market_data[prep_num_col] = scaler.fit_transform(df_market_data[prep_num_col])"
   ]
  },
  {
   "cell_type": "code",
   "execution_count": 171,
   "metadata": {},
   "outputs": [],
   "source": [
    "# Create a DataFrame with the scaled data\n",
    "\n",
    "df_mkt_scaled = df_market_data.copy()"
   ]
  },
  {
   "cell_type": "code",
   "execution_count": 172,
   "metadata": {},
   "outputs": [],
   "source": [
    "# Copy the crypto names from the original data\n",
    "# > The crypto names are already there (?)"
   ]
  },
  {
   "cell_type": "code",
   "execution_count": 173,
   "metadata": {},
   "outputs": [],
   "source": [
    "# Set the coinid column as index\n",
    "# > If needed to set coinid as index, although it already is... this is what I would use: \n",
    "# > df_mkt_scaled.set_index('coinid', inplace=True)"
   ]
  },
  {
   "cell_type": "code",
   "execution_count": 174,
   "metadata": {},
   "outputs": [
    {
     "data": {
      "text/html": [
       "<div>\n",
       "<style scoped>\n",
       "    .dataframe tbody tr th:only-of-type {\n",
       "        vertical-align: middle;\n",
       "    }\n",
       "\n",
       "    .dataframe tbody tr th {\n",
       "        vertical-align: top;\n",
       "    }\n",
       "\n",
       "    .dataframe thead th {\n",
       "        text-align: right;\n",
       "    }\n",
       "</style>\n",
       "<table border=\"1\" class=\"dataframe\">\n",
       "  <thead>\n",
       "    <tr style=\"text-align: right;\">\n",
       "      <th></th>\n",
       "      <th>price_change_percentage_24h</th>\n",
       "      <th>price_change_percentage_7d</th>\n",
       "      <th>price_change_percentage_14d</th>\n",
       "      <th>price_change_percentage_30d</th>\n",
       "      <th>price_change_percentage_60d</th>\n",
       "      <th>price_change_percentage_200d</th>\n",
       "      <th>price_change_percentage_1y</th>\n",
       "    </tr>\n",
       "    <tr>\n",
       "      <th>coin_id</th>\n",
       "      <th></th>\n",
       "      <th></th>\n",
       "      <th></th>\n",
       "      <th></th>\n",
       "      <th></th>\n",
       "      <th></th>\n",
       "      <th></th>\n",
       "    </tr>\n",
       "  </thead>\n",
       "  <tbody>\n",
       "    <tr>\n",
       "      <th>bitcoin</th>\n",
       "      <td>0.508529</td>\n",
       "      <td>0.493193</td>\n",
       "      <td>0.772200</td>\n",
       "      <td>0.235460</td>\n",
       "      <td>-0.067495</td>\n",
       "      <td>-0.355953</td>\n",
       "      <td>-0.251637</td>\n",
       "    </tr>\n",
       "    <tr>\n",
       "      <th>ethereum</th>\n",
       "      <td>0.185446</td>\n",
       "      <td>0.934445</td>\n",
       "      <td>0.558692</td>\n",
       "      <td>-0.054341</td>\n",
       "      <td>-0.273483</td>\n",
       "      <td>-0.115759</td>\n",
       "      <td>-0.199352</td>\n",
       "    </tr>\n",
       "    <tr>\n",
       "      <th>tether</th>\n",
       "      <td>0.021774</td>\n",
       "      <td>-0.706337</td>\n",
       "      <td>-0.021680</td>\n",
       "      <td>-0.061030</td>\n",
       "      <td>0.008005</td>\n",
       "      <td>-0.550247</td>\n",
       "      <td>-0.282061</td>\n",
       "    </tr>\n",
       "    <tr>\n",
       "      <th>ripple</th>\n",
       "      <td>-0.040764</td>\n",
       "      <td>-0.810928</td>\n",
       "      <td>0.249458</td>\n",
       "      <td>-0.050388</td>\n",
       "      <td>-0.373164</td>\n",
       "      <td>-0.458259</td>\n",
       "      <td>-0.295546</td>\n",
       "    </tr>\n",
       "    <tr>\n",
       "      <th>bitcoin-cash</th>\n",
       "      <td>1.193036</td>\n",
       "      <td>2.000959</td>\n",
       "      <td>1.760610</td>\n",
       "      <td>0.545842</td>\n",
       "      <td>-0.291203</td>\n",
       "      <td>-0.499848</td>\n",
       "      <td>-0.270317</td>\n",
       "    </tr>\n",
       "  </tbody>\n",
       "</table>\n",
       "</div>"
      ],
      "text/plain": [
       "              price_change_percentage_24h  price_change_percentage_7d  \\\n",
       "coin_id                                                                 \n",
       "bitcoin                          0.508529                    0.493193   \n",
       "ethereum                         0.185446                    0.934445   \n",
       "tether                           0.021774                   -0.706337   \n",
       "ripple                          -0.040764                   -0.810928   \n",
       "bitcoin-cash                     1.193036                    2.000959   \n",
       "\n",
       "              price_change_percentage_14d  price_change_percentage_30d  \\\n",
       "coin_id                                                                  \n",
       "bitcoin                          0.772200                     0.235460   \n",
       "ethereum                         0.558692                    -0.054341   \n",
       "tether                          -0.021680                    -0.061030   \n",
       "ripple                           0.249458                    -0.050388   \n",
       "bitcoin-cash                     1.760610                     0.545842   \n",
       "\n",
       "              price_change_percentage_60d  price_change_percentage_200d  \\\n",
       "coin_id                                                                   \n",
       "bitcoin                         -0.067495                     -0.355953   \n",
       "ethereum                        -0.273483                     -0.115759   \n",
       "tether                           0.008005                     -0.550247   \n",
       "ripple                          -0.373164                     -0.458259   \n",
       "bitcoin-cash                    -0.291203                     -0.499848   \n",
       "\n",
       "              price_change_percentage_1y  \n",
       "coin_id                                   \n",
       "bitcoin                        -0.251637  \n",
       "ethereum                       -0.199352  \n",
       "tether                         -0.282061  \n",
       "ripple                         -0.295546  \n",
       "bitcoin-cash                   -0.270317  "
      ]
     },
     "execution_count": 174,
     "metadata": {},
     "output_type": "execute_result"
    }
   ],
   "source": [
    "# Display sample data\n",
    "df_mkt_scaled.head()\n"
   ]
  },
  {
   "attachments": {},
   "cell_type": "markdown",
   "metadata": {},
   "source": [
    "---"
   ]
  },
  {
   "attachments": {},
   "cell_type": "markdown",
   "metadata": {},
   "source": [
    "### Find the Best Value for k Using the Original Data."
   ]
  },
  {
   "cell_type": "code",
   "execution_count": 175,
   "metadata": {},
   "outputs": [],
   "source": [
    "# Create a list with the number of k-values from 1 to 11\n",
    "k_values = [k for k in range(1, 12)]"
   ]
  },
  {
   "cell_type": "code",
   "execution_count": 176,
   "metadata": {},
   "outputs": [],
   "source": [
    "# Step 1: Create an empty list to store the inertia values\n",
    "inertia_values = []"
   ]
  },
  {
   "cell_type": "code",
   "execution_count": 177,
   "metadata": {},
   "outputs": [
    {
     "name": "stderr",
     "output_type": "stream",
     "text": [
      "d:\\RDA\\envs\\dev00\\lib\\site-packages\\sklearn\\cluster\\_kmeans.py:1382: UserWarning: KMeans is known to have a memory leak on Windows with MKL, when there are less chunks than available threads. You can avoid it by setting the environment variable OMP_NUM_THREADS=1.\n",
      "  warnings.warn(\n",
      "d:\\RDA\\envs\\dev00\\lib\\site-packages\\sklearn\\cluster\\_kmeans.py:1382: UserWarning: KMeans is known to have a memory leak on Windows with MKL, when there are less chunks than available threads. You can avoid it by setting the environment variable OMP_NUM_THREADS=1.\n",
      "  warnings.warn(\n",
      "d:\\RDA\\envs\\dev00\\lib\\site-packages\\sklearn\\cluster\\_kmeans.py:1382: UserWarning: KMeans is known to have a memory leak on Windows with MKL, when there are less chunks than available threads. You can avoid it by setting the environment variable OMP_NUM_THREADS=1.\n",
      "  warnings.warn(\n",
      "d:\\RDA\\envs\\dev00\\lib\\site-packages\\sklearn\\cluster\\_kmeans.py:1382: UserWarning: KMeans is known to have a memory leak on Windows with MKL, when there are less chunks than available threads. You can avoid it by setting the environment variable OMP_NUM_THREADS=1.\n",
      "  warnings.warn(\n",
      "d:\\RDA\\envs\\dev00\\lib\\site-packages\\sklearn\\cluster\\_kmeans.py:1382: UserWarning: KMeans is known to have a memory leak on Windows with MKL, when there are less chunks than available threads. You can avoid it by setting the environment variable OMP_NUM_THREADS=1.\n",
      "  warnings.warn(\n",
      "d:\\RDA\\envs\\dev00\\lib\\site-packages\\sklearn\\cluster\\_kmeans.py:1382: UserWarning: KMeans is known to have a memory leak on Windows with MKL, when there are less chunks than available threads. You can avoid it by setting the environment variable OMP_NUM_THREADS=1.\n",
      "  warnings.warn(\n"
     ]
    },
    {
     "name": "stderr",
     "output_type": "stream",
     "text": [
      "d:\\RDA\\envs\\dev00\\lib\\site-packages\\sklearn\\cluster\\_kmeans.py:1382: UserWarning: KMeans is known to have a memory leak on Windows with MKL, when there are less chunks than available threads. You can avoid it by setting the environment variable OMP_NUM_THREADS=1.\n",
      "  warnings.warn(\n",
      "d:\\RDA\\envs\\dev00\\lib\\site-packages\\sklearn\\cluster\\_kmeans.py:1382: UserWarning: KMeans is known to have a memory leak on Windows with MKL, when there are less chunks than available threads. You can avoid it by setting the environment variable OMP_NUM_THREADS=1.\n",
      "  warnings.warn(\n",
      "d:\\RDA\\envs\\dev00\\lib\\site-packages\\sklearn\\cluster\\_kmeans.py:1382: UserWarning: KMeans is known to have a memory leak on Windows with MKL, when there are less chunks than available threads. You can avoid it by setting the environment variable OMP_NUM_THREADS=1.\n",
      "  warnings.warn(\n",
      "d:\\RDA\\envs\\dev00\\lib\\site-packages\\sklearn\\cluster\\_kmeans.py:1382: UserWarning: KMeans is known to have a memory leak on Windows with MKL, when there are less chunks than available threads. You can avoid it by setting the environment variable OMP_NUM_THREADS=1.\n",
      "  warnings.warn(\n",
      "d:\\RDA\\envs\\dev00\\lib\\site-packages\\sklearn\\cluster\\_kmeans.py:1382: UserWarning: KMeans is known to have a memory leak on Windows with MKL, when there are less chunks than available threads. You can avoid it by setting the environment variable OMP_NUM_THREADS=1.\n",
      "  warnings.warn(\n"
     ]
    }
   ],
   "source": [
    "for k in range(1, 12):  # The range is from 1 to 11 (inclusive).\n",
    "    # Step 2.1: Create a KMeans model using the loop counter for the n_clusters\n",
    "    kmeans_model = KMeans(n_clusters=k,n_init=10)\n",
    "    \n",
    "    # Step 2.2: Fit the model to the data using the scaled data\n",
    "    kmeans_model.fit(df_mkt_scaled)\n",
    "    \n",
    "    # Step 2.3: Append the model.inertia_ to the inertia list\n",
    "    inertia_values.append(kmeans_model.inertia_)"
   ]
  },
  {
   "cell_type": "code",
   "execution_count": 178,
   "metadata": {},
   "outputs": [
    {
     "data": {
      "text/plain": [
       "[287.0,\n",
       " 195.82021818036043,\n",
       " 123.19048183836959,\n",
       " 79.02243535120975,\n",
       " 64.12799653396947,\n",
       " 53.05778846567061,\n",
       " 46.074467441030215,\n",
       " 36.85009058991481,\n",
       " 33.03811293270435,\n",
       " 28.324714052012794,\n",
       " 24.694125876674075]"
      ]
     },
     "execution_count": 178,
     "metadata": {},
     "output_type": "execute_result"
    }
   ],
   "source": [
    "inertia_values"
   ]
  },
  {
   "cell_type": "code",
   "execution_count": 179,
   "metadata": {},
   "outputs": [],
   "source": [
    "# Create a dictionary with the data to plot the Elbow curve\n",
    "inertia_dict = dict(zip(k_values, inertia_values))\n"
   ]
  },
  {
   "cell_type": "code",
   "execution_count": 180,
   "metadata": {},
   "outputs": [],
   "source": [
    "# Create a DataFrame with the data to plot the Elbow curve\n",
    "elbow_data = pd.DataFrame(list(inertia_dict.items()), columns=['k', 'inertia'])"
   ]
  },
  {
   "cell_type": "code",
   "execution_count": 181,
   "metadata": {},
   "outputs": [
    {
     "data": {
      "text/html": [
       "<div>\n",
       "<style scoped>\n",
       "    .dataframe tbody tr th:only-of-type {\n",
       "        vertical-align: middle;\n",
       "    }\n",
       "\n",
       "    .dataframe tbody tr th {\n",
       "        vertical-align: top;\n",
       "    }\n",
       "\n",
       "    .dataframe thead th {\n",
       "        text-align: right;\n",
       "    }\n",
       "</style>\n",
       "<table border=\"1\" class=\"dataframe\">\n",
       "  <thead>\n",
       "    <tr style=\"text-align: right;\">\n",
       "      <th></th>\n",
       "      <th>k</th>\n",
       "      <th>inertia</th>\n",
       "    </tr>\n",
       "  </thead>\n",
       "  <tbody>\n",
       "    <tr>\n",
       "      <th>0</th>\n",
       "      <td>1</td>\n",
       "      <td>287.000000</td>\n",
       "    </tr>\n",
       "    <tr>\n",
       "      <th>1</th>\n",
       "      <td>2</td>\n",
       "      <td>195.820218</td>\n",
       "    </tr>\n",
       "    <tr>\n",
       "      <th>2</th>\n",
       "      <td>3</td>\n",
       "      <td>123.190482</td>\n",
       "    </tr>\n",
       "    <tr>\n",
       "      <th>3</th>\n",
       "      <td>4</td>\n",
       "      <td>79.022435</td>\n",
       "    </tr>\n",
       "    <tr>\n",
       "      <th>4</th>\n",
       "      <td>5</td>\n",
       "      <td>64.127997</td>\n",
       "    </tr>\n",
       "    <tr>\n",
       "      <th>5</th>\n",
       "      <td>6</td>\n",
       "      <td>53.057788</td>\n",
       "    </tr>\n",
       "    <tr>\n",
       "      <th>6</th>\n",
       "      <td>7</td>\n",
       "      <td>46.074467</td>\n",
       "    </tr>\n",
       "    <tr>\n",
       "      <th>7</th>\n",
       "      <td>8</td>\n",
       "      <td>36.850091</td>\n",
       "    </tr>\n",
       "    <tr>\n",
       "      <th>8</th>\n",
       "      <td>9</td>\n",
       "      <td>33.038113</td>\n",
       "    </tr>\n",
       "    <tr>\n",
       "      <th>9</th>\n",
       "      <td>10</td>\n",
       "      <td>28.324714</td>\n",
       "    </tr>\n",
       "    <tr>\n",
       "      <th>10</th>\n",
       "      <td>11</td>\n",
       "      <td>24.694126</td>\n",
       "    </tr>\n",
       "  </tbody>\n",
       "</table>\n",
       "</div>"
      ],
      "text/plain": [
       "     k     inertia\n",
       "0    1  287.000000\n",
       "1    2  195.820218\n",
       "2    3  123.190482\n",
       "3    4   79.022435\n",
       "4    5   64.127997\n",
       "5    6   53.057788\n",
       "6    7   46.074467\n",
       "7    8   36.850091\n",
       "8    9   33.038113\n",
       "9   10   28.324714\n",
       "10  11   24.694126"
      ]
     },
     "execution_count": 181,
     "metadata": {},
     "output_type": "execute_result"
    }
   ],
   "source": [
    "elbow_data"
   ]
  },
  {
   "cell_type": "code",
   "execution_count": 182,
   "metadata": {},
   "outputs": [
    {
     "data": {},
     "metadata": {},
     "output_type": "display_data"
    },
    {
     "data": {
      "application/vnd.holoviews_exec.v0+json": "",
      "text/html": [
       "<div id='5276'>\n",
       "  <div class=\"bk-root\" id=\"93631801-07cd-426b-9f1c-91a432f0414f\" data-root-id=\"5276\"></div>\n",
       "</div>\n",
       "<script type=\"application/javascript\">(function(root) {\n",
       "  function embed_document(root) {\n",
       "    var docs_json = {\"8b8d8555-d0f1-4ea6-8678-1f34f61d28cb\":{\"defs\":[{\"extends\":null,\"module\":null,\"name\":\"ReactiveHTML1\",\"overrides\":[],\"properties\":[]},{\"extends\":null,\"module\":null,\"name\":\"FlexBox1\",\"overrides\":[],\"properties\":[{\"default\":\"flex-start\",\"kind\":null,\"name\":\"align_content\"},{\"default\":\"flex-start\",\"kind\":null,\"name\":\"align_items\"},{\"default\":\"row\",\"kind\":null,\"name\":\"flex_direction\"},{\"default\":\"wrap\",\"kind\":null,\"name\":\"flex_wrap\"},{\"default\":\"flex-start\",\"kind\":null,\"name\":\"justify_content\"}]},{\"extends\":null,\"module\":null,\"name\":\"GridStack1\",\"overrides\":[],\"properties\":[{\"default\":\"warn\",\"kind\":null,\"name\":\"mode\"},{\"default\":null,\"kind\":null,\"name\":\"ncols\"},{\"default\":null,\"kind\":null,\"name\":\"nrows\"},{\"default\":true,\"kind\":null,\"name\":\"allow_resize\"},{\"default\":true,\"kind\":null,\"name\":\"allow_drag\"},{\"default\":[],\"kind\":null,\"name\":\"state\"}]},{\"extends\":null,\"module\":null,\"name\":\"click1\",\"overrides\":[],\"properties\":[{\"default\":\"\",\"kind\":null,\"name\":\"terminal_output\"},{\"default\":\"\",\"kind\":null,\"name\":\"debug_name\"},{\"default\":0,\"kind\":null,\"name\":\"clears\"}]},{\"extends\":null,\"module\":null,\"name\":\"NotificationAreaBase1\",\"overrides\":[],\"properties\":[{\"default\":\"bottom-right\",\"kind\":null,\"name\":\"position\"},{\"default\":0,\"kind\":null,\"name\":\"_clear\"}]},{\"extends\":null,\"module\":null,\"name\":\"NotificationArea1\",\"overrides\":[],\"properties\":[{\"default\":[],\"kind\":null,\"name\":\"notifications\"},{\"default\":\"bottom-right\",\"kind\":null,\"name\":\"position\"},{\"default\":0,\"kind\":null,\"name\":\"_clear\"},{\"default\":[{\"background\":\"#ffc107\",\"icon\":{\"className\":\"fas fa-exclamation-triangle\",\"color\":\"white\",\"tagName\":\"i\"},\"type\":\"warning\"},{\"background\":\"#007bff\",\"icon\":{\"className\":\"fas fa-info-circle\",\"color\":\"white\",\"tagName\":\"i\"},\"type\":\"info\"}],\"kind\":null,\"name\":\"types\"}]},{\"extends\":null,\"module\":null,\"name\":\"Notification\",\"overrides\":[],\"properties\":[{\"default\":null,\"kind\":null,\"name\":\"background\"},{\"default\":3000,\"kind\":null,\"name\":\"duration\"},{\"default\":null,\"kind\":null,\"name\":\"icon\"},{\"default\":\"\",\"kind\":null,\"name\":\"message\"},{\"default\":null,\"kind\":null,\"name\":\"notification_type\"},{\"default\":false,\"kind\":null,\"name\":\"_destroyed\"}]},{\"extends\":null,\"module\":null,\"name\":\"TemplateActions1\",\"overrides\":[],\"properties\":[{\"default\":0,\"kind\":null,\"name\":\"open_modal\"},{\"default\":0,\"kind\":null,\"name\":\"close_modal\"}]},{\"extends\":null,\"module\":null,\"name\":\"MaterialTemplateActions1\",\"overrides\":[],\"properties\":[{\"default\":0,\"kind\":null,\"name\":\"open_modal\"},{\"default\":0,\"kind\":null,\"name\":\"close_modal\"}]}],\"roots\":{\"references\":[{\"attributes\":{},\"id\":\"5290\",\"type\":\"BasicTicker\"},{\"attributes\":{},\"id\":\"5321\",\"type\":\"AllLabels\"},{\"attributes\":{\"line_alpha\":0.1,\"line_color\":\"#30a2da\",\"line_width\":2,\"x\":{\"field\":\"k\"},\"y\":{\"field\":\"inertia\"}},\"id\":\"5314\",\"type\":\"Line\"},{\"attributes\":{\"axis_label\":\"Inertia\",\"coordinates\":null,\"formatter\":{\"id\":\"5323\"},\"group\":null,\"major_label_policy\":{\"id\":\"5324\"},\"ticker\":{\"id\":\"5294\"}},\"id\":\"5293\",\"type\":\"LinearAxis\"},{\"attributes\":{\"axis\":{\"id\":\"5293\"},\"coordinates\":null,\"dimension\":1,\"group\":null,\"ticker\":{\"id\":\"5294\"}},\"id\":\"5296\",\"type\":\"Grid\"},{\"attributes\":{},\"id\":\"5324\",\"type\":\"AllLabels\"},{\"attributes\":{},\"id\":\"5294\",\"type\":\"BasicTicker\"},{\"attributes\":{},\"id\":\"5299\",\"type\":\"WheelZoomTool\"},{\"attributes\":{\"data\":{\"inertia\":{\"__ndarray__\":\"AAAAAADwcUByhzI6P3poQOGRvNowzF5AF+6ulG/BU0Cd2V8YMQhQQBYSyZxlh0pAuesrJogJR0AlKbnEz2xCQIrCc+LghEBAVPLJdSBTPEBbn8M7srE4QA==\",\"dtype\":\"float64\",\"order\":\"little\",\"shape\":[11]},\"k\":[1,2,3,4,5,6,7,8,9,10,11]},\"selected\":{\"id\":\"5311\"},\"selection_policy\":{\"id\":\"5338\"}},\"id\":\"5310\",\"type\":\"ColumnDataSource\"},{\"attributes\":{\"below\":[{\"id\":\"5289\"}],\"center\":[{\"id\":\"5292\"},{\"id\":\"5296\"}],\"height\":300,\"left\":[{\"id\":\"5293\"}],\"margin\":[5,5,5,5],\"min_border_bottom\":10,\"min_border_left\":10,\"min_border_right\":10,\"min_border_top\":10,\"renderers\":[{\"id\":\"5316\"}],\"sizing_mode\":\"fixed\",\"title\":{\"id\":\"5281\"},\"toolbar\":{\"id\":\"5303\"},\"width\":700,\"x_range\":{\"id\":\"5277\"},\"x_scale\":{\"id\":\"5285\"},\"y_range\":{\"id\":\"5278\"},\"y_scale\":{\"id\":\"5287\"}},\"id\":\"5280\",\"subtype\":\"Figure\",\"type\":\"Plot\"},{\"attributes\":{},\"id\":\"5297\",\"type\":\"SaveTool\"},{\"attributes\":{\"overlay\":{\"id\":\"5302\"}},\"id\":\"5300\",\"type\":\"BoxZoomTool\"},{\"attributes\":{},\"id\":\"5301\",\"type\":\"ResetTool\"},{\"attributes\":{},\"id\":\"5285\",\"type\":\"LinearScale\"},{\"attributes\":{\"bottom_units\":\"screen\",\"coordinates\":null,\"fill_alpha\":0.5,\"fill_color\":\"lightgrey\",\"group\":null,\"left_units\":\"screen\",\"level\":\"overlay\",\"line_alpha\":1.0,\"line_color\":\"black\",\"line_dash\":[4,4],\"line_width\":2,\"right_units\":\"screen\",\"syncable\":false,\"top_units\":\"screen\"},\"id\":\"5302\",\"type\":\"BoxAnnotation\"},{\"attributes\":{},\"id\":\"5311\",\"type\":\"Selection\"},{\"attributes\":{\"line_color\":\"#30a2da\",\"line_width\":2,\"x\":{\"field\":\"k\"},\"y\":{\"field\":\"inertia\"}},\"id\":\"5313\",\"type\":\"Line\"},{\"attributes\":{},\"id\":\"5338\",\"type\":\"UnionRenderers\"},{\"attributes\":{\"end\":313.23058741233257,\"reset_end\":313.23058741233257,\"reset_start\":-1.5364615356585176,\"start\":-1.5364615356585176,\"tags\":[[[\"inertia\",\"inertia\",null]]]},\"id\":\"5278\",\"type\":\"Range1d\"},{\"attributes\":{\"active_drag\":{\"id\":\"5298\"},\"active_scroll\":{\"id\":\"5299\"},\"tools\":[{\"id\":\"5279\"},{\"id\":\"5297\"},{\"id\":\"5298\"},{\"id\":\"5299\"},{\"id\":\"5300\"},{\"id\":\"5301\"}]},\"id\":\"5303\",\"type\":\"Toolbar\"},{\"attributes\":{\"line_alpha\":0.2,\"line_color\":\"#30a2da\",\"line_width\":2,\"x\":{\"field\":\"k\"},\"y\":{\"field\":\"inertia\"}},\"id\":\"5315\",\"type\":\"Line\"},{\"attributes\":{\"source\":{\"id\":\"5310\"}},\"id\":\"5317\",\"type\":\"CDSView\"},{\"attributes\":{\"line_color\":\"#30a2da\",\"line_width\":2,\"x\":{\"field\":\"k\"},\"y\":{\"field\":\"inertia\"}},\"id\":\"5318\",\"type\":\"Line\"},{\"attributes\":{\"coordinates\":null,\"data_source\":{\"id\":\"5310\"},\"glyph\":{\"id\":\"5313\"},\"group\":null,\"hover_glyph\":null,\"muted_glyph\":{\"id\":\"5315\"},\"nonselection_glyph\":{\"id\":\"5314\"},\"selection_glyph\":{\"id\":\"5318\"},\"view\":{\"id\":\"5317\"}},\"id\":\"5316\",\"type\":\"GlyphRenderer\"},{\"attributes\":{\"end\":11.0,\"reset_end\":11.0,\"reset_start\":1.0,\"start\":1.0,\"tags\":[[[\"k\",\"k\",null]]]},\"id\":\"5277\",\"type\":\"Range1d\"},{\"attributes\":{\"children\":[{\"id\":\"5280\"}],\"height\":300,\"margin\":[0,0,0,0],\"name\":\"Row04496\",\"sizing_mode\":\"fixed\",\"tags\":[\"embedded\"],\"width\":700},\"id\":\"5276\",\"type\":\"Row\"},{\"attributes\":{},\"id\":\"5320\",\"type\":\"BasicTickFormatter\"},{\"attributes\":{\"callback\":null,\"renderers\":[{\"id\":\"5316\"}],\"tags\":[\"hv_created\"],\"tooltips\":[[\"k\",\"@{k}\"],[\"inertia\",\"@{inertia}\"]]},\"id\":\"5279\",\"type\":\"HoverTool\"},{\"attributes\":{},\"id\":\"5287\",\"type\":\"LinearScale\"},{\"attributes\":{},\"id\":\"5298\",\"type\":\"PanTool\"},{\"attributes\":{},\"id\":\"5323\",\"type\":\"BasicTickFormatter\"},{\"attributes\":{\"coordinates\":null,\"group\":null,\"text\":\"Elbow Curve\",\"text_color\":\"black\",\"text_font_size\":\"12pt\"},\"id\":\"5281\",\"type\":\"Title\"},{\"attributes\":{\"axis\":{\"id\":\"5289\"},\"coordinates\":null,\"group\":null,\"ticker\":{\"id\":\"5290\"}},\"id\":\"5292\",\"type\":\"Grid\"},{\"attributes\":{\"axis_label\":\"Number of Clusters (k)\",\"coordinates\":null,\"formatter\":{\"id\":\"5320\"},\"group\":null,\"major_label_policy\":{\"id\":\"5321\"},\"ticker\":{\"id\":\"5290\"}},\"id\":\"5289\",\"type\":\"LinearAxis\"}],\"root_ids\":[\"5276\"]},\"title\":\"Bokeh Application\",\"version\":\"2.4.3\"}};\n",
       "    var render_items = [{\"docid\":\"8b8d8555-d0f1-4ea6-8678-1f34f61d28cb\",\"root_ids\":[\"5276\"],\"roots\":{\"5276\":\"93631801-07cd-426b-9f1c-91a432f0414f\"}}];\n",
       "    root.Bokeh.embed.embed_items_notebook(docs_json, render_items);\n",
       "    for (const render_item of render_items) {\n",
       "      for (const root_id of render_item.root_ids) {\n",
       "\tconst id_el = document.getElementById(root_id)\n",
       "\tif (id_el.children.length && (id_el.children[0].className === 'bk-root')) {\n",
       "\t  const root_el = id_el.children[0]\n",
       "\t  root_el.id = root_el.id + '-rendered'\n",
       "\t}\n",
       "      }\n",
       "    }\n",
       "  }\n",
       "  if (root.Bokeh !== undefined && root.Bokeh.Panel !== undefined) {\n",
       "    embed_document(root);\n",
       "  } else {\n",
       "    var attempts = 0;\n",
       "    var timer = setInterval(function(root) {\n",
       "      if (root.Bokeh !== undefined && root.Bokeh.Panel !== undefined) {\n",
       "        clearInterval(timer);\n",
       "        embed_document(root);\n",
       "      } else if (document.readyState == \"complete\") {\n",
       "        attempts++;\n",
       "        if (attempts > 200) {\n",
       "          clearInterval(timer);\n",
       "          console.log(\"Bokeh: ERROR: Unable to run BokehJS code because BokehJS library is missing\");\n",
       "        }\n",
       "      }\n",
       "    }, 25, root)\n",
       "  }\n",
       "})(window);</script>"
      ],
      "text/plain": [
       ":Curve   [k]   (inertia)"
      ]
     },
     "execution_count": 182,
     "metadata": {
      "application/vnd.holoviews_exec.v0+json": {
       "id": "5276"
      }
     },
     "output_type": "execute_result"
    }
   ],
   "source": [
    "# Plot a line chart to visually identify the optimal value for k\n",
    "elbow_data.hvplot.line(x='k',\n",
    "                       y='inertia',\n",
    "                       xlabel='Number of Clusters (k)',\n",
    "                       ylabel='Inertia',\n",
    "                       title='Elbow Curve',\n",
    "                       xticks=elbow_data['k'],\n",
    "                       grid=True)"
   ]
  },
  {
   "attachments": {},
   "cell_type": "markdown",
   "metadata": {},
   "source": [
    "#### Answer the following question: \n",
    "\n",
    "**Question:** What is the best value for `k`?\n",
    "\n",
    "**Answer:** The point of inertia is between 3 and 4. For a simple model we can choose k=3 as its a point where the inertia significantly decreases. On the other hand, if the model requires additional granularity, we can choose k=4.\n",
    "\n",
    "After running the entire analysis as K=3, this final solution is comprise of k=4."
   ]
  },
  {
   "attachments": {},
   "cell_type": "markdown",
   "metadata": {},
   "source": [
    "---"
   ]
  },
  {
   "attachments": {},
   "cell_type": "markdown",
   "metadata": {},
   "source": [
    "### Cluster Cryptocurrencies with K-means Using the Original Data"
   ]
  },
  {
   "cell_type": "code",
   "execution_count": 183,
   "metadata": {},
   "outputs": [],
   "source": [
    "# Initialize the K-Means model using the best value for k\n",
    "kmeans_bestmodel = KMeans(n_clusters=4, n_init=10)\n"
   ]
  },
  {
   "cell_type": "code",
   "execution_count": 184,
   "metadata": {},
   "outputs": [
    {
     "name": "stderr",
     "output_type": "stream",
     "text": [
      "d:\\RDA\\envs\\dev00\\lib\\site-packages\\sklearn\\cluster\\_kmeans.py:1382: UserWarning: KMeans is known to have a memory leak on Windows with MKL, when there are less chunks than available threads. You can avoid it by setting the environment variable OMP_NUM_THREADS=1.\n",
      "  warnings.warn(\n"
     ]
    },
    {
     "data": {
      "text/html": [
       "<style>#sk-container-id-6 {color: black;background-color: white;}#sk-container-id-6 pre{padding: 0;}#sk-container-id-6 div.sk-toggleable {background-color: white;}#sk-container-id-6 label.sk-toggleable__label {cursor: pointer;display: block;width: 100%;margin-bottom: 0;padding: 0.3em;box-sizing: border-box;text-align: center;}#sk-container-id-6 label.sk-toggleable__label-arrow:before {content: \"▸\";float: left;margin-right: 0.25em;color: #696969;}#sk-container-id-6 label.sk-toggleable__label-arrow:hover:before {color: black;}#sk-container-id-6 div.sk-estimator:hover label.sk-toggleable__label-arrow:before {color: black;}#sk-container-id-6 div.sk-toggleable__content {max-height: 0;max-width: 0;overflow: hidden;text-align: left;background-color: #f0f8ff;}#sk-container-id-6 div.sk-toggleable__content pre {margin: 0.2em;color: black;border-radius: 0.25em;background-color: #f0f8ff;}#sk-container-id-6 input.sk-toggleable__control:checked~div.sk-toggleable__content {max-height: 200px;max-width: 100%;overflow: auto;}#sk-container-id-6 input.sk-toggleable__control:checked~label.sk-toggleable__label-arrow:before {content: \"▾\";}#sk-container-id-6 div.sk-estimator input.sk-toggleable__control:checked~label.sk-toggleable__label {background-color: #d4ebff;}#sk-container-id-6 div.sk-label input.sk-toggleable__control:checked~label.sk-toggleable__label {background-color: #d4ebff;}#sk-container-id-6 input.sk-hidden--visually {border: 0;clip: rect(1px 1px 1px 1px);clip: rect(1px, 1px, 1px, 1px);height: 1px;margin: -1px;overflow: hidden;padding: 0;position: absolute;width: 1px;}#sk-container-id-6 div.sk-estimator {font-family: monospace;background-color: #f0f8ff;border: 1px dotted black;border-radius: 0.25em;box-sizing: border-box;margin-bottom: 0.5em;}#sk-container-id-6 div.sk-estimator:hover {background-color: #d4ebff;}#sk-container-id-6 div.sk-parallel-item::after {content: \"\";width: 100%;border-bottom: 1px solid gray;flex-grow: 1;}#sk-container-id-6 div.sk-label:hover label.sk-toggleable__label {background-color: #d4ebff;}#sk-container-id-6 div.sk-serial::before {content: \"\";position: absolute;border-left: 1px solid gray;box-sizing: border-box;top: 0;bottom: 0;left: 50%;z-index: 0;}#sk-container-id-6 div.sk-serial {display: flex;flex-direction: column;align-items: center;background-color: white;padding-right: 0.2em;padding-left: 0.2em;position: relative;}#sk-container-id-6 div.sk-item {position: relative;z-index: 1;}#sk-container-id-6 div.sk-parallel {display: flex;align-items: stretch;justify-content: center;background-color: white;position: relative;}#sk-container-id-6 div.sk-item::before, #sk-container-id-6 div.sk-parallel-item::before {content: \"\";position: absolute;border-left: 1px solid gray;box-sizing: border-box;top: 0;bottom: 0;left: 50%;z-index: -1;}#sk-container-id-6 div.sk-parallel-item {display: flex;flex-direction: column;z-index: 1;position: relative;background-color: white;}#sk-container-id-6 div.sk-parallel-item:first-child::after {align-self: flex-end;width: 50%;}#sk-container-id-6 div.sk-parallel-item:last-child::after {align-self: flex-start;width: 50%;}#sk-container-id-6 div.sk-parallel-item:only-child::after {width: 0;}#sk-container-id-6 div.sk-dashed-wrapped {border: 1px dashed gray;margin: 0 0.4em 0.5em 0.4em;box-sizing: border-box;padding-bottom: 0.4em;background-color: white;}#sk-container-id-6 div.sk-label label {font-family: monospace;font-weight: bold;display: inline-block;line-height: 1.2em;}#sk-container-id-6 div.sk-label-container {text-align: center;}#sk-container-id-6 div.sk-container {/* jupyter's `normalize.less` sets `[hidden] { display: none; }` but bootstrap.min.css set `[hidden] { display: none !important; }` so we also need the `!important` here to be able to override the default hidden behavior on the sphinx rendered scikit-learn.org. See: https://github.com/scikit-learn/scikit-learn/issues/21755 */display: inline-block !important;position: relative;}#sk-container-id-6 div.sk-text-repr-fallback {display: none;}</style><div id=\"sk-container-id-6\" class=\"sk-top-container\"><div class=\"sk-text-repr-fallback\"><pre>KMeans(n_clusters=4, n_init=10)</pre><b>In a Jupyter environment, please rerun this cell to show the HTML representation or trust the notebook. <br />On GitHub, the HTML representation is unable to render, please try loading this page with nbviewer.org.</b></div><div class=\"sk-container\" hidden><div class=\"sk-item\"><div class=\"sk-estimator sk-toggleable\"><input class=\"sk-toggleable__control sk-hidden--visually\" id=\"sk-estimator-id-6\" type=\"checkbox\" checked><label for=\"sk-estimator-id-6\" class=\"sk-toggleable__label sk-toggleable__label-arrow\">KMeans</label><div class=\"sk-toggleable__content\"><pre>KMeans(n_clusters=4, n_init=10)</pre></div></div></div></div></div>"
      ],
      "text/plain": [
       "KMeans(n_clusters=4, n_init=10)"
      ]
     },
     "execution_count": 184,
     "metadata": {},
     "output_type": "execute_result"
    }
   ],
   "source": [
    "# Fit the K-Means model using the scaled data\n",
    "kmeans_bestmodel.fit(df_mkt_scaled)"
   ]
  },
  {
   "cell_type": "code",
   "execution_count": 185,
   "metadata": {},
   "outputs": [
    {
     "name": "stdout",
     "output_type": "stream",
     "text": [
      "[10 10  3  3  2 10  9  9 10  7  1  3  3  2  3  7  1  7  9  3  1 10  1  3\n",
      "  3  3  7  1 10  0  7  7  4  7  6  8  5  1  7  3  1]\n"
     ]
    }
   ],
   "source": [
    "# Predict the clusters to group the cryptocurrencies using the scaled data\n",
    "predicted_clusters = kmeans_model.predict(df_mkt_scaled)\n",
    "\n",
    "\n",
    "# Print the resulting array of cluster values.\n",
    "print(predicted_clusters)"
   ]
  },
  {
   "cell_type": "code",
   "execution_count": 186,
   "metadata": {},
   "outputs": [],
   "source": [
    "# Create a copy of the DataFrame\n",
    "df_predict_mkt_scaled = df_mkt_scaled.copy()"
   ]
  },
  {
   "cell_type": "code",
   "execution_count": 187,
   "metadata": {},
   "outputs": [
    {
     "data": {
      "text/html": [
       "<div>\n",
       "<style scoped>\n",
       "    .dataframe tbody tr th:only-of-type {\n",
       "        vertical-align: middle;\n",
       "    }\n",
       "\n",
       "    .dataframe tbody tr th {\n",
       "        vertical-align: top;\n",
       "    }\n",
       "\n",
       "    .dataframe thead th {\n",
       "        text-align: right;\n",
       "    }\n",
       "</style>\n",
       "<table border=\"1\" class=\"dataframe\">\n",
       "  <thead>\n",
       "    <tr style=\"text-align: right;\">\n",
       "      <th></th>\n",
       "      <th>price_change_percentage_24h</th>\n",
       "      <th>price_change_percentage_7d</th>\n",
       "      <th>price_change_percentage_14d</th>\n",
       "      <th>price_change_percentage_30d</th>\n",
       "      <th>price_change_percentage_60d</th>\n",
       "      <th>price_change_percentage_200d</th>\n",
       "      <th>price_change_percentage_1y</th>\n",
       "      <th>cluster</th>\n",
       "    </tr>\n",
       "    <tr>\n",
       "      <th>coin_id</th>\n",
       "      <th></th>\n",
       "      <th></th>\n",
       "      <th></th>\n",
       "      <th></th>\n",
       "      <th></th>\n",
       "      <th></th>\n",
       "      <th></th>\n",
       "      <th></th>\n",
       "    </tr>\n",
       "  </thead>\n",
       "  <tbody>\n",
       "    <tr>\n",
       "      <th>bitcoin</th>\n",
       "      <td>0.508529</td>\n",
       "      <td>0.493193</td>\n",
       "      <td>0.772200</td>\n",
       "      <td>0.235460</td>\n",
       "      <td>-0.067495</td>\n",
       "      <td>-0.355953</td>\n",
       "      <td>-0.251637</td>\n",
       "      <td>10</td>\n",
       "    </tr>\n",
       "    <tr>\n",
       "      <th>ethereum</th>\n",
       "      <td>0.185446</td>\n",
       "      <td>0.934445</td>\n",
       "      <td>0.558692</td>\n",
       "      <td>-0.054341</td>\n",
       "      <td>-0.273483</td>\n",
       "      <td>-0.115759</td>\n",
       "      <td>-0.199352</td>\n",
       "      <td>10</td>\n",
       "    </tr>\n",
       "    <tr>\n",
       "      <th>tether</th>\n",
       "      <td>0.021774</td>\n",
       "      <td>-0.706337</td>\n",
       "      <td>-0.021680</td>\n",
       "      <td>-0.061030</td>\n",
       "      <td>0.008005</td>\n",
       "      <td>-0.550247</td>\n",
       "      <td>-0.282061</td>\n",
       "      <td>3</td>\n",
       "    </tr>\n",
       "    <tr>\n",
       "      <th>ripple</th>\n",
       "      <td>-0.040764</td>\n",
       "      <td>-0.810928</td>\n",
       "      <td>0.249458</td>\n",
       "      <td>-0.050388</td>\n",
       "      <td>-0.373164</td>\n",
       "      <td>-0.458259</td>\n",
       "      <td>-0.295546</td>\n",
       "      <td>3</td>\n",
       "    </tr>\n",
       "    <tr>\n",
       "      <th>bitcoin-cash</th>\n",
       "      <td>1.193036</td>\n",
       "      <td>2.000959</td>\n",
       "      <td>1.760610</td>\n",
       "      <td>0.545842</td>\n",
       "      <td>-0.291203</td>\n",
       "      <td>-0.499848</td>\n",
       "      <td>-0.270317</td>\n",
       "      <td>2</td>\n",
       "    </tr>\n",
       "  </tbody>\n",
       "</table>\n",
       "</div>"
      ],
      "text/plain": [
       "              price_change_percentage_24h  price_change_percentage_7d  \\\n",
       "coin_id                                                                 \n",
       "bitcoin                          0.508529                    0.493193   \n",
       "ethereum                         0.185446                    0.934445   \n",
       "tether                           0.021774                   -0.706337   \n",
       "ripple                          -0.040764                   -0.810928   \n",
       "bitcoin-cash                     1.193036                    2.000959   \n",
       "\n",
       "              price_change_percentage_14d  price_change_percentage_30d  \\\n",
       "coin_id                                                                  \n",
       "bitcoin                          0.772200                     0.235460   \n",
       "ethereum                         0.558692                    -0.054341   \n",
       "tether                          -0.021680                    -0.061030   \n",
       "ripple                           0.249458                    -0.050388   \n",
       "bitcoin-cash                     1.760610                     0.545842   \n",
       "\n",
       "              price_change_percentage_60d  price_change_percentage_200d  \\\n",
       "coin_id                                                                   \n",
       "bitcoin                         -0.067495                     -0.355953   \n",
       "ethereum                        -0.273483                     -0.115759   \n",
       "tether                           0.008005                     -0.550247   \n",
       "ripple                          -0.373164                     -0.458259   \n",
       "bitcoin-cash                    -0.291203                     -0.499848   \n",
       "\n",
       "              price_change_percentage_1y  cluster  \n",
       "coin_id                                            \n",
       "bitcoin                        -0.251637       10  \n",
       "ethereum                       -0.199352       10  \n",
       "tether                         -0.282061        3  \n",
       "ripple                         -0.295546        3  \n",
       "bitcoin-cash                   -0.270317        2  "
      ]
     },
     "execution_count": 187,
     "metadata": {},
     "output_type": "execute_result"
    }
   ],
   "source": [
    "# Add a new column to the DataFrame with the predicted clusters\n",
    "df_predict_mkt_scaled['cluster'] = predicted_clusters\n",
    "\n",
    "# Display sample data\n",
    "df_predict_mkt_scaled.head()"
   ]
  },
  {
   "cell_type": "code",
   "execution_count": 188,
   "metadata": {},
   "outputs": [
    {
     "data": {},
     "metadata": {},
     "output_type": "display_data"
    },
    {
     "data": {
      "application/vnd.holoviews_exec.v0+json": "",
      "text/html": [
       "<div id='5392'>\n",
       "  <div class=\"bk-root\" id=\"65ec9bdf-160a-4c86-958e-07b4783ac79d\" data-root-id=\"5392\"></div>\n",
       "</div>\n",
       "<script type=\"application/javascript\">(function(root) {\n",
       "  function embed_document(root) {\n",
       "    var docs_json = {\"7b26dffd-3a60-4bf9-8b76-c22a389461d3\":{\"defs\":[{\"extends\":null,\"module\":null,\"name\":\"ReactiveHTML1\",\"overrides\":[],\"properties\":[]},{\"extends\":null,\"module\":null,\"name\":\"FlexBox1\",\"overrides\":[],\"properties\":[{\"default\":\"flex-start\",\"kind\":null,\"name\":\"align_content\"},{\"default\":\"flex-start\",\"kind\":null,\"name\":\"align_items\"},{\"default\":\"row\",\"kind\":null,\"name\":\"flex_direction\"},{\"default\":\"wrap\",\"kind\":null,\"name\":\"flex_wrap\"},{\"default\":\"flex-start\",\"kind\":null,\"name\":\"justify_content\"}]},{\"extends\":null,\"module\":null,\"name\":\"GridStack1\",\"overrides\":[],\"properties\":[{\"default\":\"warn\",\"kind\":null,\"name\":\"mode\"},{\"default\":null,\"kind\":null,\"name\":\"ncols\"},{\"default\":null,\"kind\":null,\"name\":\"nrows\"},{\"default\":true,\"kind\":null,\"name\":\"allow_resize\"},{\"default\":true,\"kind\":null,\"name\":\"allow_drag\"},{\"default\":[],\"kind\":null,\"name\":\"state\"}]},{\"extends\":null,\"module\":null,\"name\":\"click1\",\"overrides\":[],\"properties\":[{\"default\":\"\",\"kind\":null,\"name\":\"terminal_output\"},{\"default\":\"\",\"kind\":null,\"name\":\"debug_name\"},{\"default\":0,\"kind\":null,\"name\":\"clears\"}]},{\"extends\":null,\"module\":null,\"name\":\"NotificationAreaBase1\",\"overrides\":[],\"properties\":[{\"default\":\"bottom-right\",\"kind\":null,\"name\":\"position\"},{\"default\":0,\"kind\":null,\"name\":\"_clear\"}]},{\"extends\":null,\"module\":null,\"name\":\"NotificationArea1\",\"overrides\":[],\"properties\":[{\"default\":[],\"kind\":null,\"name\":\"notifications\"},{\"default\":\"bottom-right\",\"kind\":null,\"name\":\"position\"},{\"default\":0,\"kind\":null,\"name\":\"_clear\"},{\"default\":[{\"background\":\"#ffc107\",\"icon\":{\"className\":\"fas fa-exclamation-triangle\",\"color\":\"white\",\"tagName\":\"i\"},\"type\":\"warning\"},{\"background\":\"#007bff\",\"icon\":{\"className\":\"fas fa-info-circle\",\"color\":\"white\",\"tagName\":\"i\"},\"type\":\"info\"}],\"kind\":null,\"name\":\"types\"}]},{\"extends\":null,\"module\":null,\"name\":\"Notification\",\"overrides\":[],\"properties\":[{\"default\":null,\"kind\":null,\"name\":\"background\"},{\"default\":3000,\"kind\":null,\"name\":\"duration\"},{\"default\":null,\"kind\":null,\"name\":\"icon\"},{\"default\":\"\",\"kind\":null,\"name\":\"message\"},{\"default\":null,\"kind\":null,\"name\":\"notification_type\"},{\"default\":false,\"kind\":null,\"name\":\"_destroyed\"}]},{\"extends\":null,\"module\":null,\"name\":\"TemplateActions1\",\"overrides\":[],\"properties\":[{\"default\":0,\"kind\":null,\"name\":\"open_modal\"},{\"default\":0,\"kind\":null,\"name\":\"close_modal\"}]},{\"extends\":null,\"module\":null,\"name\":\"MaterialTemplateActions1\",\"overrides\":[],\"properties\":[{\"default\":0,\"kind\":null,\"name\":\"open_modal\"},{\"default\":0,\"kind\":null,\"name\":\"close_modal\"}]}],\"roots\":{\"references\":[{\"attributes\":{\"axis\":{\"id\":\"5405\"},\"coordinates\":null,\"grid_line_color\":null,\"group\":null,\"ticker\":null},\"id\":\"5408\",\"type\":\"Grid\"},{\"attributes\":{},\"id\":\"5453\",\"type\":\"NoOverlap\"},{\"attributes\":{\"axis_label\":\"Price Change Percentage (24h)\",\"coordinates\":null,\"formatter\":{\"id\":\"5440\"},\"group\":null,\"major_label_policy\":{\"id\":\"5441\"},\"ticker\":{\"id\":\"5406\"}},\"id\":\"5405\",\"type\":\"LinearAxis\"},{\"attributes\":{},\"id\":\"5414\",\"type\":\"PanTool\"},{\"attributes\":{},\"id\":\"5401\",\"type\":\"LinearScale\"},{\"attributes\":{},\"id\":\"5403\",\"type\":\"LinearScale\"},{\"attributes\":{},\"id\":\"5443\",\"type\":\"BasicTickFormatter\"},{\"attributes\":{\"source\":{\"id\":\"5427\"}},\"id\":\"5436\",\"type\":\"CDSView\"},{\"attributes\":{},\"id\":\"5444\",\"type\":\"AllLabels\"},{\"attributes\":{\"bar_line_color\":\"black\",\"color_mapper\":{\"id\":\"5426\"},\"coordinates\":null,\"group\":null,\"label_standoff\":8,\"location\":[0,0],\"major_label_policy\":{\"id\":\"5453\"},\"major_tick_line_color\":\"black\",\"ticker\":{\"id\":\"5437\"}},\"id\":\"5438\",\"type\":\"ColorBar\"},{\"attributes\":{},\"id\":\"5406\",\"type\":\"BasicTicker\"},{\"attributes\":{\"axis_label\":\"Price Change Percentage (7d)\",\"coordinates\":null,\"formatter\":{\"id\":\"5443\"},\"group\":null,\"major_label_policy\":{\"id\":\"5444\"},\"ticker\":{\"id\":\"5410\"}},\"id\":\"5409\",\"type\":\"LinearAxis\"},{\"attributes\":{\"axis\":{\"id\":\"5409\"},\"coordinates\":null,\"dimension\":1,\"grid_line_color\":null,\"group\":null,\"ticker\":null},\"id\":\"5412\",\"type\":\"Grid\"},{\"attributes\":{},\"id\":\"5410\",\"type\":\"BasicTicker\"},{\"attributes\":{},\"id\":\"5457\",\"type\":\"UnionRenderers\"},{\"attributes\":{},\"id\":\"5415\",\"type\":\"WheelZoomTool\"},{\"attributes\":{},\"id\":\"5413\",\"type\":\"SaveTool\"},{\"attributes\":{\"overlay\":{\"id\":\"5418\"}},\"id\":\"5416\",\"type\":\"BoxZoomTool\"},{\"attributes\":{},\"id\":\"5417\",\"type\":\"ResetTool\"},{\"attributes\":{\"coordinates\":null,\"data_source\":{\"id\":\"5427\"},\"glyph\":{\"id\":\"5430\"},\"group\":null,\"hover_glyph\":{\"id\":\"5433\"},\"muted_glyph\":{\"id\":\"5434\"},\"nonselection_glyph\":{\"id\":\"5431\"},\"selection_glyph\":{\"id\":\"5432\"},\"view\":{\"id\":\"5436\"}},\"id\":\"5435\",\"type\":\"GlyphRenderer\"},{\"attributes\":{\"bottom_units\":\"screen\",\"coordinates\":null,\"fill_alpha\":0.5,\"fill_color\":\"lightgrey\",\"group\":null,\"left_units\":\"screen\",\"level\":\"overlay\",\"line_alpha\":1.0,\"line_color\":\"black\",\"line_dash\":[4,4],\"line_width\":2,\"right_units\":\"screen\",\"syncable\":false,\"top_units\":\"screen\"},\"id\":\"5418\",\"type\":\"BoxAnnotation\"},{\"attributes\":{},\"id\":\"5441\",\"type\":\"AllLabels\"},{\"attributes\":{\"fill_color\":{\"field\":\"color\",\"transform\":{\"id\":\"5426\"}},\"hatch_color\":{\"field\":\"color\",\"transform\":{\"id\":\"5426\"}},\"line_color\":{\"field\":\"color\",\"transform\":{\"id\":\"5426\"}},\"size\":{\"value\":5.477225575051661},\"x\":{\"field\":\"price_change_percentage_24h\"},\"y\":{\"field\":\"price_change_percentage_7d\"}},\"id\":\"5430\",\"type\":\"Scatter\"},{\"attributes\":{\"children\":[{\"id\":\"5396\"}],\"height\":400,\"margin\":[0,0,0,0],\"name\":\"Row04610\",\"sizing_mode\":\"fixed\",\"tags\":[\"embedded\"],\"width\":500},\"id\":\"5392\",\"type\":\"Row\"},{\"attributes\":{\"fill_alpha\":{\"value\":0.2},\"fill_color\":{\"field\":\"color\",\"transform\":{\"id\":\"5426\"}},\"hatch_alpha\":{\"value\":0.2},\"hatch_color\":{\"field\":\"color\",\"transform\":{\"id\":\"5426\"}},\"line_alpha\":{\"value\":0.2},\"line_color\":{\"field\":\"color\",\"transform\":{\"id\":\"5426\"}},\"size\":{\"value\":5.477225575051661},\"x\":{\"field\":\"price_change_percentage_24h\"},\"y\":{\"field\":\"price_change_percentage_7d\"}},\"id\":\"5434\",\"type\":\"Scatter\"},{\"attributes\":{\"coordinates\":null,\"group\":null,\"text\":\"Cryptocurrency Clustering\",\"text_color\":\"black\",\"text_font_size\":\"12pt\"},\"id\":\"5397\",\"type\":\"Title\"},{\"attributes\":{\"fill_color\":{\"field\":\"color\",\"transform\":{\"id\":\"5426\"}},\"hatch_color\":{\"field\":\"color\",\"transform\":{\"id\":\"5426\"}},\"line_color\":{\"field\":\"color\",\"transform\":{\"id\":\"5426\"}},\"size\":{\"value\":5.477225575051661},\"x\":{\"field\":\"price_change_percentage_24h\"},\"y\":{\"field\":\"price_change_percentage_7d\"}},\"id\":\"5432\",\"type\":\"Scatter\"},{\"attributes\":{\"fill_color\":{\"field\":\"color\",\"transform\":{\"id\":\"5426\"}},\"hatch_color\":{\"field\":\"color\",\"transform\":{\"id\":\"5426\"}},\"line_color\":{\"field\":\"color\",\"transform\":{\"id\":\"5426\"}},\"size\":{\"value\":5.477225575051661},\"x\":{\"field\":\"price_change_percentage_24h\"},\"y\":{\"field\":\"price_change_percentage_7d\"}},\"id\":\"5433\",\"type\":\"Scatter\"},{\"attributes\":{\"end\":2.997678656273595,\"reset_end\":2.997678656273595,\"reset_start\":-2.107454305728652,\"start\":-2.107454305728652,\"tags\":[[[\"price_change_percentage_7d\",\"price_change_percentage_7d\",null]]]},\"id\":\"5394\",\"type\":\"Range1d\"},{\"attributes\":{},\"id\":\"5437\",\"type\":\"BasicTicker\"},{\"attributes\":{},\"id\":\"5440\",\"type\":\"BasicTickFormatter\"},{\"attributes\":{\"high\":10,\"low\":0,\"palette\":[\"#440154\",\"#440255\",\"#440357\",\"#450558\",\"#45065a\",\"#45085b\",\"#46095c\",\"#460b5e\",\"#460c5f\",\"#460e61\",\"#470f62\",\"#471163\",\"#471265\",\"#471466\",\"#471567\",\"#471669\",\"#47186a\",\"#48196b\",\"#481a6c\",\"#481c6e\",\"#481d6f\",\"#481e70\",\"#482071\",\"#482172\",\"#482273\",\"#482374\",\"#472575\",\"#472676\",\"#472777\",\"#472878\",\"#472a79\",\"#472b7a\",\"#472c7b\",\"#462d7c\",\"#462f7c\",\"#46307d\",\"#46317e\",\"#45327f\",\"#45347f\",\"#453580\",\"#453681\",\"#443781\",\"#443982\",\"#433a83\",\"#433b83\",\"#433c84\",\"#423d84\",\"#423e85\",\"#424085\",\"#414186\",\"#414286\",\"#404387\",\"#404487\",\"#3f4587\",\"#3f4788\",\"#3e4888\",\"#3e4989\",\"#3d4a89\",\"#3d4b89\",\"#3d4c89\",\"#3c4d8a\",\"#3c4e8a\",\"#3b508a\",\"#3b518a\",\"#3a528b\",\"#3a538b\",\"#39548b\",\"#39558b\",\"#38568b\",\"#38578c\",\"#37588c\",\"#37598c\",\"#365a8c\",\"#365b8c\",\"#355c8c\",\"#355d8c\",\"#345e8d\",\"#345f8d\",\"#33608d\",\"#33618d\",\"#32628d\",\"#32638d\",\"#31648d\",\"#31658d\",\"#31668d\",\"#30678d\",\"#30688d\",\"#2f698d\",\"#2f6a8d\",\"#2e6b8e\",\"#2e6c8e\",\"#2e6d8e\",\"#2d6e8e\",\"#2d6f8e\",\"#2c708e\",\"#2c718e\",\"#2c728e\",\"#2b738e\",\"#2b748e\",\"#2a758e\",\"#2a768e\",\"#2a778e\",\"#29788e\",\"#29798e\",\"#287a8e\",\"#287a8e\",\"#287b8e\",\"#277c8e\",\"#277d8e\",\"#277e8e\",\"#267f8e\",\"#26808e\",\"#26818e\",\"#25828e\",\"#25838d\",\"#24848d\",\"#24858d\",\"#24868d\",\"#23878d\",\"#23888d\",\"#23898d\",\"#22898d\",\"#228a8d\",\"#228b8d\",\"#218c8d\",\"#218d8c\",\"#218e8c\",\"#208f8c\",\"#20908c\",\"#20918c\",\"#1f928c\",\"#1f938b\",\"#1f948b\",\"#1f958b\",\"#1f968b\",\"#1e978a\",\"#1e988a\",\"#1e998a\",\"#1e998a\",\"#1e9a89\",\"#1e9b89\",\"#1e9c89\",\"#1e9d88\",\"#1e9e88\",\"#1e9f88\",\"#1ea087\",\"#1fa187\",\"#1fa286\",\"#1fa386\",\"#20a485\",\"#20a585\",\"#21a685\",\"#21a784\",\"#22a784\",\"#23a883\",\"#23a982\",\"#24aa82\",\"#25ab81\",\"#26ac81\",\"#27ad80\",\"#28ae7f\",\"#29af7f\",\"#2ab07e\",\"#2bb17d\",\"#2cb17d\",\"#2eb27c\",\"#2fb37b\",\"#30b47a\",\"#32b57a\",\"#33b679\",\"#35b778\",\"#36b877\",\"#38b976\",\"#39b976\",\"#3bba75\",\"#3dbb74\",\"#3ebc73\",\"#40bd72\",\"#42be71\",\"#44be70\",\"#45bf6f\",\"#47c06e\",\"#49c16d\",\"#4bc26c\",\"#4dc26b\",\"#4fc369\",\"#51c468\",\"#53c567\",\"#55c666\",\"#57c665\",\"#59c764\",\"#5bc862\",\"#5ec961\",\"#60c960\",\"#62ca5f\",\"#64cb5d\",\"#67cc5c\",\"#69cc5b\",\"#6bcd59\",\"#6dce58\",\"#70ce56\",\"#72cf55\",\"#74d054\",\"#77d052\",\"#79d151\",\"#7cd24f\",\"#7ed24e\",\"#81d34c\",\"#83d34b\",\"#86d449\",\"#88d547\",\"#8bd546\",\"#8dd644\",\"#90d643\",\"#92d741\",\"#95d73f\",\"#97d83e\",\"#9ad83c\",\"#9dd93a\",\"#9fd938\",\"#a2da37\",\"#a5da35\",\"#a7db33\",\"#aadb32\",\"#addc30\",\"#afdc2e\",\"#b2dd2c\",\"#b5dd2b\",\"#b7dd29\",\"#bade27\",\"#bdde26\",\"#bfdf24\",\"#c2df22\",\"#c5df21\",\"#c7e01f\",\"#cae01e\",\"#cde01d\",\"#cfe11c\",\"#d2e11b\",\"#d4e11a\",\"#d7e219\",\"#dae218\",\"#dce218\",\"#dfe318\",\"#e1e318\",\"#e4e318\",\"#e7e419\",\"#e9e419\",\"#ece41a\",\"#eee51b\",\"#f1e51c\",\"#f3e51e\",\"#f6e61f\",\"#f8e621\",\"#fae622\",\"#fde724\"]},\"id\":\"5426\",\"type\":\"LinearColorMapper\"},{\"attributes\":{\"callback\":null,\"renderers\":[{\"id\":\"5435\"}],\"tags\":[\"hv_created\"],\"tooltips\":[[\"price_change_percentage_24h\",\"@{price_change_percentage_24h}\"],[\"price_change_percentage_7d\",\"@{price_change_percentage_7d}\"],[\"cluster\",\"@{cluster}\"],[\"coin_id\",\"@{coin_id}\"]]},\"id\":\"5395\",\"type\":\"HoverTool\"},{\"attributes\":{\"end\":2.471880681464208,\"reset_end\":2.471880681464208,\"reset_start\":-5.533110224699613,\"start\":-5.533110224699613,\"tags\":[[[\"price_change_percentage_24h\",\"price_change_percentage_24h\",null]]]},\"id\":\"5393\",\"type\":\"Range1d\"},{\"attributes\":{},\"id\":\"5428\",\"type\":\"Selection\"},{\"attributes\":{\"below\":[{\"id\":\"5405\"}],\"center\":[{\"id\":\"5408\"},{\"id\":\"5412\"}],\"height\":400,\"left\":[{\"id\":\"5409\"}],\"margin\":[5,5,5,5],\"min_border_bottom\":10,\"min_border_left\":10,\"min_border_right\":10,\"min_border_top\":10,\"renderers\":[{\"id\":\"5435\"}],\"right\":[{\"id\":\"5438\"}],\"sizing_mode\":\"fixed\",\"title\":{\"id\":\"5397\"},\"toolbar\":{\"id\":\"5419\"},\"width\":500,\"x_range\":{\"id\":\"5393\"},\"x_scale\":{\"id\":\"5401\"},\"y_range\":{\"id\":\"5394\"},\"y_scale\":{\"id\":\"5403\"}},\"id\":\"5396\",\"subtype\":\"Figure\",\"type\":\"Plot\"},{\"attributes\":{\"active_drag\":{\"id\":\"5414\"},\"active_scroll\":{\"id\":\"5415\"},\"tools\":[{\"id\":\"5395\"},{\"id\":\"5413\"},{\"id\":\"5414\"},{\"id\":\"5415\"},{\"id\":\"5416\"},{\"id\":\"5417\"}]},\"id\":\"5419\",\"type\":\"Toolbar\"},{\"attributes\":{\"data\":{\"cluster\":{\"__ndarray__\":\"CgAAAAoAAAADAAAAAwAAAAIAAAAKAAAACQAAAAkAAAAKAAAABwAAAAEAAAADAAAAAwAAAAIAAAADAAAABwAAAAEAAAAHAAAACQAAAAMAAAABAAAACgAAAAEAAAADAAAAAwAAAAMAAAAHAAAAAQAAAAoAAAAAAAAABwAAAAcAAAAEAAAABwAAAAYAAAAIAAAABQAAAAEAAAAHAAAAAwAAAAEAAAA=\",\"dtype\":\"int32\",\"order\":\"little\",\"shape\":[41]},\"coin_id\":[\"bitcoin\",\"ethereum\",\"tether\",\"ripple\",\"bitcoin-cash\",\"binancecoin\",\"chainlink\",\"cardano\",\"litecoin\",\"bitcoin-cash-sv\",\"crypto-com-chain\",\"usd-coin\",\"eos\",\"monero\",\"tron\",\"tezos\",\"okb\",\"stellar\",\"cosmos\",\"cdai\",\"neo\",\"wrapped-bitcoin\",\"leo-token\",\"huobi-token\",\"nem\",\"binance-usd\",\"iota\",\"vechain\",\"zcash\",\"theta-token\",\"dash\",\"ethereum-classic\",\"ethlend\",\"maker\",\"havven\",\"omisego\",\"celsius-degree-token\",\"ontology\",\"ftx-token\",\"true-usd\",\"digibyte\"],\"color\":{\"__ndarray__\":\"CgAAAAoAAAADAAAAAwAAAAIAAAAKAAAACQAAAAkAAAAKAAAABwAAAAEAAAADAAAAAwAAAAIAAAADAAAABwAAAAEAAAAHAAAACQAAAAMAAAABAAAACgAAAAEAAAADAAAAAwAAAAMAAAAHAAAAAQAAAAoAAAAAAAAABwAAAAcAAAAEAAAABwAAAAYAAAAIAAAABQAAAAEAAAAHAAAAAwAAAAEAAAA=\",\"dtype\":\"int32\",\"order\":\"little\",\"shape\":[41]},\"price_change_percentage_24h\":{\"__ndarray__\":\"DdlqYN9F4D86azDosLzHP5giRdTpS5Y/5iURtxHfpL8wCyMArRbzP/cOjHA0iuw/1QxzqW9Xhz8zBL2hZD+6P0nbN/ba1rM/WpkZGJ+73D/+slcesDPVP/IxOp6elqE/H2STd0ruwz9Epj8/c9DQPxk0XoR2pcA/jEB40RVnw790fnl54Irtv9XPDahDw9G/qq8st/Fh0L/5U5ZBISbHP6Slu6TDVtI/BVlpN5h+4D+njODODoCqPwXDDo/fo6q/woaukuXmy79od0yHwmevP8HhEPEMldA/ypmU5gu54j+sKNPN2lDAv1YH9WGFy/m/N7JuVBEB07/EU4GAhEGyv91nhz6W7BPA/ACFOIMFwL/DnH9IcNv2v5azwSWNt/4/VLqXBn668D/IKcQzxy3av5WrmDyeito/Bf22eE/6sz9Y362Ir3rzPw==\",\"dtype\":\"float64\",\"order\":\"little\",\"shape\":[41]},\"price_change_percentage_7d\":{\"__ndarray__\":\"U1k8q3mQ3z9yoPpI+ebtP22UiL5Pmua/Ubo8ah/z6b8wAdnT9gEAQIJpDjGZPPU/BTbpSPiTBEAmUWkixiD4P/OMI2gdZdU/DZTtp1doyL936vtUZtb5v0QZLH/ydOe/it8GjguF7b8rMp3jf678PwRAcFxBAKW/ZWZRGoqp5j8Udj8VbP/2vySelkVDp9i/XK6ZksNx/T/tJm9WzI7mvy674lUf4tS/Q3zKstaO3T84jfoETLXtv6NqpXs9Q92/wrTyyiEu678mI2rMB53mv1Euo6Hk788/3UZrgr7Q778kzwwdV7vtP/9TV66U6fq/ZWX+mWVCuD8GJ0pHuV/Nv3SFotqbIae/srW7TleV4j/JyBNmVh+av008Y/5ntdc/Nv03JFjJ47+Htdvf1gXtv2Avihmzf9o/e31xtwIC5r/STlu6Y3Ljvw==\",\"dtype\":\"float64\",\"order\":\"little\",\"shape\":[41]}},\"selected\":{\"id\":\"5428\"},\"selection_policy\":{\"id\":\"5457\"}},\"id\":\"5427\",\"type\":\"ColumnDataSource\"},{\"attributes\":{\"fill_alpha\":{\"value\":0.1},\"fill_color\":{\"field\":\"color\",\"transform\":{\"id\":\"5426\"}},\"hatch_alpha\":{\"value\":0.1},\"hatch_color\":{\"field\":\"color\",\"transform\":{\"id\":\"5426\"}},\"line_alpha\":{\"value\":0.1},\"line_color\":{\"field\":\"color\",\"transform\":{\"id\":\"5426\"}},\"size\":{\"value\":5.477225575051661},\"x\":{\"field\":\"price_change_percentage_24h\"},\"y\":{\"field\":\"price_change_percentage_7d\"}},\"id\":\"5431\",\"type\":\"Scatter\"}],\"root_ids\":[\"5392\"]},\"title\":\"Bokeh Application\",\"version\":\"2.4.3\"}};\n",
       "    var render_items = [{\"docid\":\"7b26dffd-3a60-4bf9-8b76-c22a389461d3\",\"root_ids\":[\"5392\"],\"roots\":{\"5392\":\"65ec9bdf-160a-4c86-958e-07b4783ac79d\"}}];\n",
       "    root.Bokeh.embed.embed_items_notebook(docs_json, render_items);\n",
       "    for (const render_item of render_items) {\n",
       "      for (const root_id of render_item.root_ids) {\n",
       "\tconst id_el = document.getElementById(root_id)\n",
       "\tif (id_el.children.length && (id_el.children[0].className === 'bk-root')) {\n",
       "\t  const root_el = id_el.children[0]\n",
       "\t  root_el.id = root_el.id + '-rendered'\n",
       "\t}\n",
       "      }\n",
       "    }\n",
       "  }\n",
       "  if (root.Bokeh !== undefined && root.Bokeh.Panel !== undefined) {\n",
       "    embed_document(root);\n",
       "  } else {\n",
       "    var attempts = 0;\n",
       "    var timer = setInterval(function(root) {\n",
       "      if (root.Bokeh !== undefined && root.Bokeh.Panel !== undefined) {\n",
       "        clearInterval(timer);\n",
       "        embed_document(root);\n",
       "      } else if (document.readyState == \"complete\") {\n",
       "        attempts++;\n",
       "        if (attempts > 200) {\n",
       "          clearInterval(timer);\n",
       "          console.log(\"Bokeh: ERROR: Unable to run BokehJS code because BokehJS library is missing\");\n",
       "        }\n",
       "      }\n",
       "    }, 25, root)\n",
       "  }\n",
       "})(window);</script>"
      ],
      "text/plain": [
       ":Scatter   [price_change_percentage_24h]   (price_change_percentage_7d,cluster,coin_id)"
      ]
     },
     "execution_count": 188,
     "metadata": {
      "application/vnd.holoviews_exec.v0+json": {
       "id": "5392"
      }
     },
     "output_type": "execute_result"
    }
   ],
   "source": [
    "# Create the scatter plot using hvplot\n",
    "scatter_plot_original = df_predict_mkt_scaled.hvplot.scatter(x='price_change_percentage_24h',\n",
    "                                                   y='price_change_percentage_7d',\n",
    "                                                   c='cluster',  # Color points based on the 'cluster' column\n",
    "                                                   colormap='viridis',  # Use the 'viridis' color map\n",
    "                                                   hover_cols=['coin_id'],  # Show the crypto_names on hover\n",
    "                                                   xlabel='Price Change Percentage (24h)',\n",
    "                                                   ylabel='Price Change Percentage (7d)',\n",
    "                                                   title='Cryptocurrency Clustering',\n",
    "                                                   width=500, height=400)\n",
    "scatter_plot_original"
   ]
  },
  {
   "attachments": {},
   "cell_type": "markdown",
   "metadata": {},
   "source": [
    "---"
   ]
  },
  {
   "attachments": {},
   "cell_type": "markdown",
   "metadata": {},
   "source": [
    "### Optimize Clusters with Principal Component Analysis."
   ]
  },
  {
   "cell_type": "code",
   "execution_count": 189,
   "metadata": {},
   "outputs": [],
   "source": [
    "# Create a PCA model instance and set `n_components=3`.\n",
    "pca_model = PCA(n_components=3)\n"
   ]
  },
  {
   "cell_type": "code",
   "execution_count": 190,
   "metadata": {},
   "outputs": [],
   "source": [
    "# Use the PCA model to reduce the data to three principal components\n",
    "reduced_data = pca_model.fit_transform(df_mkt_scaled)"
   ]
  },
  {
   "cell_type": "code",
   "execution_count": 191,
   "metadata": {},
   "outputs": [],
   "source": [
    "# Create a new DataFrame with the reduced data\n",
    "df_reduced_data = pd.DataFrame(reduced_data, columns=['PC1', 'PC2', 'PC3'])\n"
   ]
  },
  {
   "cell_type": "code",
   "execution_count": 192,
   "metadata": {},
   "outputs": [
    {
     "data": {
      "text/html": [
       "<div>\n",
       "<style scoped>\n",
       "    .dataframe tbody tr th:only-of-type {\n",
       "        vertical-align: middle;\n",
       "    }\n",
       "\n",
       "    .dataframe tbody tr th {\n",
       "        vertical-align: top;\n",
       "    }\n",
       "\n",
       "    .dataframe thead th {\n",
       "        text-align: right;\n",
       "    }\n",
       "</style>\n",
       "<table border=\"1\" class=\"dataframe\">\n",
       "  <thead>\n",
       "    <tr style=\"text-align: right;\">\n",
       "      <th></th>\n",
       "      <th>PC1</th>\n",
       "      <th>PC2</th>\n",
       "      <th>PC3</th>\n",
       "    </tr>\n",
       "  </thead>\n",
       "  <tbody>\n",
       "    <tr>\n",
       "      <th>0</th>\n",
       "      <td>-0.600667</td>\n",
       "      <td>0.842760</td>\n",
       "      <td>0.461595</td>\n",
       "    </tr>\n",
       "    <tr>\n",
       "      <th>1</th>\n",
       "      <td>-0.458261</td>\n",
       "      <td>0.458466</td>\n",
       "      <td>0.952877</td>\n",
       "    </tr>\n",
       "    <tr>\n",
       "      <th>2</th>\n",
       "      <td>-0.433070</td>\n",
       "      <td>-0.168126</td>\n",
       "      <td>-0.641752</td>\n",
       "    </tr>\n",
       "    <tr>\n",
       "      <th>3</th>\n",
       "      <td>-0.471835</td>\n",
       "      <td>-0.222660</td>\n",
       "      <td>-0.479053</td>\n",
       "    </tr>\n",
       "    <tr>\n",
       "      <th>4</th>\n",
       "      <td>-1.157800</td>\n",
       "      <td>2.041209</td>\n",
       "      <td>1.859715</td>\n",
       "    </tr>\n",
       "  </tbody>\n",
       "</table>\n",
       "</div>"
      ],
      "text/plain": [
       "        PC1       PC2       PC3\n",
       "0 -0.600667  0.842760  0.461595\n",
       "1 -0.458261  0.458466  0.952877\n",
       "2 -0.433070 -0.168126 -0.641752\n",
       "3 -0.471835 -0.222660 -0.479053\n",
       "4 -1.157800  2.041209  1.859715"
      ]
     },
     "execution_count": 192,
     "metadata": {},
     "output_type": "execute_result"
    }
   ],
   "source": [
    "df_reduced_data.head()"
   ]
  },
  {
   "cell_type": "code",
   "execution_count": 193,
   "metadata": {},
   "outputs": [],
   "source": [
    "explained_variance_ratios = pca_model.explained_variance_ratio_\n"
   ]
  },
  {
   "cell_type": "code",
   "execution_count": 194,
   "metadata": {},
   "outputs": [
    {
     "name": "stdout",
     "output_type": "stream",
     "text": [
      "Explained Variance Ratios:\n",
      "PC1: 0.37\n",
      "PC2: 0.35\n",
      "PC3: 0.18\n"
     ]
    }
   ],
   "source": [
    "# Display the explained variance ratios\n",
    "print(\"Explained Variance Ratios:\")\n",
    "for i, explained_variance in enumerate(explained_variance_ratios):\n",
    "    print(f\"PC{i+1}: {explained_variance:.2f}\")"
   ]
  },
  {
   "attachments": {},
   "cell_type": "markdown",
   "metadata": {},
   "source": [
    "#### Answer the following question: \n",
    "\n",
    "**Question:** What is the total explained variance of the three principal components?\n",
    "\n",
    "**Answer:** \n",
    "scaled data:\n",
    "PC1: 0.37\n",
    "PC2: 0.35\n",
    "PC3: 0.18\n",
    "\n",
    "predicted data:\n",
    "PC1: 0.56 \n",
    "PC2: 0.17\n",
    "PC3: 0.15"
   ]
  },
  {
   "cell_type": "code",
   "execution_count": 195,
   "metadata": {},
   "outputs": [],
   "source": [
    "# Create a new DataFrame with the PCA data.\n",
    "crypto_names = df_mkt_scaled.index\n"
   ]
  },
  {
   "cell_type": "code",
   "execution_count": 196,
   "metadata": {},
   "outputs": [],
   "source": [
    "df_reduced_data.index = crypto_names"
   ]
  },
  {
   "cell_type": "code",
   "execution_count": 197,
   "metadata": {},
   "outputs": [],
   "source": [
    "df_pca_data = df_reduced_data.copy()\n"
   ]
  },
  {
   "cell_type": "code",
   "execution_count": 198,
   "metadata": {},
   "outputs": [
    {
     "data": {
      "text/html": [
       "<div>\n",
       "<style scoped>\n",
       "    .dataframe tbody tr th:only-of-type {\n",
       "        vertical-align: middle;\n",
       "    }\n",
       "\n",
       "    .dataframe tbody tr th {\n",
       "        vertical-align: top;\n",
       "    }\n",
       "\n",
       "    .dataframe thead th {\n",
       "        text-align: right;\n",
       "    }\n",
       "</style>\n",
       "<table border=\"1\" class=\"dataframe\">\n",
       "  <thead>\n",
       "    <tr style=\"text-align: right;\">\n",
       "      <th></th>\n",
       "      <th>PC1</th>\n",
       "      <th>PC2</th>\n",
       "      <th>PC3</th>\n",
       "    </tr>\n",
       "    <tr>\n",
       "      <th>coin_id</th>\n",
       "      <th></th>\n",
       "      <th></th>\n",
       "      <th></th>\n",
       "    </tr>\n",
       "  </thead>\n",
       "  <tbody>\n",
       "    <tr>\n",
       "      <th>bitcoin</th>\n",
       "      <td>-0.600667</td>\n",
       "      <td>0.842760</td>\n",
       "      <td>0.461595</td>\n",
       "    </tr>\n",
       "    <tr>\n",
       "      <th>ethereum</th>\n",
       "      <td>-0.458261</td>\n",
       "      <td>0.458466</td>\n",
       "      <td>0.952877</td>\n",
       "    </tr>\n",
       "    <tr>\n",
       "      <th>tether</th>\n",
       "      <td>-0.433070</td>\n",
       "      <td>-0.168126</td>\n",
       "      <td>-0.641752</td>\n",
       "    </tr>\n",
       "    <tr>\n",
       "      <th>ripple</th>\n",
       "      <td>-0.471835</td>\n",
       "      <td>-0.222660</td>\n",
       "      <td>-0.479053</td>\n",
       "    </tr>\n",
       "    <tr>\n",
       "      <th>bitcoin-cash</th>\n",
       "      <td>-1.157800</td>\n",
       "      <td>2.041209</td>\n",
       "      <td>1.859715</td>\n",
       "    </tr>\n",
       "  </tbody>\n",
       "</table>\n",
       "</div>"
      ],
      "text/plain": [
       "                   PC1       PC2       PC3\n",
       "coin_id                                   \n",
       "bitcoin      -0.600667  0.842760  0.461595\n",
       "ethereum     -0.458261  0.458466  0.952877\n",
       "tether       -0.433070 -0.168126 -0.641752\n",
       "ripple       -0.471835 -0.222660 -0.479053\n",
       "bitcoin-cash -1.157800  2.041209  1.859715"
      ]
     },
     "execution_count": 198,
     "metadata": {},
     "output_type": "execute_result"
    }
   ],
   "source": [
    "df_pca_data.head()"
   ]
  },
  {
   "attachments": {},
   "cell_type": "markdown",
   "metadata": {},
   "source": [
    "---"
   ]
  },
  {
   "attachments": {},
   "cell_type": "markdown",
   "metadata": {},
   "source": [
    "### Find the Best Value for k Using the PCA Data"
   ]
  },
  {
   "cell_type": "code",
   "execution_count": 199,
   "metadata": {},
   "outputs": [],
   "source": [
    "# Create an empty list to store the inertia values\n",
    "\n",
    "\n",
    "# Create a for loop to compute the inertia with each possible value of k\n",
    "# Inside the loop:\n",
    "# 1. Create a KMeans model using the loop counter for the n_clusters\n",
    "# 2. Fit the model to the data using `df_pca_data`\n",
    "# 3. Append the model.inertia_ to the inertia list\n"
   ]
  },
  {
   "cell_type": "code",
   "execution_count": 200,
   "metadata": {},
   "outputs": [],
   "source": [
    "inertia_values_pca = []"
   ]
  },
  {
   "cell_type": "code",
   "execution_count": 201,
   "metadata": {},
   "outputs": [
    {
     "name": "stderr",
     "output_type": "stream",
     "text": [
      "d:\\RDA\\envs\\dev00\\lib\\site-packages\\sklearn\\cluster\\_kmeans.py:1382: UserWarning: KMeans is known to have a memory leak on Windows with MKL, when there are less chunks than available threads. You can avoid it by setting the environment variable OMP_NUM_THREADS=1.\n",
      "  warnings.warn(\n",
      "d:\\RDA\\envs\\dev00\\lib\\site-packages\\sklearn\\cluster\\_kmeans.py:1382: UserWarning: KMeans is known to have a memory leak on Windows with MKL, when there are less chunks than available threads. You can avoid it by setting the environment variable OMP_NUM_THREADS=1.\n",
      "  warnings.warn(\n",
      "d:\\RDA\\envs\\dev00\\lib\\site-packages\\sklearn\\cluster\\_kmeans.py:1382: UserWarning: KMeans is known to have a memory leak on Windows with MKL, when there are less chunks than available threads. You can avoid it by setting the environment variable OMP_NUM_THREADS=1.\n",
      "  warnings.warn(\n",
      "d:\\RDA\\envs\\dev00\\lib\\site-packages\\sklearn\\cluster\\_kmeans.py:1382: UserWarning: KMeans is known to have a memory leak on Windows with MKL, when there are less chunks than available threads. You can avoid it by setting the environment variable OMP_NUM_THREADS=1.\n",
      "  warnings.warn(\n",
      "d:\\RDA\\envs\\dev00\\lib\\site-packages\\sklearn\\cluster\\_kmeans.py:1382: UserWarning: KMeans is known to have a memory leak on Windows with MKL, when there are less chunks than available threads. You can avoid it by setting the environment variable OMP_NUM_THREADS=1.\n",
      "  warnings.warn(\n",
      "d:\\RDA\\envs\\dev00\\lib\\site-packages\\sklearn\\cluster\\_kmeans.py:1382: UserWarning: KMeans is known to have a memory leak on Windows with MKL, when there are less chunks than available threads. You can avoid it by setting the environment variable OMP_NUM_THREADS=1.\n",
      "  warnings.warn(\n",
      "d:\\RDA\\envs\\dev00\\lib\\site-packages\\sklearn\\cluster\\_kmeans.py:1382: UserWarning: KMeans is known to have a memory leak on Windows with MKL, when there are less chunks than available threads. You can avoid it by setting the environment variable OMP_NUM_THREADS=1.\n",
      "  warnings.warn(\n",
      "d:\\RDA\\envs\\dev00\\lib\\site-packages\\sklearn\\cluster\\_kmeans.py:1382: UserWarning: KMeans is known to have a memory leak on Windows with MKL, when there are less chunks than available threads. You can avoid it by setting the environment variable OMP_NUM_THREADS=1.\n",
      "  warnings.warn(\n",
      "d:\\RDA\\envs\\dev00\\lib\\site-packages\\sklearn\\cluster\\_kmeans.py:1382: UserWarning: KMeans is known to have a memory leak on Windows with MKL, when there are less chunks than available threads. You can avoid it by setting the environment variable OMP_NUM_THREADS=1.\n",
      "  warnings.warn(\n",
      "d:\\RDA\\envs\\dev00\\lib\\site-packages\\sklearn\\cluster\\_kmeans.py:1382: UserWarning: KMeans is known to have a memory leak on Windows with MKL, when there are less chunks than available threads. You can avoid it by setting the environment variable OMP_NUM_THREADS=1.\n",
      "  warnings.warn(\n",
      "d:\\RDA\\envs\\dev00\\lib\\site-packages\\sklearn\\cluster\\_kmeans.py:1382: UserWarning: KMeans is known to have a memory leak on Windows with MKL, when there are less chunks than available threads. You can avoid it by setting the environment variable OMP_NUM_THREADS=1.\n",
      "  warnings.warn(\n"
     ]
    }
   ],
   "source": [
    "# Create a for loop to compute the inertia with each possible value of k\n",
    "for k in range(1, 12):  # The range is from 1 to 11 (inclusive).\n",
    "    # Create a KMeans model using the loop counter for the n_clusters\n",
    "    kmeans_model_pca = KMeans(n_clusters=k, n_init=10)\n",
    "    \n",
    "    # Fit the model to the data using df_pca_data\n",
    "    kmeans_model_pca.fit(df_pca_data)\n",
    "    \n",
    "    # Append the model.inertia_ to the inertia list\n",
    "    inertia_values_pca.append(kmeans_model_pca.inertia_)"
   ]
  },
  {
   "cell_type": "code",
   "execution_count": 202,
   "metadata": {},
   "outputs": [],
   "source": [
    "inertia_pca_dict = dict(zip(k_values, inertia_values_pca))\n"
   ]
  },
  {
   "cell_type": "code",
   "execution_count": 203,
   "metadata": {},
   "outputs": [],
   "source": [
    "# Create a DataFrame with the data to plot the Elbow curve\n",
    "elbow_data2 = pd.DataFrame(list(inertia_pca_dict.items()), columns=['k', 'inertia'])"
   ]
  },
  {
   "cell_type": "code",
   "execution_count": 204,
   "metadata": {},
   "outputs": [
    {
     "data": {
      "text/html": [
       "<div>\n",
       "<style scoped>\n",
       "    .dataframe tbody tr th:only-of-type {\n",
       "        vertical-align: middle;\n",
       "    }\n",
       "\n",
       "    .dataframe tbody tr th {\n",
       "        vertical-align: top;\n",
       "    }\n",
       "\n",
       "    .dataframe thead th {\n",
       "        text-align: right;\n",
       "    }\n",
       "</style>\n",
       "<table border=\"1\" class=\"dataframe\">\n",
       "  <thead>\n",
       "    <tr style=\"text-align: right;\">\n",
       "      <th></th>\n",
       "      <th>k</th>\n",
       "      <th>inertia</th>\n",
       "    </tr>\n",
       "  </thead>\n",
       "  <tbody>\n",
       "    <tr>\n",
       "      <th>0</th>\n",
       "      <td>1</td>\n",
       "      <td>256.874086</td>\n",
       "    </tr>\n",
       "    <tr>\n",
       "      <th>1</th>\n",
       "      <td>2</td>\n",
       "      <td>168.811896</td>\n",
       "    </tr>\n",
       "    <tr>\n",
       "      <th>2</th>\n",
       "      <td>3</td>\n",
       "      <td>93.774626</td>\n",
       "    </tr>\n",
       "    <tr>\n",
       "      <th>3</th>\n",
       "      <td>4</td>\n",
       "      <td>49.665497</td>\n",
       "    </tr>\n",
       "    <tr>\n",
       "      <th>4</th>\n",
       "      <td>5</td>\n",
       "      <td>37.878747</td>\n",
       "    </tr>\n",
       "    <tr>\n",
       "      <th>5</th>\n",
       "      <td>6</td>\n",
       "      <td>27.618972</td>\n",
       "    </tr>\n",
       "    <tr>\n",
       "      <th>6</th>\n",
       "      <td>7</td>\n",
       "      <td>21.163978</td>\n",
       "    </tr>\n",
       "    <tr>\n",
       "      <th>7</th>\n",
       "      <td>8</td>\n",
       "      <td>17.091637</td>\n",
       "    </tr>\n",
       "    <tr>\n",
       "      <th>8</th>\n",
       "      <td>9</td>\n",
       "      <td>13.681140</td>\n",
       "    </tr>\n",
       "    <tr>\n",
       "      <th>9</th>\n",
       "      <td>10</td>\n",
       "      <td>10.598085</td>\n",
       "    </tr>\n",
       "    <tr>\n",
       "      <th>10</th>\n",
       "      <td>11</td>\n",
       "      <td>8.058822</td>\n",
       "    </tr>\n",
       "  </tbody>\n",
       "</table>\n",
       "</div>"
      ],
      "text/plain": [
       "     k     inertia\n",
       "0    1  256.874086\n",
       "1    2  168.811896\n",
       "2    3   93.774626\n",
       "3    4   49.665497\n",
       "4    5   37.878747\n",
       "5    6   27.618972\n",
       "6    7   21.163978\n",
       "7    8   17.091637\n",
       "8    9   13.681140\n",
       "9   10   10.598085\n",
       "10  11    8.058822"
      ]
     },
     "execution_count": 204,
     "metadata": {},
     "output_type": "execute_result"
    }
   ],
   "source": [
    "elbow_data2"
   ]
  },
  {
   "cell_type": "code",
   "execution_count": 205,
   "metadata": {},
   "outputs": [
    {
     "data": {},
     "metadata": {},
     "output_type": "display_data"
    },
    {
     "data": {
      "application/vnd.holoviews_exec.v0+json": "",
      "text/html": [
       "<div id='5516'>\n",
       "  <div class=\"bk-root\" id=\"0e650aaf-b9a3-4e9d-bc77-2bd84c77d7f7\" data-root-id=\"5516\"></div>\n",
       "</div>\n",
       "<script type=\"application/javascript\">(function(root) {\n",
       "  function embed_document(root) {\n",
       "    var docs_json = {\"ac305629-4f6b-458e-b88b-ebb1bb2ed944\":{\"defs\":[{\"extends\":null,\"module\":null,\"name\":\"ReactiveHTML1\",\"overrides\":[],\"properties\":[]},{\"extends\":null,\"module\":null,\"name\":\"FlexBox1\",\"overrides\":[],\"properties\":[{\"default\":\"flex-start\",\"kind\":null,\"name\":\"align_content\"},{\"default\":\"flex-start\",\"kind\":null,\"name\":\"align_items\"},{\"default\":\"row\",\"kind\":null,\"name\":\"flex_direction\"},{\"default\":\"wrap\",\"kind\":null,\"name\":\"flex_wrap\"},{\"default\":\"flex-start\",\"kind\":null,\"name\":\"justify_content\"}]},{\"extends\":null,\"module\":null,\"name\":\"GridStack1\",\"overrides\":[],\"properties\":[{\"default\":\"warn\",\"kind\":null,\"name\":\"mode\"},{\"default\":null,\"kind\":null,\"name\":\"ncols\"},{\"default\":null,\"kind\":null,\"name\":\"nrows\"},{\"default\":true,\"kind\":null,\"name\":\"allow_resize\"},{\"default\":true,\"kind\":null,\"name\":\"allow_drag\"},{\"default\":[],\"kind\":null,\"name\":\"state\"}]},{\"extends\":null,\"module\":null,\"name\":\"click1\",\"overrides\":[],\"properties\":[{\"default\":\"\",\"kind\":null,\"name\":\"terminal_output\"},{\"default\":\"\",\"kind\":null,\"name\":\"debug_name\"},{\"default\":0,\"kind\":null,\"name\":\"clears\"}]},{\"extends\":null,\"module\":null,\"name\":\"NotificationAreaBase1\",\"overrides\":[],\"properties\":[{\"default\":\"bottom-right\",\"kind\":null,\"name\":\"position\"},{\"default\":0,\"kind\":null,\"name\":\"_clear\"}]},{\"extends\":null,\"module\":null,\"name\":\"NotificationArea1\",\"overrides\":[],\"properties\":[{\"default\":[],\"kind\":null,\"name\":\"notifications\"},{\"default\":\"bottom-right\",\"kind\":null,\"name\":\"position\"},{\"default\":0,\"kind\":null,\"name\":\"_clear\"},{\"default\":[{\"background\":\"#ffc107\",\"icon\":{\"className\":\"fas fa-exclamation-triangle\",\"color\":\"white\",\"tagName\":\"i\"},\"type\":\"warning\"},{\"background\":\"#007bff\",\"icon\":{\"className\":\"fas fa-info-circle\",\"color\":\"white\",\"tagName\":\"i\"},\"type\":\"info\"}],\"kind\":null,\"name\":\"types\"}]},{\"extends\":null,\"module\":null,\"name\":\"Notification\",\"overrides\":[],\"properties\":[{\"default\":null,\"kind\":null,\"name\":\"background\"},{\"default\":3000,\"kind\":null,\"name\":\"duration\"},{\"default\":null,\"kind\":null,\"name\":\"icon\"},{\"default\":\"\",\"kind\":null,\"name\":\"message\"},{\"default\":null,\"kind\":null,\"name\":\"notification_type\"},{\"default\":false,\"kind\":null,\"name\":\"_destroyed\"}]},{\"extends\":null,\"module\":null,\"name\":\"TemplateActions1\",\"overrides\":[],\"properties\":[{\"default\":0,\"kind\":null,\"name\":\"open_modal\"},{\"default\":0,\"kind\":null,\"name\":\"close_modal\"}]},{\"extends\":null,\"module\":null,\"name\":\"MaterialTemplateActions1\",\"overrides\":[],\"properties\":[{\"default\":0,\"kind\":null,\"name\":\"open_modal\"},{\"default\":0,\"kind\":null,\"name\":\"close_modal\"}]}],\"roots\":{\"references\":[{\"attributes\":{},\"id\":\"5578\",\"type\":\"UnionRenderers\"},{\"attributes\":{},\"id\":\"5527\",\"type\":\"LinearScale\"},{\"attributes\":{},\"id\":\"5538\",\"type\":\"PanTool\"},{\"attributes\":{\"coordinates\":null,\"group\":null,\"text\":\"Elbow Curve\",\"text_color\":\"black\",\"text_font_size\":\"12pt\"},\"id\":\"5521\",\"type\":\"Title\"},{\"attributes\":{\"coordinates\":null,\"data_source\":{\"id\":\"5550\"},\"glyph\":{\"id\":\"5553\"},\"group\":null,\"hover_glyph\":null,\"muted_glyph\":{\"id\":\"5555\"},\"nonselection_glyph\":{\"id\":\"5554\"},\"selection_glyph\":{\"id\":\"5558\"},\"view\":{\"id\":\"5557\"}},\"id\":\"5556\",\"type\":\"GlyphRenderer\"},{\"attributes\":{\"axis\":{\"id\":\"5529\"},\"coordinates\":null,\"group\":null,\"ticker\":{\"id\":\"5530\"}},\"id\":\"5532\",\"type\":\"Grid\"},{\"attributes\":{\"active_drag\":{\"id\":\"5538\"},\"active_scroll\":{\"id\":\"5539\"},\"tools\":[{\"id\":\"5519\"},{\"id\":\"5537\"},{\"id\":\"5538\"},{\"id\":\"5539\"},{\"id\":\"5540\"},{\"id\":\"5541\"}]},\"id\":\"5543\",\"type\":\"Toolbar\"},{\"attributes\":{\"axis_label\":\"Number of Clusters (k)\",\"coordinates\":null,\"formatter\":{\"id\":\"5560\"},\"group\":null,\"major_label_policy\":{\"id\":\"5561\"},\"ticker\":{\"id\":\"5530\"}},\"id\":\"5529\",\"type\":\"LinearAxis\"},{\"attributes\":{\"data\":{\"inertia\":{\"__ndarray__\":\"EQAmQfwNcECOtfYN+xllQPYsl3eTcVdAmIiJ/i7VSEDWFmXIevBCQH9sYu90njtAblbYdPopNUCng8R/dRcxQJzSgle+XCtA3GL2LTgyJUDKnhDnHR4gQA==\",\"dtype\":\"float64\",\"order\":\"little\",\"shape\":[11]},\"k\":[1,2,3,4,5,6,7,8,9,10,11]},\"selected\":{\"id\":\"5551\"},\"selection_policy\":{\"id\":\"5578\"}},\"id\":\"5550\",\"type\":\"ColumnDataSource\"},{\"attributes\":{\"line_alpha\":0.1,\"line_color\":\"#30a2da\",\"line_width\":2,\"x\":{\"field\":\"k\"},\"y\":{\"field\":\"inertia\"}},\"id\":\"5554\",\"type\":\"Line\"},{\"attributes\":{\"overlay\":{\"id\":\"5542\"}},\"id\":\"5540\",\"type\":\"BoxZoomTool\"},{\"attributes\":{\"line_color\":\"#30a2da\",\"line_width\":2,\"x\":{\"field\":\"k\"},\"y\":{\"field\":\"inertia\"}},\"id\":\"5553\",\"type\":\"Line\"},{\"attributes\":{},\"id\":\"5530\",\"type\":\"BasicTicker\"},{\"attributes\":{},\"id\":\"5563\",\"type\":\"BasicTickFormatter\"},{\"attributes\":{\"axis_label\":\"Inertia\",\"coordinates\":null,\"formatter\":{\"id\":\"5563\"},\"group\":null,\"major_label_policy\":{\"id\":\"5564\"},\"ticker\":{\"id\":\"5534\"}},\"id\":\"5533\",\"type\":\"LinearAxis\"},{\"attributes\":{\"axis\":{\"id\":\"5533\"},\"coordinates\":null,\"dimension\":1,\"group\":null,\"ticker\":{\"id\":\"5534\"}},\"id\":\"5536\",\"type\":\"Grid\"},{\"attributes\":{},\"id\":\"5534\",\"type\":\"BasicTicker\"},{\"attributes\":{},\"id\":\"5539\",\"type\":\"WheelZoomTool\"},{\"attributes\":{\"below\":[{\"id\":\"5529\"}],\"center\":[{\"id\":\"5532\"},{\"id\":\"5536\"}],\"height\":300,\"left\":[{\"id\":\"5533\"}],\"margin\":[5,5,5,5],\"min_border_bottom\":10,\"min_border_left\":10,\"min_border_right\":10,\"min_border_top\":10,\"renderers\":[{\"id\":\"5556\"}],\"sizing_mode\":\"fixed\",\"title\":{\"id\":\"5521\"},\"toolbar\":{\"id\":\"5543\"},\"width\":700,\"x_range\":{\"id\":\"5517\"},\"x_scale\":{\"id\":\"5525\"},\"y_range\":{\"id\":\"5518\"},\"y_scale\":{\"id\":\"5527\"}},\"id\":\"5520\",\"subtype\":\"Figure\",\"type\":\"Plot\"},{\"attributes\":{},\"id\":\"5537\",\"type\":\"SaveTool\"},{\"attributes\":{\"line_alpha\":0.2,\"line_color\":\"#30a2da\",\"line_width\":2,\"x\":{\"field\":\"k\"},\"y\":{\"field\":\"inertia\"}},\"id\":\"5555\",\"type\":\"Line\"},{\"attributes\":{},\"id\":\"5525\",\"type\":\"LinearScale\"},{\"attributes\":{\"children\":[{\"id\":\"5520\"}],\"height\":300,\"margin\":[0,0,0,0],\"name\":\"Row04719\",\"sizing_mode\":\"fixed\",\"tags\":[\"embedded\"],\"width\":700},\"id\":\"5516\",\"type\":\"Row\"},{\"attributes\":{},\"id\":\"5560\",\"type\":\"BasicTickFormatter\"},{\"attributes\":{\"line_color\":\"#30a2da\",\"line_width\":2,\"x\":{\"field\":\"k\"},\"y\":{\"field\":\"inertia\"}},\"id\":\"5558\",\"type\":\"Line\"},{\"attributes\":{\"end\":281.7556119358105,\"reset_end\":281.7556119358105,\"reset_start\":-16.822704479205253,\"start\":-16.822704479205253,\"tags\":[[[\"inertia\",\"inertia\",null]]]},\"id\":\"5518\",\"type\":\"Range1d\"},{\"attributes\":{},\"id\":\"5561\",\"type\":\"AllLabels\"},{\"attributes\":{},\"id\":\"5564\",\"type\":\"AllLabels\"},{\"attributes\":{},\"id\":\"5551\",\"type\":\"Selection\"},{\"attributes\":{\"source\":{\"id\":\"5550\"}},\"id\":\"5557\",\"type\":\"CDSView\"},{\"attributes\":{\"end\":11.0,\"reset_end\":11.0,\"reset_start\":1.0,\"start\":1.0,\"tags\":[[[\"k\",\"k\",null]]]},\"id\":\"5517\",\"type\":\"Range1d\"},{\"attributes\":{},\"id\":\"5541\",\"type\":\"ResetTool\"},{\"attributes\":{\"bottom_units\":\"screen\",\"coordinates\":null,\"fill_alpha\":0.5,\"fill_color\":\"lightgrey\",\"group\":null,\"left_units\":\"screen\",\"level\":\"overlay\",\"line_alpha\":1.0,\"line_color\":\"black\",\"line_dash\":[4,4],\"line_width\":2,\"right_units\":\"screen\",\"syncable\":false,\"top_units\":\"screen\"},\"id\":\"5542\",\"type\":\"BoxAnnotation\"},{\"attributes\":{\"callback\":null,\"renderers\":[{\"id\":\"5556\"}],\"tags\":[\"hv_created\"],\"tooltips\":[[\"k\",\"@{k}\"],[\"inertia\",\"@{inertia}\"]]},\"id\":\"5519\",\"type\":\"HoverTool\"}],\"root_ids\":[\"5516\"]},\"title\":\"Bokeh Application\",\"version\":\"2.4.3\"}};\n",
       "    var render_items = [{\"docid\":\"ac305629-4f6b-458e-b88b-ebb1bb2ed944\",\"root_ids\":[\"5516\"],\"roots\":{\"5516\":\"0e650aaf-b9a3-4e9d-bc77-2bd84c77d7f7\"}}];\n",
       "    root.Bokeh.embed.embed_items_notebook(docs_json, render_items);\n",
       "    for (const render_item of render_items) {\n",
       "      for (const root_id of render_item.root_ids) {\n",
       "\tconst id_el = document.getElementById(root_id)\n",
       "\tif (id_el.children.length && (id_el.children[0].className === 'bk-root')) {\n",
       "\t  const root_el = id_el.children[0]\n",
       "\t  root_el.id = root_el.id + '-rendered'\n",
       "\t}\n",
       "      }\n",
       "    }\n",
       "  }\n",
       "  if (root.Bokeh !== undefined && root.Bokeh.Panel !== undefined) {\n",
       "    embed_document(root);\n",
       "  } else {\n",
       "    var attempts = 0;\n",
       "    var timer = setInterval(function(root) {\n",
       "      if (root.Bokeh !== undefined && root.Bokeh.Panel !== undefined) {\n",
       "        clearInterval(timer);\n",
       "        embed_document(root);\n",
       "      } else if (document.readyState == \"complete\") {\n",
       "        attempts++;\n",
       "        if (attempts > 200) {\n",
       "          clearInterval(timer);\n",
       "          console.log(\"Bokeh: ERROR: Unable to run BokehJS code because BokehJS library is missing\");\n",
       "        }\n",
       "      }\n",
       "    }, 25, root)\n",
       "  }\n",
       "})(window);</script>"
      ],
      "text/plain": [
       ":Curve   [k]   (inertia)"
      ]
     },
     "execution_count": 205,
     "metadata": {
      "application/vnd.holoviews_exec.v0+json": {
       "id": "5516"
      }
     },
     "output_type": "execute_result"
    }
   ],
   "source": [
    "# Plot a line chart to visually identify the optimal value for k\n",
    "elbow_data2.hvplot.line(x='k',\n",
    "                       y='inertia',\n",
    "                       xlabel='Number of Clusters (k)',\n",
    "                       ylabel='Inertia',\n",
    "                       title='Elbow Curve',\n",
    "                       xticks=elbow_data['k'],\n",
    "                       grid=True)"
   ]
  },
  {
   "attachments": {},
   "cell_type": "markdown",
   "metadata": {},
   "source": [
    "#### Answer the following questions: \n",
    "\n",
    "* **Question:** What is the best value for `k` when using the PCA data?\n",
    "\n",
    "  * **Answer:** k=4\n",
    "\n",
    "\n",
    "* **Question:** Does it differ from the best k value found using the original data?\n",
    "\n",
    "  * **Answer:** it does not if we chose the simplified model. "
   ]
  },
  {
   "attachments": {},
   "cell_type": "markdown",
   "metadata": {},
   "source": [
    "### Cluster Cryptocurrencies with K-means Using the PCA Data"
   ]
  },
  {
   "cell_type": "code",
   "execution_count": 206,
   "metadata": {},
   "outputs": [],
   "source": [
    "# Initialize the K-Means model using the best value for k\n",
    "best_k = 4"
   ]
  },
  {
   "cell_type": "code",
   "execution_count": 207,
   "metadata": {},
   "outputs": [],
   "source": [
    "kmeans_model_pca = KMeans(n_clusters=best_k, n_init=10)\n"
   ]
  },
  {
   "cell_type": "code",
   "execution_count": 208,
   "metadata": {},
   "outputs": [
    {
     "name": "stderr",
     "output_type": "stream",
     "text": [
      "d:\\RDA\\envs\\dev00\\lib\\site-packages\\sklearn\\cluster\\_kmeans.py:1382: UserWarning: KMeans is known to have a memory leak on Windows with MKL, when there are less chunks than available threads. You can avoid it by setting the environment variable OMP_NUM_THREADS=1.\n",
      "  warnings.warn(\n"
     ]
    },
    {
     "data": {
      "text/html": [
       "<style>#sk-container-id-7 {color: black;background-color: white;}#sk-container-id-7 pre{padding: 0;}#sk-container-id-7 div.sk-toggleable {background-color: white;}#sk-container-id-7 label.sk-toggleable__label {cursor: pointer;display: block;width: 100%;margin-bottom: 0;padding: 0.3em;box-sizing: border-box;text-align: center;}#sk-container-id-7 label.sk-toggleable__label-arrow:before {content: \"▸\";float: left;margin-right: 0.25em;color: #696969;}#sk-container-id-7 label.sk-toggleable__label-arrow:hover:before {color: black;}#sk-container-id-7 div.sk-estimator:hover label.sk-toggleable__label-arrow:before {color: black;}#sk-container-id-7 div.sk-toggleable__content {max-height: 0;max-width: 0;overflow: hidden;text-align: left;background-color: #f0f8ff;}#sk-container-id-7 div.sk-toggleable__content pre {margin: 0.2em;color: black;border-radius: 0.25em;background-color: #f0f8ff;}#sk-container-id-7 input.sk-toggleable__control:checked~div.sk-toggleable__content {max-height: 200px;max-width: 100%;overflow: auto;}#sk-container-id-7 input.sk-toggleable__control:checked~label.sk-toggleable__label-arrow:before {content: \"▾\";}#sk-container-id-7 div.sk-estimator input.sk-toggleable__control:checked~label.sk-toggleable__label {background-color: #d4ebff;}#sk-container-id-7 div.sk-label input.sk-toggleable__control:checked~label.sk-toggleable__label {background-color: #d4ebff;}#sk-container-id-7 input.sk-hidden--visually {border: 0;clip: rect(1px 1px 1px 1px);clip: rect(1px, 1px, 1px, 1px);height: 1px;margin: -1px;overflow: hidden;padding: 0;position: absolute;width: 1px;}#sk-container-id-7 div.sk-estimator {font-family: monospace;background-color: #f0f8ff;border: 1px dotted black;border-radius: 0.25em;box-sizing: border-box;margin-bottom: 0.5em;}#sk-container-id-7 div.sk-estimator:hover {background-color: #d4ebff;}#sk-container-id-7 div.sk-parallel-item::after {content: \"\";width: 100%;border-bottom: 1px solid gray;flex-grow: 1;}#sk-container-id-7 div.sk-label:hover label.sk-toggleable__label {background-color: #d4ebff;}#sk-container-id-7 div.sk-serial::before {content: \"\";position: absolute;border-left: 1px solid gray;box-sizing: border-box;top: 0;bottom: 0;left: 50%;z-index: 0;}#sk-container-id-7 div.sk-serial {display: flex;flex-direction: column;align-items: center;background-color: white;padding-right: 0.2em;padding-left: 0.2em;position: relative;}#sk-container-id-7 div.sk-item {position: relative;z-index: 1;}#sk-container-id-7 div.sk-parallel {display: flex;align-items: stretch;justify-content: center;background-color: white;position: relative;}#sk-container-id-7 div.sk-item::before, #sk-container-id-7 div.sk-parallel-item::before {content: \"\";position: absolute;border-left: 1px solid gray;box-sizing: border-box;top: 0;bottom: 0;left: 50%;z-index: -1;}#sk-container-id-7 div.sk-parallel-item {display: flex;flex-direction: column;z-index: 1;position: relative;background-color: white;}#sk-container-id-7 div.sk-parallel-item:first-child::after {align-self: flex-end;width: 50%;}#sk-container-id-7 div.sk-parallel-item:last-child::after {align-self: flex-start;width: 50%;}#sk-container-id-7 div.sk-parallel-item:only-child::after {width: 0;}#sk-container-id-7 div.sk-dashed-wrapped {border: 1px dashed gray;margin: 0 0.4em 0.5em 0.4em;box-sizing: border-box;padding-bottom: 0.4em;background-color: white;}#sk-container-id-7 div.sk-label label {font-family: monospace;font-weight: bold;display: inline-block;line-height: 1.2em;}#sk-container-id-7 div.sk-label-container {text-align: center;}#sk-container-id-7 div.sk-container {/* jupyter's `normalize.less` sets `[hidden] { display: none; }` but bootstrap.min.css set `[hidden] { display: none !important; }` so we also need the `!important` here to be able to override the default hidden behavior on the sphinx rendered scikit-learn.org. See: https://github.com/scikit-learn/scikit-learn/issues/21755 */display: inline-block !important;position: relative;}#sk-container-id-7 div.sk-text-repr-fallback {display: none;}</style><div id=\"sk-container-id-7\" class=\"sk-top-container\"><div class=\"sk-text-repr-fallback\"><pre>KMeans(n_clusters=4, n_init=10)</pre><b>In a Jupyter environment, please rerun this cell to show the HTML representation or trust the notebook. <br />On GitHub, the HTML representation is unable to render, please try loading this page with nbviewer.org.</b></div><div class=\"sk-container\" hidden><div class=\"sk-item\"><div class=\"sk-estimator sk-toggleable\"><input class=\"sk-toggleable__control sk-hidden--visually\" id=\"sk-estimator-id-7\" type=\"checkbox\" checked><label for=\"sk-estimator-id-7\" class=\"sk-toggleable__label sk-toggleable__label-arrow\">KMeans</label><div class=\"sk-toggleable__content\"><pre>KMeans(n_clusters=4, n_init=10)</pre></div></div></div></div></div>"
      ],
      "text/plain": [
       "KMeans(n_clusters=4, n_init=10)"
      ]
     },
     "execution_count": 208,
     "metadata": {},
     "output_type": "execute_result"
    }
   ],
   "source": [
    "# Fit the K-Means model using the PCA data\n",
    "kmeans_model_pca.fit(df_pca_data)\n"
   ]
  },
  {
   "cell_type": "code",
   "execution_count": 209,
   "metadata": {},
   "outputs": [
    {
     "name": "stdout",
     "output_type": "stream",
     "text": [
      "[3 3 0 0 3 3 3 3 3 0 0 0 0 3 0 3 0 0 3 0 0 3 0 0 0 0 0 0 3 0 0 0 1 3 0 0 2\n",
      " 0 0 0 0]\n"
     ]
    }
   ],
   "source": [
    "# Predict the clusters to group the cryptocurrencies using the PCA data\n",
    "predicted_clusters_pca = kmeans_model_pca.predict(df_pca_data)\n",
    "\n",
    "# Print the resulting array of cluster values.\n",
    "print(predicted_clusters_pca)\n"
   ]
  },
  {
   "cell_type": "code",
   "execution_count": 210,
   "metadata": {},
   "outputs": [
    {
     "name": "stdout",
     "output_type": "stream",
     "text": [
      "                   PC1       PC2       PC3  cluster\n",
      "coin_id                                            \n",
      "bitcoin      -0.600667  0.842760  0.461595        3\n",
      "ethereum     -0.458261  0.458466  0.952877        3\n",
      "tether       -0.433070 -0.168126 -0.641752        0\n",
      "ripple       -0.471835 -0.222660 -0.479053        0\n",
      "bitcoin-cash -1.157800  2.041209  1.859715        3\n"
     ]
    }
   ],
   "source": [
    "# Create a copy of the DataFrame with the PCA data\n",
    "df_pca_with_clusters = df_pca_data.copy()\n",
    "\n",
    "\n",
    "# Add a new column to the DataFrame with the predicted clusters\n",
    "df_pca_with_clusters['cluster'] = predicted_clusters_pca\n",
    "\n",
    "\n",
    "# Display sample data\n",
    "print(df_pca_with_clusters.head())\n"
   ]
  },
  {
   "cell_type": "code",
   "execution_count": 211,
   "metadata": {},
   "outputs": [
    {
     "data": {},
     "metadata": {},
     "output_type": "display_data"
    },
    {
     "data": {
      "application/vnd.holoviews_exec.v0+json": "",
      "text/html": [
       "<div id='5632'>\n",
       "  <div class=\"bk-root\" id=\"5f4e4dc9-872c-4e63-88ca-89fac0bde0cd\" data-root-id=\"5632\"></div>\n",
       "</div>\n",
       "<script type=\"application/javascript\">(function(root) {\n",
       "  function embed_document(root) {\n",
       "    var docs_json = {\"82a86c7c-8162-4eb0-9cd4-db168c80c44f\":{\"defs\":[{\"extends\":null,\"module\":null,\"name\":\"ReactiveHTML1\",\"overrides\":[],\"properties\":[]},{\"extends\":null,\"module\":null,\"name\":\"FlexBox1\",\"overrides\":[],\"properties\":[{\"default\":\"flex-start\",\"kind\":null,\"name\":\"align_content\"},{\"default\":\"flex-start\",\"kind\":null,\"name\":\"align_items\"},{\"default\":\"row\",\"kind\":null,\"name\":\"flex_direction\"},{\"default\":\"wrap\",\"kind\":null,\"name\":\"flex_wrap\"},{\"default\":\"flex-start\",\"kind\":null,\"name\":\"justify_content\"}]},{\"extends\":null,\"module\":null,\"name\":\"GridStack1\",\"overrides\":[],\"properties\":[{\"default\":\"warn\",\"kind\":null,\"name\":\"mode\"},{\"default\":null,\"kind\":null,\"name\":\"ncols\"},{\"default\":null,\"kind\":null,\"name\":\"nrows\"},{\"default\":true,\"kind\":null,\"name\":\"allow_resize\"},{\"default\":true,\"kind\":null,\"name\":\"allow_drag\"},{\"default\":[],\"kind\":null,\"name\":\"state\"}]},{\"extends\":null,\"module\":null,\"name\":\"click1\",\"overrides\":[],\"properties\":[{\"default\":\"\",\"kind\":null,\"name\":\"terminal_output\"},{\"default\":\"\",\"kind\":null,\"name\":\"debug_name\"},{\"default\":0,\"kind\":null,\"name\":\"clears\"}]},{\"extends\":null,\"module\":null,\"name\":\"NotificationAreaBase1\",\"overrides\":[],\"properties\":[{\"default\":\"bottom-right\",\"kind\":null,\"name\":\"position\"},{\"default\":0,\"kind\":null,\"name\":\"_clear\"}]},{\"extends\":null,\"module\":null,\"name\":\"NotificationArea1\",\"overrides\":[],\"properties\":[{\"default\":[],\"kind\":null,\"name\":\"notifications\"},{\"default\":\"bottom-right\",\"kind\":null,\"name\":\"position\"},{\"default\":0,\"kind\":null,\"name\":\"_clear\"},{\"default\":[{\"background\":\"#ffc107\",\"icon\":{\"className\":\"fas fa-exclamation-triangle\",\"color\":\"white\",\"tagName\":\"i\"},\"type\":\"warning\"},{\"background\":\"#007bff\",\"icon\":{\"className\":\"fas fa-info-circle\",\"color\":\"white\",\"tagName\":\"i\"},\"type\":\"info\"}],\"kind\":null,\"name\":\"types\"}]},{\"extends\":null,\"module\":null,\"name\":\"Notification\",\"overrides\":[],\"properties\":[{\"default\":null,\"kind\":null,\"name\":\"background\"},{\"default\":3000,\"kind\":null,\"name\":\"duration\"},{\"default\":null,\"kind\":null,\"name\":\"icon\"},{\"default\":\"\",\"kind\":null,\"name\":\"message\"},{\"default\":null,\"kind\":null,\"name\":\"notification_type\"},{\"default\":false,\"kind\":null,\"name\":\"_destroyed\"}]},{\"extends\":null,\"module\":null,\"name\":\"TemplateActions1\",\"overrides\":[],\"properties\":[{\"default\":0,\"kind\":null,\"name\":\"open_modal\"},{\"default\":0,\"kind\":null,\"name\":\"close_modal\"}]},{\"extends\":null,\"module\":null,\"name\":\"MaterialTemplateActions1\",\"overrides\":[],\"properties\":[{\"default\":0,\"kind\":null,\"name\":\"open_modal\"},{\"default\":0,\"kind\":null,\"name\":\"close_modal\"}]}],\"roots\":{\"references\":[{\"attributes\":{\"source\":{\"id\":\"5667\"}},\"id\":\"5676\",\"type\":\"CDSView\"},{\"attributes\":{},\"id\":\"5653\",\"type\":\"SaveTool\"},{\"attributes\":{\"bar_line_color\":\"black\",\"color_mapper\":{\"id\":\"5666\"},\"coordinates\":null,\"group\":null,\"label_standoff\":8,\"location\":[0,0],\"major_label_policy\":{\"id\":\"5693\"},\"major_tick_line_color\":\"black\",\"ticker\":{\"id\":\"5677\"}},\"id\":\"5678\",\"type\":\"ColorBar\"},{\"attributes\":{\"overlay\":{\"id\":\"5658\"}},\"id\":\"5656\",\"type\":\"BoxZoomTool\"},{\"attributes\":{},\"id\":\"5677\",\"type\":\"BasicTicker\"},{\"attributes\":{},\"id\":\"5657\",\"type\":\"ResetTool\"},{\"attributes\":{\"children\":[{\"id\":\"5636\"}],\"height\":400,\"margin\":[0,0,0,0],\"name\":\"Row04829\",\"sizing_mode\":\"fixed\",\"tags\":[\"embedded\"],\"width\":500},\"id\":\"5632\",\"type\":\"Row\"},{\"attributes\":{},\"id\":\"5683\",\"type\":\"BasicTickFormatter\"},{\"attributes\":{\"bottom_units\":\"screen\",\"coordinates\":null,\"fill_alpha\":0.5,\"fill_color\":\"lightgrey\",\"group\":null,\"left_units\":\"screen\",\"level\":\"overlay\",\"line_alpha\":1.0,\"line_color\":\"black\",\"line_dash\":[4,4],\"line_width\":2,\"right_units\":\"screen\",\"syncable\":false,\"top_units\":\"screen\"},\"id\":\"5658\",\"type\":\"BoxAnnotation\"},{\"attributes\":{},\"id\":\"5684\",\"type\":\"AllLabels\"},{\"attributes\":{\"fill_color\":{\"field\":\"color\",\"transform\":{\"id\":\"5666\"}},\"hatch_color\":{\"field\":\"color\",\"transform\":{\"id\":\"5666\"}},\"line_color\":{\"field\":\"color\",\"transform\":{\"id\":\"5666\"}},\"size\":{\"value\":5.477225575051661},\"x\":{\"field\":\"PC1\"},\"y\":{\"field\":\"PC2\"}},\"id\":\"5670\",\"type\":\"Scatter\"},{\"attributes\":{},\"id\":\"5668\",\"type\":\"Selection\"},{\"attributes\":{\"active_drag\":{\"id\":\"5654\"},\"active_scroll\":{\"id\":\"5655\"},\"tools\":[{\"id\":\"5635\"},{\"id\":\"5653\"},{\"id\":\"5654\"},{\"id\":\"5655\"},{\"id\":\"5656\"},{\"id\":\"5657\"}]},\"id\":\"5659\",\"type\":\"Toolbar\"},{\"attributes\":{\"coordinates\":null,\"group\":null,\"text\":\"Cryptocurrency Clustering with PCA\",\"text_color\":\"black\",\"text_font_size\":\"12pt\"},\"id\":\"5637\",\"type\":\"Title\"},{\"attributes\":{\"fill_color\":{\"field\":\"color\",\"transform\":{\"id\":\"5666\"}},\"hatch_color\":{\"field\":\"color\",\"transform\":{\"id\":\"5666\"}},\"line_color\":{\"field\":\"color\",\"transform\":{\"id\":\"5666\"}},\"size\":{\"value\":5.477225575051661},\"x\":{\"field\":\"PC1\"},\"y\":{\"field\":\"PC2\"}},\"id\":\"5672\",\"type\":\"Scatter\"},{\"attributes\":{},\"id\":\"5641\",\"type\":\"LinearScale\"},{\"attributes\":{},\"id\":\"5681\",\"type\":\"AllLabels\"},{\"attributes\":{\"end\":7.834135596337129,\"reset_end\":7.834135596337129,\"reset_start\":-4.963347456561397,\"start\":-4.963347456561397,\"tags\":[[[\"PC2\",\"PC2\",null]]]},\"id\":\"5634\",\"type\":\"Range1d\"},{\"attributes\":{},\"id\":\"5680\",\"type\":\"BasicTickFormatter\"},{\"attributes\":{\"fill_alpha\":{\"value\":0.1},\"fill_color\":{\"field\":\"color\",\"transform\":{\"id\":\"5666\"}},\"hatch_alpha\":{\"value\":0.1},\"hatch_color\":{\"field\":\"color\",\"transform\":{\"id\":\"5666\"}},\"line_alpha\":{\"value\":0.1},\"line_color\":{\"field\":\"color\",\"transform\":{\"id\":\"5666\"}},\"size\":{\"value\":5.477225575051661},\"x\":{\"field\":\"PC1\"},\"y\":{\"field\":\"PC2\"}},\"id\":\"5671\",\"type\":\"Scatter\"},{\"attributes\":{\"callback\":null,\"renderers\":[{\"id\":\"5675\"}],\"tags\":[\"hv_created\"],\"tooltips\":[[\"PC1\",\"@{PC1}\"],[\"PC2\",\"@{PC2}\"],[\"cluster\",\"@{cluster}\"],[\"coin_id\",\"@{coin_id}\"]]},\"id\":\"5635\",\"type\":\"HoverTool\"},{\"attributes\":{},\"id\":\"5697\",\"type\":\"UnionRenderers\"},{\"attributes\":{\"end\":8.828763669742097,\"reset_end\":8.828763669742097,\"reset_start\":-1.8975454274171257,\"start\":-1.8975454274171257,\"tags\":[[[\"PC1\",\"PC1\",null]]]},\"id\":\"5633\",\"type\":\"Range1d\"},{\"attributes\":{\"high\":3,\"low\":0,\"palette\":[\"#440154\",\"#440255\",\"#440357\",\"#450558\",\"#45065a\",\"#45085b\",\"#46095c\",\"#460b5e\",\"#460c5f\",\"#460e61\",\"#470f62\",\"#471163\",\"#471265\",\"#471466\",\"#471567\",\"#471669\",\"#47186a\",\"#48196b\",\"#481a6c\",\"#481c6e\",\"#481d6f\",\"#481e70\",\"#482071\",\"#482172\",\"#482273\",\"#482374\",\"#472575\",\"#472676\",\"#472777\",\"#472878\",\"#472a79\",\"#472b7a\",\"#472c7b\",\"#462d7c\",\"#462f7c\",\"#46307d\",\"#46317e\",\"#45327f\",\"#45347f\",\"#453580\",\"#453681\",\"#443781\",\"#443982\",\"#433a83\",\"#433b83\",\"#433c84\",\"#423d84\",\"#423e85\",\"#424085\",\"#414186\",\"#414286\",\"#404387\",\"#404487\",\"#3f4587\",\"#3f4788\",\"#3e4888\",\"#3e4989\",\"#3d4a89\",\"#3d4b89\",\"#3d4c89\",\"#3c4d8a\",\"#3c4e8a\",\"#3b508a\",\"#3b518a\",\"#3a528b\",\"#3a538b\",\"#39548b\",\"#39558b\",\"#38568b\",\"#38578c\",\"#37588c\",\"#37598c\",\"#365a8c\",\"#365b8c\",\"#355c8c\",\"#355d8c\",\"#345e8d\",\"#345f8d\",\"#33608d\",\"#33618d\",\"#32628d\",\"#32638d\",\"#31648d\",\"#31658d\",\"#31668d\",\"#30678d\",\"#30688d\",\"#2f698d\",\"#2f6a8d\",\"#2e6b8e\",\"#2e6c8e\",\"#2e6d8e\",\"#2d6e8e\",\"#2d6f8e\",\"#2c708e\",\"#2c718e\",\"#2c728e\",\"#2b738e\",\"#2b748e\",\"#2a758e\",\"#2a768e\",\"#2a778e\",\"#29788e\",\"#29798e\",\"#287a8e\",\"#287a8e\",\"#287b8e\",\"#277c8e\",\"#277d8e\",\"#277e8e\",\"#267f8e\",\"#26808e\",\"#26818e\",\"#25828e\",\"#25838d\",\"#24848d\",\"#24858d\",\"#24868d\",\"#23878d\",\"#23888d\",\"#23898d\",\"#22898d\",\"#228a8d\",\"#228b8d\",\"#218c8d\",\"#218d8c\",\"#218e8c\",\"#208f8c\",\"#20908c\",\"#20918c\",\"#1f928c\",\"#1f938b\",\"#1f948b\",\"#1f958b\",\"#1f968b\",\"#1e978a\",\"#1e988a\",\"#1e998a\",\"#1e998a\",\"#1e9a89\",\"#1e9b89\",\"#1e9c89\",\"#1e9d88\",\"#1e9e88\",\"#1e9f88\",\"#1ea087\",\"#1fa187\",\"#1fa286\",\"#1fa386\",\"#20a485\",\"#20a585\",\"#21a685\",\"#21a784\",\"#22a784\",\"#23a883\",\"#23a982\",\"#24aa82\",\"#25ab81\",\"#26ac81\",\"#27ad80\",\"#28ae7f\",\"#29af7f\",\"#2ab07e\",\"#2bb17d\",\"#2cb17d\",\"#2eb27c\",\"#2fb37b\",\"#30b47a\",\"#32b57a\",\"#33b679\",\"#35b778\",\"#36b877\",\"#38b976\",\"#39b976\",\"#3bba75\",\"#3dbb74\",\"#3ebc73\",\"#40bd72\",\"#42be71\",\"#44be70\",\"#45bf6f\",\"#47c06e\",\"#49c16d\",\"#4bc26c\",\"#4dc26b\",\"#4fc369\",\"#51c468\",\"#53c567\",\"#55c666\",\"#57c665\",\"#59c764\",\"#5bc862\",\"#5ec961\",\"#60c960\",\"#62ca5f\",\"#64cb5d\",\"#67cc5c\",\"#69cc5b\",\"#6bcd59\",\"#6dce58\",\"#70ce56\",\"#72cf55\",\"#74d054\",\"#77d052\",\"#79d151\",\"#7cd24f\",\"#7ed24e\",\"#81d34c\",\"#83d34b\",\"#86d449\",\"#88d547\",\"#8bd546\",\"#8dd644\",\"#90d643\",\"#92d741\",\"#95d73f\",\"#97d83e\",\"#9ad83c\",\"#9dd93a\",\"#9fd938\",\"#a2da37\",\"#a5da35\",\"#a7db33\",\"#aadb32\",\"#addc30\",\"#afdc2e\",\"#b2dd2c\",\"#b5dd2b\",\"#b7dd29\",\"#bade27\",\"#bdde26\",\"#bfdf24\",\"#c2df22\",\"#c5df21\",\"#c7e01f\",\"#cae01e\",\"#cde01d\",\"#cfe11c\",\"#d2e11b\",\"#d4e11a\",\"#d7e219\",\"#dae218\",\"#dce218\",\"#dfe318\",\"#e1e318\",\"#e4e318\",\"#e7e419\",\"#e9e419\",\"#ece41a\",\"#eee51b\",\"#f1e51c\",\"#f3e51e\",\"#f6e61f\",\"#f8e621\",\"#fae622\",\"#fde724\"]},\"id\":\"5666\",\"type\":\"LinearColorMapper\"},{\"attributes\":{\"data\":{\"PC1\":{\"__ndarray__\":\"N/XQrqo447+40e2+JFTdv1KWfGpqt9u/JGF8Nosy3r89E49DWYbyv+zSCdRxh+C/wlpHYHTY3L/W/cd7Th7Wv4dtTPNwyOS/4vJrm9dJ6L8E/HOg98TPv5CH9NfeDty/nBkZU4ow5r/guE+KvvmuP4NMI6evLNm/pjHFU0V66b+6A7sJMGewP9+yldMFTN+/o86LH/eZ078T6SrB0W7gvxkXiTH7LNe/wd1vxyJW47/GEjtnb3Pav9YRKLozFNq/i2XZqrZ84z/zTdZjQtDcv5nYvTIjeOi/KrLvblTN4b888+bQmjXbv+VGFZE5agVAqSC8UEGl47/DvuS6vI7iv0ZVosuTLSBAuEmjFh7m2L8xCisnUrTrP9KSuv+8lrw/YBQ7s2krE0CwXMBgQDzkv5UbmkYF++K/Gr1JmQJS3b8X4q/49hDTvw==\",\"dtype\":\"float64\",\"order\":\"little\",\"shape\":[41]},\"PC2\":{\"__ndarray__\":\"ygJY8+P36j9/P81egFfdP2fRe08qhcW/cI9VGiCAzL+rRDd7ZVQAQHakcU7LNvY/vWTwvP2Q4D+GxP1IkVfnP3stO/eXqNs/UOHMJurAyb/FOhRjIAX2v4lmxoRtcca/FskgkvpS3r+U9tOGdUYHQA0rtCB4sru/SqSem2Sk379wgFApNFH0v/egJl5vcue/akNue2CC5j+TkppKWUfCv62IS4bNlO+/ZgsYmwp66j9g+cMuWpLlv4rd4x5qM8u/nhdkhXQI4j8zLiH9mlTDvx/rhbGEkuC/UG24gOcC/7/ldLLu64zfPwyKJoz3k4y/c48PRXSt3r/z3rYoLM7Wv2EN8PHULA/AW0ntLg0gxT9s/tbKVRgCwPkhKIaGads/FlrQWxoSG0A9qFKDbN0AwCsR7msnAJY/HvWtmbtfwb8FSPDBzXbIvw==\",\"dtype\":\"float64\",\"order\":\"little\",\"shape\":[41]},\"cluster\":{\"__ndarray__\":\"AwAAAAMAAAAAAAAAAAAAAAMAAAADAAAAAwAAAAMAAAADAAAAAAAAAAAAAAAAAAAAAAAAAAMAAAAAAAAAAwAAAAAAAAAAAAAAAwAAAAAAAAAAAAAAAwAAAAAAAAAAAAAAAAAAAAAAAAAAAAAAAAAAAAMAAAAAAAAAAAAAAAAAAAABAAAAAwAAAAAAAAAAAAAAAgAAAAAAAAAAAAAAAAAAAAAAAAA=\",\"dtype\":\"int32\",\"order\":\"little\",\"shape\":[41]},\"coin_id\":[\"bitcoin\",\"ethereum\",\"tether\",\"ripple\",\"bitcoin-cash\",\"binancecoin\",\"chainlink\",\"cardano\",\"litecoin\",\"bitcoin-cash-sv\",\"crypto-com-chain\",\"usd-coin\",\"eos\",\"monero\",\"tron\",\"tezos\",\"okb\",\"stellar\",\"cosmos\",\"cdai\",\"neo\",\"wrapped-bitcoin\",\"leo-token\",\"huobi-token\",\"nem\",\"binance-usd\",\"iota\",\"vechain\",\"zcash\",\"theta-token\",\"dash\",\"ethereum-classic\",\"ethlend\",\"maker\",\"havven\",\"omisego\",\"celsius-degree-token\",\"ontology\",\"ftx-token\",\"true-usd\",\"digibyte\"],\"color\":{\"__ndarray__\":\"AwAAAAMAAAAAAAAAAAAAAAMAAAADAAAAAwAAAAMAAAADAAAAAAAAAAAAAAAAAAAAAAAAAAMAAAAAAAAAAwAAAAAAAAAAAAAAAwAAAAAAAAAAAAAAAwAAAAAAAAAAAAAAAAAAAAAAAAAAAAAAAAAAAAMAAAAAAAAAAAAAAAAAAAABAAAAAwAAAAAAAAAAAAAAAgAAAAAAAAAAAAAAAAAAAAAAAAA=\",\"dtype\":\"int32\",\"order\":\"little\",\"shape\":[41]}},\"selected\":{\"id\":\"5668\"},\"selection_policy\":{\"id\":\"5697\"}},\"id\":\"5667\",\"type\":\"ColumnDataSource\"},{\"attributes\":{\"below\":[{\"id\":\"5645\"}],\"center\":[{\"id\":\"5648\"},{\"id\":\"5652\"}],\"height\":400,\"left\":[{\"id\":\"5649\"}],\"margin\":[5,5,5,5],\"min_border_bottom\":10,\"min_border_left\":10,\"min_border_right\":10,\"min_border_top\":10,\"renderers\":[{\"id\":\"5675\"}],\"right\":[{\"id\":\"5678\"}],\"sizing_mode\":\"fixed\",\"title\":{\"id\":\"5637\"},\"toolbar\":{\"id\":\"5659\"},\"width\":500,\"x_range\":{\"id\":\"5633\"},\"x_scale\":{\"id\":\"5641\"},\"y_range\":{\"id\":\"5634\"},\"y_scale\":{\"id\":\"5643\"}},\"id\":\"5636\",\"subtype\":\"Figure\",\"type\":\"Plot\"},{\"attributes\":{\"fill_color\":{\"field\":\"color\",\"transform\":{\"id\":\"5666\"}},\"hatch_color\":{\"field\":\"color\",\"transform\":{\"id\":\"5666\"}},\"line_color\":{\"field\":\"color\",\"transform\":{\"id\":\"5666\"}},\"size\":{\"value\":5.477225575051661},\"x\":{\"field\":\"PC1\"},\"y\":{\"field\":\"PC2\"}},\"id\":\"5673\",\"type\":\"Scatter\"},{\"attributes\":{},\"id\":\"5693\",\"type\":\"NoOverlap\"},{\"attributes\":{\"fill_alpha\":{\"value\":0.2},\"fill_color\":{\"field\":\"color\",\"transform\":{\"id\":\"5666\"}},\"hatch_alpha\":{\"value\":0.2},\"hatch_color\":{\"field\":\"color\",\"transform\":{\"id\":\"5666\"}},\"line_alpha\":{\"value\":0.2},\"line_color\":{\"field\":\"color\",\"transform\":{\"id\":\"5666\"}},\"size\":{\"value\":5.477225575051661},\"x\":{\"field\":\"PC1\"},\"y\":{\"field\":\"PC2\"}},\"id\":\"5674\",\"type\":\"Scatter\"},{\"attributes\":{\"axis\":{\"id\":\"5645\"},\"coordinates\":null,\"grid_line_color\":null,\"group\":null,\"ticker\":null},\"id\":\"5648\",\"type\":\"Grid\"},{\"attributes\":{\"axis_label\":\"Principal Component 1 (PC1)\",\"coordinates\":null,\"formatter\":{\"id\":\"5680\"},\"group\":null,\"major_label_policy\":{\"id\":\"5681\"},\"ticker\":{\"id\":\"5646\"}},\"id\":\"5645\",\"type\":\"LinearAxis\"},{\"attributes\":{},\"id\":\"5654\",\"type\":\"PanTool\"},{\"attributes\":{\"coordinates\":null,\"data_source\":{\"id\":\"5667\"},\"glyph\":{\"id\":\"5670\"},\"group\":null,\"hover_glyph\":{\"id\":\"5673\"},\"muted_glyph\":{\"id\":\"5674\"},\"nonselection_glyph\":{\"id\":\"5671\"},\"selection_glyph\":{\"id\":\"5672\"},\"view\":{\"id\":\"5676\"}},\"id\":\"5675\",\"type\":\"GlyphRenderer\"},{\"attributes\":{},\"id\":\"5643\",\"type\":\"LinearScale\"},{\"attributes\":{},\"id\":\"5646\",\"type\":\"BasicTicker\"},{\"attributes\":{\"axis_label\":\"Principal Component 2 (PC2)\",\"coordinates\":null,\"formatter\":{\"id\":\"5683\"},\"group\":null,\"major_label_policy\":{\"id\":\"5684\"},\"ticker\":{\"id\":\"5650\"}},\"id\":\"5649\",\"type\":\"LinearAxis\"},{\"attributes\":{\"axis\":{\"id\":\"5649\"},\"coordinates\":null,\"dimension\":1,\"grid_line_color\":null,\"group\":null,\"ticker\":null},\"id\":\"5652\",\"type\":\"Grid\"},{\"attributes\":{},\"id\":\"5650\",\"type\":\"BasicTicker\"},{\"attributes\":{},\"id\":\"5655\",\"type\":\"WheelZoomTool\"}],\"root_ids\":[\"5632\"]},\"title\":\"Bokeh Application\",\"version\":\"2.4.3\"}};\n",
       "    var render_items = [{\"docid\":\"82a86c7c-8162-4eb0-9cd4-db168c80c44f\",\"root_ids\":[\"5632\"],\"roots\":{\"5632\":\"5f4e4dc9-872c-4e63-88ca-89fac0bde0cd\"}}];\n",
       "    root.Bokeh.embed.embed_items_notebook(docs_json, render_items);\n",
       "    for (const render_item of render_items) {\n",
       "      for (const root_id of render_item.root_ids) {\n",
       "\tconst id_el = document.getElementById(root_id)\n",
       "\tif (id_el.children.length && (id_el.children[0].className === 'bk-root')) {\n",
       "\t  const root_el = id_el.children[0]\n",
       "\t  root_el.id = root_el.id + '-rendered'\n",
       "\t}\n",
       "      }\n",
       "    }\n",
       "  }\n",
       "  if (root.Bokeh !== undefined && root.Bokeh.Panel !== undefined) {\n",
       "    embed_document(root);\n",
       "  } else {\n",
       "    var attempts = 0;\n",
       "    var timer = setInterval(function(root) {\n",
       "      if (root.Bokeh !== undefined && root.Bokeh.Panel !== undefined) {\n",
       "        clearInterval(timer);\n",
       "        embed_document(root);\n",
       "      } else if (document.readyState == \"complete\") {\n",
       "        attempts++;\n",
       "        if (attempts > 200) {\n",
       "          clearInterval(timer);\n",
       "          console.log(\"Bokeh: ERROR: Unable to run BokehJS code because BokehJS library is missing\");\n",
       "        }\n",
       "      }\n",
       "    }, 25, root)\n",
       "  }\n",
       "})(window);</script>"
      ],
      "text/plain": [
       ":Scatter   [PC1]   (PC2,cluster,coin_id)"
      ]
     },
     "execution_count": 211,
     "metadata": {
      "application/vnd.holoviews_exec.v0+json": {
       "id": "5632"
      }
     },
     "output_type": "execute_result"
    }
   ],
   "source": [
    "# Create a scatter plot using hvPlot\n",
    "scatter_plot_pca = df_pca_with_clusters.hvplot.scatter(x='PC1', y='PC2', c='cluster',\n",
    "                                                      colormap='viridis', hover_cols=['coin_id'],\n",
    "                                                      xlabel='Principal Component 1 (PC1)',\n",
    "                                                      ylabel='Principal Component 2 (PC2)',\n",
    "                                                      title='Cryptocurrency Clustering with PCA',\n",
    "                                                      width=500, height=400)\n",
    "\n",
    "scatter_plot_pca "
   ]
  },
  {
   "attachments": {},
   "cell_type": "markdown",
   "metadata": {},
   "source": [
    "### Visualize and Compare the Results\n",
    "\n",
    "In this section, you will visually analyze the cluster analysis results by contrasting the outcome with and without using the optimization techniques."
   ]
  },
  {
   "cell_type": "code",
   "execution_count": 212,
   "metadata": {},
   "outputs": [],
   "source": [
    "# Composite plot to contrast the Elbow curves"
   ]
  },
  {
   "cell_type": "code",
   "execution_count": 213,
   "metadata": {},
   "outputs": [],
   "source": [
    "import matplotlib.pyplot as plt\n"
   ]
  },
  {
   "cell_type": "code",
   "execution_count": 214,
   "metadata": {},
   "outputs": [],
   "source": [
    "data = pd.merge(elbow_data,elbow_data2, left_index=True, right_index=True)\n"
   ]
  },
  {
   "cell_type": "code",
   "execution_count": 215,
   "metadata": {},
   "outputs": [
    {
     "data": {
      "text/html": [
       "<div>\n",
       "<style scoped>\n",
       "    .dataframe tbody tr th:only-of-type {\n",
       "        vertical-align: middle;\n",
       "    }\n",
       "\n",
       "    .dataframe tbody tr th {\n",
       "        vertical-align: top;\n",
       "    }\n",
       "\n",
       "    .dataframe thead th {\n",
       "        text-align: right;\n",
       "    }\n",
       "</style>\n",
       "<table border=\"1\" class=\"dataframe\">\n",
       "  <thead>\n",
       "    <tr style=\"text-align: right;\">\n",
       "      <th></th>\n",
       "      <th>k_x</th>\n",
       "      <th>inertia_x</th>\n",
       "      <th>k_y</th>\n",
       "      <th>inertia_y</th>\n",
       "    </tr>\n",
       "  </thead>\n",
       "  <tbody>\n",
       "    <tr>\n",
       "      <th>0</th>\n",
       "      <td>1</td>\n",
       "      <td>287.000000</td>\n",
       "      <td>1</td>\n",
       "      <td>256.874086</td>\n",
       "    </tr>\n",
       "    <tr>\n",
       "      <th>1</th>\n",
       "      <td>2</td>\n",
       "      <td>195.820218</td>\n",
       "      <td>2</td>\n",
       "      <td>168.811896</td>\n",
       "    </tr>\n",
       "    <tr>\n",
       "      <th>2</th>\n",
       "      <td>3</td>\n",
       "      <td>123.190482</td>\n",
       "      <td>3</td>\n",
       "      <td>93.774626</td>\n",
       "    </tr>\n",
       "    <tr>\n",
       "      <th>3</th>\n",
       "      <td>4</td>\n",
       "      <td>79.022435</td>\n",
       "      <td>4</td>\n",
       "      <td>49.665497</td>\n",
       "    </tr>\n",
       "    <tr>\n",
       "      <th>4</th>\n",
       "      <td>5</td>\n",
       "      <td>64.127997</td>\n",
       "      <td>5</td>\n",
       "      <td>37.878747</td>\n",
       "    </tr>\n",
       "    <tr>\n",
       "      <th>5</th>\n",
       "      <td>6</td>\n",
       "      <td>53.057788</td>\n",
       "      <td>6</td>\n",
       "      <td>27.618972</td>\n",
       "    </tr>\n",
       "    <tr>\n",
       "      <th>6</th>\n",
       "      <td>7</td>\n",
       "      <td>46.074467</td>\n",
       "      <td>7</td>\n",
       "      <td>21.163978</td>\n",
       "    </tr>\n",
       "    <tr>\n",
       "      <th>7</th>\n",
       "      <td>8</td>\n",
       "      <td>36.850091</td>\n",
       "      <td>8</td>\n",
       "      <td>17.091637</td>\n",
       "    </tr>\n",
       "    <tr>\n",
       "      <th>8</th>\n",
       "      <td>9</td>\n",
       "      <td>33.038113</td>\n",
       "      <td>9</td>\n",
       "      <td>13.681140</td>\n",
       "    </tr>\n",
       "    <tr>\n",
       "      <th>9</th>\n",
       "      <td>10</td>\n",
       "      <td>28.324714</td>\n",
       "      <td>10</td>\n",
       "      <td>10.598085</td>\n",
       "    </tr>\n",
       "    <tr>\n",
       "      <th>10</th>\n",
       "      <td>11</td>\n",
       "      <td>24.694126</td>\n",
       "      <td>11</td>\n",
       "      <td>8.058822</td>\n",
       "    </tr>\n",
       "  </tbody>\n",
       "</table>\n",
       "</div>"
      ],
      "text/plain": [
       "    k_x   inertia_x  k_y   inertia_y\n",
       "0     1  287.000000    1  256.874086\n",
       "1     2  195.820218    2  168.811896\n",
       "2     3  123.190482    3   93.774626\n",
       "3     4   79.022435    4   49.665497\n",
       "4     5   64.127997    5   37.878747\n",
       "5     6   53.057788    6   27.618972\n",
       "6     7   46.074467    7   21.163978\n",
       "7     8   36.850091    8   17.091637\n",
       "8     9   33.038113    9   13.681140\n",
       "9    10   28.324714   10   10.598085\n",
       "10   11   24.694126   11    8.058822"
      ]
     },
     "execution_count": 215,
     "metadata": {},
     "output_type": "execute_result"
    }
   ],
   "source": [
    "data"
   ]
  },
  {
   "cell_type": "code",
   "execution_count": 216,
   "metadata": {},
   "outputs": [],
   "source": [
    "data.drop('k_y', axis=1, inplace=True)"
   ]
  },
  {
   "cell_type": "code",
   "execution_count": 217,
   "metadata": {},
   "outputs": [],
   "source": [
    "data.rename(columns={\n",
    "    'inertia_x':'inertia',\n",
    "    'inertia_y':'inertia_pca',\n",
    "    'k_x':'k'\n",
    "},\n",
    "inplace=True)"
   ]
  },
  {
   "cell_type": "code",
   "execution_count": 218,
   "metadata": {},
   "outputs": [
    {
     "data": {
      "image/png": "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",
      "text/plain": [
       "<Figure size 1200x600 with 2 Axes>"
      ]
     },
     "metadata": {},
     "output_type": "display_data"
    }
   ],
   "source": [
    "# Plot the Elbow curves using matplotlib\n",
    "plt.figure(figsize=(12, 6))\n",
    "\n",
    "# Original data Elbow curve\n",
    "plt.subplot(1, 2, 1)\n",
    "plt.plot(data['k'], data['inertia'], marker='o')\n",
    "plt.xlabel('Number of Clusters (k)')\n",
    "plt.ylabel('Inertia')\n",
    "plt.title('Elbow Curve (Original Data)')\n",
    "plt.grid(True)\n",
    "\n",
    "# PCA data Elbow curve\n",
    "plt.subplot(1, 2, 2)\n",
    "plt.plot(data['k'], data['inertia_pca'], marker='o', color='orange')\n",
    "plt.xlabel('Number of Clusters (k)')\n",
    "plt.ylabel('Inertia')\n",
    "plt.title('Elbow Curve (PCA Data)')\n",
    "plt.grid(True)\n",
    "\n",
    "plt.tight_layout()\n",
    "plt.show()"
   ]
  },
  {
   "cell_type": "code",
   "execution_count": 219,
   "metadata": {},
   "outputs": [
    {
     "data": {},
     "metadata": {},
     "output_type": "display_data"
    },
    {
     "data": {
      "application/vnd.holoviews_exec.v0+json": "",
      "text/html": [
       "<div id='5756'>\n",
       "  <div class=\"bk-root\" id=\"c2d0a137-960a-478a-bbb9-75858769098e\" data-root-id=\"5756\"></div>\n",
       "</div>\n",
       "<script type=\"application/javascript\">(function(root) {\n",
       "  function embed_document(root) {\n",
       "    var docs_json = {\"c347460e-a00b-429c-b7a5-c8bd9c993885\":{\"defs\":[{\"extends\":null,\"module\":null,\"name\":\"ReactiveHTML1\",\"overrides\":[],\"properties\":[]},{\"extends\":null,\"module\":null,\"name\":\"FlexBox1\",\"overrides\":[],\"properties\":[{\"default\":\"flex-start\",\"kind\":null,\"name\":\"align_content\"},{\"default\":\"flex-start\",\"kind\":null,\"name\":\"align_items\"},{\"default\":\"row\",\"kind\":null,\"name\":\"flex_direction\"},{\"default\":\"wrap\",\"kind\":null,\"name\":\"flex_wrap\"},{\"default\":\"flex-start\",\"kind\":null,\"name\":\"justify_content\"}]},{\"extends\":null,\"module\":null,\"name\":\"GridStack1\",\"overrides\":[],\"properties\":[{\"default\":\"warn\",\"kind\":null,\"name\":\"mode\"},{\"default\":null,\"kind\":null,\"name\":\"ncols\"},{\"default\":null,\"kind\":null,\"name\":\"nrows\"},{\"default\":true,\"kind\":null,\"name\":\"allow_resize\"},{\"default\":true,\"kind\":null,\"name\":\"allow_drag\"},{\"default\":[],\"kind\":null,\"name\":\"state\"}]},{\"extends\":null,\"module\":null,\"name\":\"click1\",\"overrides\":[],\"properties\":[{\"default\":\"\",\"kind\":null,\"name\":\"terminal_output\"},{\"default\":\"\",\"kind\":null,\"name\":\"debug_name\"},{\"default\":0,\"kind\":null,\"name\":\"clears\"}]},{\"extends\":null,\"module\":null,\"name\":\"NotificationAreaBase1\",\"overrides\":[],\"properties\":[{\"default\":\"bottom-right\",\"kind\":null,\"name\":\"position\"},{\"default\":0,\"kind\":null,\"name\":\"_clear\"}]},{\"extends\":null,\"module\":null,\"name\":\"NotificationArea1\",\"overrides\":[],\"properties\":[{\"default\":[],\"kind\":null,\"name\":\"notifications\"},{\"default\":\"bottom-right\",\"kind\":null,\"name\":\"position\"},{\"default\":0,\"kind\":null,\"name\":\"_clear\"},{\"default\":[{\"background\":\"#ffc107\",\"icon\":{\"className\":\"fas fa-exclamation-triangle\",\"color\":\"white\",\"tagName\":\"i\"},\"type\":\"warning\"},{\"background\":\"#007bff\",\"icon\":{\"className\":\"fas fa-info-circle\",\"color\":\"white\",\"tagName\":\"i\"},\"type\":\"info\"}],\"kind\":null,\"name\":\"types\"}]},{\"extends\":null,\"module\":null,\"name\":\"Notification\",\"overrides\":[],\"properties\":[{\"default\":null,\"kind\":null,\"name\":\"background\"},{\"default\":3000,\"kind\":null,\"name\":\"duration\"},{\"default\":null,\"kind\":null,\"name\":\"icon\"},{\"default\":\"\",\"kind\":null,\"name\":\"message\"},{\"default\":null,\"kind\":null,\"name\":\"notification_type\"},{\"default\":false,\"kind\":null,\"name\":\"_destroyed\"}]},{\"extends\":null,\"module\":null,\"name\":\"TemplateActions1\",\"overrides\":[],\"properties\":[{\"default\":0,\"kind\":null,\"name\":\"open_modal\"},{\"default\":0,\"kind\":null,\"name\":\"close_modal\"}]},{\"extends\":null,\"module\":null,\"name\":\"MaterialTemplateActions1\",\"overrides\":[],\"properties\":[{\"default\":0,\"kind\":null,\"name\":\"open_modal\"},{\"default\":0,\"kind\":null,\"name\":\"close_modal\"}]}],\"roots\":{\"references\":[{\"attributes\":{\"axis\":{\"id\":\"5829\"},\"coordinates\":null,\"dimension\":1,\"grid_line_color\":null,\"group\":null,\"ticker\":null},\"id\":\"5832\",\"type\":\"Grid\"},{\"attributes\":{\"below\":[{\"id\":\"5769\"}],\"center\":[{\"id\":\"5772\"},{\"id\":\"5776\"}],\"height\":400,\"left\":[{\"id\":\"5773\"}],\"margin\":null,\"min_border_bottom\":10,\"min_border_left\":10,\"min_border_right\":10,\"min_border_top\":10,\"renderers\":[{\"id\":\"5799\"}],\"right\":[{\"id\":\"5802\"}],\"sizing_mode\":\"fixed\",\"title\":{\"id\":\"5761\"},\"toolbar\":{\"id\":\"5783\"},\"toolbar_location\":null,\"width\":500,\"x_range\":{\"id\":\"5757\"},\"x_scale\":{\"id\":\"5765\"},\"y_range\":{\"id\":\"5758\"},\"y_scale\":{\"id\":\"5767\"}},\"id\":\"5760\",\"subtype\":\"Figure\",\"type\":\"Plot\"},{\"attributes\":{\"axis_label\":\"Principal Component 2 (PC2)\",\"coordinates\":null,\"formatter\":{\"id\":\"5863\"},\"group\":null,\"major_label_policy\":{\"id\":\"5864\"},\"ticker\":{\"id\":\"5830\"}},\"id\":\"5829\",\"type\":\"LinearAxis\"},{\"attributes\":{\"axis_label\":\"Price Change Percentage (24h)\",\"coordinates\":null,\"formatter\":{\"id\":\"5804\"},\"group\":null,\"major_label_policy\":{\"id\":\"5805\"},\"ticker\":{\"id\":\"5770\"}},\"id\":\"5769\",\"type\":\"LinearAxis\"},{\"attributes\":{},\"id\":\"5889\",\"type\":\"UnionRenderers\"},{\"attributes\":{\"coordinates\":null,\"data_source\":{\"id\":\"5791\"},\"glyph\":{\"id\":\"5794\"},\"group\":null,\"hover_glyph\":{\"id\":\"5797\"},\"muted_glyph\":{\"id\":\"5798\"},\"nonselection_glyph\":{\"id\":\"5795\"},\"selection_glyph\":{\"id\":\"5796\"},\"view\":{\"id\":\"5800\"}},\"id\":\"5799\",\"type\":\"GlyphRenderer\"},{\"attributes\":{\"end\":8.828763669742097,\"reset_end\":8.828763669742097,\"reset_start\":-1.8975454274171257,\"start\":-1.8975454274171257,\"tags\":[[[\"PC1\",\"PC1\",null]]]},\"id\":\"5813\",\"type\":\"Range1d\"},{\"attributes\":{\"coordinates\":null,\"data_source\":{\"id\":\"5847\"},\"glyph\":{\"id\":\"5850\"},\"group\":null,\"hover_glyph\":{\"id\":\"5853\"},\"muted_glyph\":{\"id\":\"5854\"},\"nonselection_glyph\":{\"id\":\"5851\"},\"selection_glyph\":{\"id\":\"5852\"},\"view\":{\"id\":\"5856\"}},\"id\":\"5855\",\"type\":\"GlyphRenderer\"},{\"attributes\":{\"data\":{\"PC1\":{\"__ndarray__\":\"N/XQrqo447+40e2+JFTdv1KWfGpqt9u/JGF8Nosy3r89E49DWYbyv+zSCdRxh+C/wlpHYHTY3L/W/cd7Th7Wv4dtTPNwyOS/4vJrm9dJ6L8E/HOg98TPv5CH9NfeDty/nBkZU4ow5r/guE+KvvmuP4NMI6evLNm/pjHFU0V66b+6A7sJMGewP9+yldMFTN+/o86LH/eZ078T6SrB0W7gvxkXiTH7LNe/wd1vxyJW47/GEjtnb3Pav9YRKLozFNq/i2XZqrZ84z/zTdZjQtDcv5nYvTIjeOi/KrLvblTN4b888+bQmjXbv+VGFZE5agVAqSC8UEGl47/DvuS6vI7iv0ZVosuTLSBAuEmjFh7m2L8xCisnUrTrP9KSuv+8lrw/YBQ7s2krE0CwXMBgQDzkv5UbmkYF++K/Gr1JmQJS3b8X4q/49hDTvw==\",\"dtype\":\"float64\",\"order\":\"little\",\"shape\":[41]},\"PC2\":{\"__ndarray__\":\"ygJY8+P36j9/P81egFfdP2fRe08qhcW/cI9VGiCAzL+rRDd7ZVQAQHakcU7LNvY/vWTwvP2Q4D+GxP1IkVfnP3stO/eXqNs/UOHMJurAyb/FOhRjIAX2v4lmxoRtcca/FskgkvpS3r+U9tOGdUYHQA0rtCB4sru/SqSem2Sk379wgFApNFH0v/egJl5vcue/akNue2CC5j+TkppKWUfCv62IS4bNlO+/ZgsYmwp66j9g+cMuWpLlv4rd4x5qM8u/nhdkhXQI4j8zLiH9mlTDvx/rhbGEkuC/UG24gOcC/7/ldLLu64zfPwyKJoz3k4y/c48PRXSt3r/z3rYoLM7Wv2EN8PHULA/AW0ntLg0gxT9s/tbKVRgCwPkhKIaGads/FlrQWxoSG0A9qFKDbN0AwCsR7msnAJY/HvWtmbtfwb8FSPDBzXbIvw==\",\"dtype\":\"float64\",\"order\":\"little\",\"shape\":[41]},\"cluster\":{\"__ndarray__\":\"AwAAAAMAAAAAAAAAAAAAAAMAAAADAAAAAwAAAAMAAAADAAAAAAAAAAAAAAAAAAAAAAAAAAMAAAAAAAAAAwAAAAAAAAAAAAAAAwAAAAAAAAAAAAAAAwAAAAAAAAAAAAAAAAAAAAAAAAAAAAAAAAAAAAMAAAAAAAAAAAAAAAAAAAABAAAAAwAAAAAAAAAAAAAAAgAAAAAAAAAAAAAAAAAAAAAAAAA=\",\"dtype\":\"int32\",\"order\":\"little\",\"shape\":[41]},\"coin_id\":[\"bitcoin\",\"ethereum\",\"tether\",\"ripple\",\"bitcoin-cash\",\"binancecoin\",\"chainlink\",\"cardano\",\"litecoin\",\"bitcoin-cash-sv\",\"crypto-com-chain\",\"usd-coin\",\"eos\",\"monero\",\"tron\",\"tezos\",\"okb\",\"stellar\",\"cosmos\",\"cdai\",\"neo\",\"wrapped-bitcoin\",\"leo-token\",\"huobi-token\",\"nem\",\"binance-usd\",\"iota\",\"vechain\",\"zcash\",\"theta-token\",\"dash\",\"ethereum-classic\",\"ethlend\",\"maker\",\"havven\",\"omisego\",\"celsius-degree-token\",\"ontology\",\"ftx-token\",\"true-usd\",\"digibyte\"],\"color\":{\"__ndarray__\":\"AwAAAAMAAAAAAAAAAAAAAAMAAAADAAAAAwAAAAMAAAADAAAAAAAAAAAAAAAAAAAAAAAAAAMAAAAAAAAAAwAAAAAAAAAAAAAAAwAAAAAAAAAAAAAAAwAAAAAAAAAAAAAAAAAAAAAAAAAAAAAAAAAAAAMAAAAAAAAAAAAAAAAAAAABAAAAAwAAAAAAAAAAAAAAAgAAAAAAAAAAAAAAAAAAAAAAAAA=\",\"dtype\":\"int32\",\"order\":\"little\",\"shape\":[41]}},\"selected\":{\"id\":\"5848\"},\"selection_policy\":{\"id\":\"5889\"}},\"id\":\"5847\",\"type\":\"ColumnDataSource\"},{\"attributes\":{\"overlay\":{\"id\":\"5782\"}},\"id\":\"5780\",\"type\":\"BoxZoomTool\"},{\"attributes\":{\"active_drag\":{\"id\":\"5778\"},\"active_scroll\":{\"id\":\"5779\"},\"tools\":[{\"id\":\"5759\"},{\"id\":\"5777\"},{\"id\":\"5778\"},{\"id\":\"5779\"},{\"id\":\"5780\"},{\"id\":\"5781\"}]},\"id\":\"5783\",\"type\":\"Toolbar\"},{\"attributes\":{},\"id\":\"5779\",\"type\":\"WheelZoomTool\"},{\"attributes\":{\"coordinates\":null,\"group\":null,\"text\":\"Cryptocurrency Clustering with PCA\",\"text_color\":\"black\",\"text_font_size\":\"12pt\"},\"id\":\"5817\",\"type\":\"Title\"},{\"attributes\":{},\"id\":\"5834\",\"type\":\"PanTool\"},{\"attributes\":{\"source\":{\"id\":\"5847\"}},\"id\":\"5856\",\"type\":\"CDSView\"},{\"attributes\":{\"bar_line_color\":\"black\",\"color_mapper\":{\"id\":\"5846\"},\"coordinates\":null,\"group\":null,\"label_standoff\":8,\"location\":[0,0],\"major_label_policy\":{\"id\":\"5885\"},\"major_tick_line_color\":\"black\",\"ticker\":{\"id\":\"5857\"}},\"id\":\"5858\",\"type\":\"ColorBar\"},{\"attributes\":{},\"id\":\"5857\",\"type\":\"BasicTicker\"},{\"attributes\":{},\"id\":\"5861\",\"type\":\"AllLabels\"},{\"attributes\":{\"children\":[[{\"id\":\"5760\"},0,0],[{\"id\":\"5816\"},0,1]]},\"id\":\"5893\",\"type\":\"GridBox\"},{\"attributes\":{\"callback\":null,\"renderers\":[{\"id\":\"5855\"}],\"tags\":[\"hv_created\"],\"tooltips\":[[\"PC1\",\"@{PC1}\"],[\"PC2\",\"@{PC2}\"],[\"cluster\",\"@{cluster}\"],[\"coin_id\",\"@{coin_id}\"]]},\"id\":\"5815\",\"type\":\"HoverTool\"},{\"attributes\":{},\"id\":\"5863\",\"type\":\"BasicTickFormatter\"},{\"attributes\":{},\"id\":\"5770\",\"type\":\"BasicTicker\"},{\"attributes\":{\"bottom_units\":\"screen\",\"coordinates\":null,\"fill_alpha\":0.5,\"fill_color\":\"lightgrey\",\"group\":null,\"left_units\":\"screen\",\"level\":\"overlay\",\"line_alpha\":1.0,\"line_color\":\"black\",\"line_dash\":[4,4],\"line_width\":2,\"right_units\":\"screen\",\"syncable\":false,\"top_units\":\"screen\"},\"id\":\"5782\",\"type\":\"BoxAnnotation\"},{\"attributes\":{},\"id\":\"5767\",\"type\":\"LinearScale\"},{\"attributes\":{},\"id\":\"5860\",\"type\":\"BasicTickFormatter\"},{\"attributes\":{},\"id\":\"5821\",\"type\":\"LinearScale\"},{\"attributes\":{\"axis_label\":\"Principal Component 1 (PC1)\",\"coordinates\":null,\"formatter\":{\"id\":\"5860\"},\"group\":null,\"major_label_policy\":{\"id\":\"5861\"},\"ticker\":{\"id\":\"5826\"}},\"id\":\"5825\",\"type\":\"LinearAxis\"},{\"attributes\":{},\"id\":\"5864\",\"type\":\"AllLabels\"},{\"attributes\":{\"end\":7.834135596337129,\"reset_end\":7.834135596337129,\"reset_start\":-4.963347456561397,\"start\":-4.963347456561397,\"tags\":[[[\"PC2\",\"PC2\",null]]]},\"id\":\"5814\",\"type\":\"Range1d\"},{\"attributes\":{},\"id\":\"5792\",\"type\":\"Selection\"},{\"attributes\":{\"fill_color\":{\"field\":\"color\",\"transform\":{\"id\":\"5790\"}},\"hatch_color\":{\"field\":\"color\",\"transform\":{\"id\":\"5790\"}},\"line_color\":{\"field\":\"color\",\"transform\":{\"id\":\"5790\"}},\"size\":{\"value\":5.477225575051661},\"x\":{\"field\":\"price_change_percentage_24h\"},\"y\":{\"field\":\"price_change_percentage_7d\"}},\"id\":\"5796\",\"type\":\"Scatter\"},{\"attributes\":{},\"id\":\"5765\",\"type\":\"LinearScale\"},{\"attributes\":{},\"id\":\"5805\",\"type\":\"AllLabels\"},{\"attributes\":{\"toolbar\":{\"id\":\"5894\"},\"toolbar_location\":\"above\"},\"id\":\"5895\",\"type\":\"ToolbarBox\"},{\"attributes\":{},\"id\":\"5774\",\"type\":\"BasicTicker\"},{\"attributes\":{\"fill_alpha\":{\"value\":0.1},\"fill_color\":{\"field\":\"color\",\"transform\":{\"id\":\"5790\"}},\"hatch_alpha\":{\"value\":0.1},\"hatch_color\":{\"field\":\"color\",\"transform\":{\"id\":\"5790\"}},\"line_alpha\":{\"value\":0.1},\"line_color\":{\"field\":\"color\",\"transform\":{\"id\":\"5790\"}},\"size\":{\"value\":5.477225575051661},\"x\":{\"field\":\"price_change_percentage_24h\"},\"y\":{\"field\":\"price_change_percentage_7d\"}},\"id\":\"5795\",\"type\":\"Scatter\"},{\"attributes\":{},\"id\":\"5830\",\"type\":\"BasicTicker\"},{\"attributes\":{},\"id\":\"5835\",\"type\":\"WheelZoomTool\"},{\"attributes\":{\"axis\":{\"id\":\"5769\"},\"coordinates\":null,\"grid_line_color\":null,\"group\":null,\"ticker\":null},\"id\":\"5772\",\"type\":\"Grid\"},{\"attributes\":{\"data\":{\"cluster\":{\"__ndarray__\":\"CgAAAAoAAAADAAAAAwAAAAIAAAAKAAAACQAAAAkAAAAKAAAABwAAAAEAAAADAAAAAwAAAAIAAAADAAAABwAAAAEAAAAHAAAACQAAAAMAAAABAAAACgAAAAEAAAADAAAAAwAAAAMAAAAHAAAAAQAAAAoAAAAAAAAABwAAAAcAAAAEAAAABwAAAAYAAAAIAAAABQAAAAEAAAAHAAAAAwAAAAEAAAA=\",\"dtype\":\"int32\",\"order\":\"little\",\"shape\":[41]},\"coin_id\":[\"bitcoin\",\"ethereum\",\"tether\",\"ripple\",\"bitcoin-cash\",\"binancecoin\",\"chainlink\",\"cardano\",\"litecoin\",\"bitcoin-cash-sv\",\"crypto-com-chain\",\"usd-coin\",\"eos\",\"monero\",\"tron\",\"tezos\",\"okb\",\"stellar\",\"cosmos\",\"cdai\",\"neo\",\"wrapped-bitcoin\",\"leo-token\",\"huobi-token\",\"nem\",\"binance-usd\",\"iota\",\"vechain\",\"zcash\",\"theta-token\",\"dash\",\"ethereum-classic\",\"ethlend\",\"maker\",\"havven\",\"omisego\",\"celsius-degree-token\",\"ontology\",\"ftx-token\",\"true-usd\",\"digibyte\"],\"color\":{\"__ndarray__\":\"CgAAAAoAAAADAAAAAwAAAAIAAAAKAAAACQAAAAkAAAAKAAAABwAAAAEAAAADAAAAAwAAAAIAAAADAAAABwAAAAEAAAAHAAAACQAAAAMAAAABAAAACgAAAAEAAAADAAAAAwAAAAMAAAAHAAAAAQAAAAoAAAAAAAAABwAAAAcAAAAEAAAABwAAAAYAAAAIAAAABQAAAAEAAAAHAAAAAwAAAAEAAAA=\",\"dtype\":\"int32\",\"order\":\"little\",\"shape\":[41]},\"price_change_percentage_24h\":{\"__ndarray__\":\"DdlqYN9F4D86azDosLzHP5giRdTpS5Y/5iURtxHfpL8wCyMArRbzP/cOjHA0iuw/1QxzqW9Xhz8zBL2hZD+6P0nbN/ba1rM/WpkZGJ+73D/+slcesDPVP/IxOp6elqE/H2STd0ruwz9Epj8/c9DQPxk0XoR2pcA/jEB40RVnw790fnl54Irtv9XPDahDw9G/qq8st/Fh0L/5U5ZBISbHP6Slu6TDVtI/BVlpN5h+4D+njODODoCqPwXDDo/fo6q/woaukuXmy79od0yHwmevP8HhEPEMldA/ypmU5gu54j+sKNPN2lDAv1YH9WGFy/m/N7JuVBEB07/EU4GAhEGyv91nhz6W7BPA/ACFOIMFwL/DnH9IcNv2v5azwSWNt/4/VLqXBn668D/IKcQzxy3av5WrmDyeito/Bf22eE/6sz9Y362Ir3rzPw==\",\"dtype\":\"float64\",\"order\":\"little\",\"shape\":[41]},\"price_change_percentage_7d\":{\"__ndarray__\":\"U1k8q3mQ3z9yoPpI+ebtP22UiL5Pmua/Ubo8ah/z6b8wAdnT9gEAQIJpDjGZPPU/BTbpSPiTBEAmUWkixiD4P/OMI2gdZdU/DZTtp1doyL936vtUZtb5v0QZLH/ydOe/it8GjguF7b8rMp3jf678PwRAcFxBAKW/ZWZRGoqp5j8Udj8VbP/2vySelkVDp9i/XK6ZksNx/T/tJm9WzI7mvy674lUf4tS/Q3zKstaO3T84jfoETLXtv6NqpXs9Q92/wrTyyiEu678mI2rMB53mv1Euo6Hk788/3UZrgr7Q778kzwwdV7vtP/9TV66U6fq/ZWX+mWVCuD8GJ0pHuV/Nv3SFotqbIae/srW7TleV4j/JyBNmVh+av008Y/5ntdc/Nv03JFjJ47+Htdvf1gXtv2Avihmzf9o/e31xtwIC5r/STlu6Y3Ljvw==\",\"dtype\":\"float64\",\"order\":\"little\",\"shape\":[41]}},\"selected\":{\"id\":\"5792\"},\"selection_policy\":{\"id\":\"5877\"}},\"id\":\"5791\",\"type\":\"ColumnDataSource\"},{\"attributes\":{},\"id\":\"5823\",\"type\":\"LinearScale\"},{\"attributes\":{},\"id\":\"5833\",\"type\":\"SaveTool\"},{\"attributes\":{\"children\":[{\"id\":\"5896\"}],\"margin\":[0,0,0,0],\"name\":\"Row04861\",\"tags\":[\"embedded\"]},\"id\":\"5756\",\"type\":\"Row\"},{\"attributes\":{},\"id\":\"5777\",\"type\":\"SaveTool\"},{\"attributes\":{\"overlay\":{\"id\":\"5838\"}},\"id\":\"5836\",\"type\":\"BoxZoomTool\"},{\"attributes\":{\"fill_alpha\":{\"value\":0.2},\"fill_color\":{\"field\":\"color\",\"transform\":{\"id\":\"5790\"}},\"hatch_alpha\":{\"value\":0.2},\"hatch_color\":{\"field\":\"color\",\"transform\":{\"id\":\"5790\"}},\"line_alpha\":{\"value\":0.2},\"line_color\":{\"field\":\"color\",\"transform\":{\"id\":\"5790\"}},\"size\":{\"value\":5.477225575051661},\"x\":{\"field\":\"price_change_percentage_24h\"},\"y\":{\"field\":\"price_change_percentage_7d\"}},\"id\":\"5798\",\"type\":\"Scatter\"},{\"attributes\":{},\"id\":\"5837\",\"type\":\"ResetTool\"},{\"attributes\":{\"bottom_units\":\"screen\",\"coordinates\":null,\"fill_alpha\":0.5,\"fill_color\":\"lightgrey\",\"group\":null,\"left_units\":\"screen\",\"level\":\"overlay\",\"line_alpha\":1.0,\"line_color\":\"black\",\"line_dash\":[4,4],\"line_width\":2,\"right_units\":\"screen\",\"syncable\":false,\"top_units\":\"screen\"},\"id\":\"5838\",\"type\":\"BoxAnnotation\"},{\"attributes\":{\"high\":10,\"low\":0,\"palette\":[\"#440154\",\"#440255\",\"#440357\",\"#450558\",\"#45065a\",\"#45085b\",\"#46095c\",\"#460b5e\",\"#460c5f\",\"#460e61\",\"#470f62\",\"#471163\",\"#471265\",\"#471466\",\"#471567\",\"#471669\",\"#47186a\",\"#48196b\",\"#481a6c\",\"#481c6e\",\"#481d6f\",\"#481e70\",\"#482071\",\"#482172\",\"#482273\",\"#482374\",\"#472575\",\"#472676\",\"#472777\",\"#472878\",\"#472a79\",\"#472b7a\",\"#472c7b\",\"#462d7c\",\"#462f7c\",\"#46307d\",\"#46317e\",\"#45327f\",\"#45347f\",\"#453580\",\"#453681\",\"#443781\",\"#443982\",\"#433a83\",\"#433b83\",\"#433c84\",\"#423d84\",\"#423e85\",\"#424085\",\"#414186\",\"#414286\",\"#404387\",\"#404487\",\"#3f4587\",\"#3f4788\",\"#3e4888\",\"#3e4989\",\"#3d4a89\",\"#3d4b89\",\"#3d4c89\",\"#3c4d8a\",\"#3c4e8a\",\"#3b508a\",\"#3b518a\",\"#3a528b\",\"#3a538b\",\"#39548b\",\"#39558b\",\"#38568b\",\"#38578c\",\"#37588c\",\"#37598c\",\"#365a8c\",\"#365b8c\",\"#355c8c\",\"#355d8c\",\"#345e8d\",\"#345f8d\",\"#33608d\",\"#33618d\",\"#32628d\",\"#32638d\",\"#31648d\",\"#31658d\",\"#31668d\",\"#30678d\",\"#30688d\",\"#2f698d\",\"#2f6a8d\",\"#2e6b8e\",\"#2e6c8e\",\"#2e6d8e\",\"#2d6e8e\",\"#2d6f8e\",\"#2c708e\",\"#2c718e\",\"#2c728e\",\"#2b738e\",\"#2b748e\",\"#2a758e\",\"#2a768e\",\"#2a778e\",\"#29788e\",\"#29798e\",\"#287a8e\",\"#287a8e\",\"#287b8e\",\"#277c8e\",\"#277d8e\",\"#277e8e\",\"#267f8e\",\"#26808e\",\"#26818e\",\"#25828e\",\"#25838d\",\"#24848d\",\"#24858d\",\"#24868d\",\"#23878d\",\"#23888d\",\"#23898d\",\"#22898d\",\"#228a8d\",\"#228b8d\",\"#218c8d\",\"#218d8c\",\"#218e8c\",\"#208f8c\",\"#20908c\",\"#20918c\",\"#1f928c\",\"#1f938b\",\"#1f948b\",\"#1f958b\",\"#1f968b\",\"#1e978a\",\"#1e988a\",\"#1e998a\",\"#1e998a\",\"#1e9a89\",\"#1e9b89\",\"#1e9c89\",\"#1e9d88\",\"#1e9e88\",\"#1e9f88\",\"#1ea087\",\"#1fa187\",\"#1fa286\",\"#1fa386\",\"#20a485\",\"#20a585\",\"#21a685\",\"#21a784\",\"#22a784\",\"#23a883\",\"#23a982\",\"#24aa82\",\"#25ab81\",\"#26ac81\",\"#27ad80\",\"#28ae7f\",\"#29af7f\",\"#2ab07e\",\"#2bb17d\",\"#2cb17d\",\"#2eb27c\",\"#2fb37b\",\"#30b47a\",\"#32b57a\",\"#33b679\",\"#35b778\",\"#36b877\",\"#38b976\",\"#39b976\",\"#3bba75\",\"#3dbb74\",\"#3ebc73\",\"#40bd72\",\"#42be71\",\"#44be70\",\"#45bf6f\",\"#47c06e\",\"#49c16d\",\"#4bc26c\",\"#4dc26b\",\"#4fc369\",\"#51c468\",\"#53c567\",\"#55c666\",\"#57c665\",\"#59c764\",\"#5bc862\",\"#5ec961\",\"#60c960\",\"#62ca5f\",\"#64cb5d\",\"#67cc5c\",\"#69cc5b\",\"#6bcd59\",\"#6dce58\",\"#70ce56\",\"#72cf55\",\"#74d054\",\"#77d052\",\"#79d151\",\"#7cd24f\",\"#7ed24e\",\"#81d34c\",\"#83d34b\",\"#86d449\",\"#88d547\",\"#8bd546\",\"#8dd644\",\"#90d643\",\"#92d741\",\"#95d73f\",\"#97d83e\",\"#9ad83c\",\"#9dd93a\",\"#9fd938\",\"#a2da37\",\"#a5da35\",\"#a7db33\",\"#aadb32\",\"#addc30\",\"#afdc2e\",\"#b2dd2c\",\"#b5dd2b\",\"#b7dd29\",\"#bade27\",\"#bdde26\",\"#bfdf24\",\"#c2df22\",\"#c5df21\",\"#c7e01f\",\"#cae01e\",\"#cde01d\",\"#cfe11c\",\"#d2e11b\",\"#d4e11a\",\"#d7e219\",\"#dae218\",\"#dce218\",\"#dfe318\",\"#e1e318\",\"#e4e318\",\"#e7e419\",\"#e9e419\",\"#ece41a\",\"#eee51b\",\"#f1e51c\",\"#f3e51e\",\"#f6e61f\",\"#f8e621\",\"#fae622\",\"#fde724\"]},\"id\":\"5790\",\"type\":\"LinearColorMapper\"},{\"attributes\":{\"end\":2.471880681464208,\"reset_end\":2.471880681464208,\"reset_start\":-5.533110224699613,\"start\":-5.533110224699613,\"tags\":[[[\"price_change_percentage_24h\",\"price_change_percentage_24h\",null]]]},\"id\":\"5757\",\"type\":\"Range1d\"},{\"attributes\":{\"callback\":null,\"renderers\":[{\"id\":\"5799\"}],\"tags\":[\"hv_created\"],\"tooltips\":[[\"price_change_percentage_24h\",\"@{price_change_percentage_24h}\"],[\"price_change_percentage_7d\",\"@{price_change_percentage_7d}\"],[\"cluster\",\"@{cluster}\"],[\"coin_id\",\"@{coin_id}\"]]},\"id\":\"5759\",\"type\":\"HoverTool\"},{\"attributes\":{},\"id\":\"5781\",\"type\":\"ResetTool\"},{\"attributes\":{\"toolbars\":[{\"id\":\"5783\"},{\"id\":\"5839\"}],\"tools\":[{\"id\":\"5759\"},{\"id\":\"5777\"},{\"id\":\"5778\"},{\"id\":\"5779\"},{\"id\":\"5780\"},{\"id\":\"5781\"},{\"id\":\"5815\"},{\"id\":\"5833\"},{\"id\":\"5834\"},{\"id\":\"5835\"},{\"id\":\"5836\"},{\"id\":\"5837\"}]},\"id\":\"5894\",\"type\":\"ProxyToolbar\"},{\"attributes\":{\"axis\":{\"id\":\"5773\"},\"coordinates\":null,\"dimension\":1,\"grid_line_color\":null,\"group\":null,\"ticker\":null},\"id\":\"5776\",\"type\":\"Grid\"},{\"attributes\":{\"end\":2.997678656273595,\"reset_end\":2.997678656273595,\"reset_start\":-2.107454305728652,\"start\":-2.107454305728652,\"tags\":[[[\"price_change_percentage_7d\",\"price_change_percentage_7d\",null]]]},\"id\":\"5758\",\"type\":\"Range1d\"},{\"attributes\":{\"source\":{\"id\":\"5791\"}},\"id\":\"5800\",\"type\":\"CDSView\"},{\"attributes\":{\"bar_line_color\":\"black\",\"color_mapper\":{\"id\":\"5790\"},\"coordinates\":null,\"group\":null,\"label_standoff\":8,\"location\":[0,0],\"major_label_policy\":{\"id\":\"5873\"},\"major_tick_line_color\":\"black\",\"ticker\":{\"id\":\"5801\"}},\"id\":\"5802\",\"type\":\"ColorBar\"},{\"attributes\":{},\"id\":\"5873\",\"type\":\"NoOverlap\"},{\"attributes\":{\"active_drag\":{\"id\":\"5834\"},\"active_scroll\":{\"id\":\"5835\"},\"tools\":[{\"id\":\"5815\"},{\"id\":\"5833\"},{\"id\":\"5834\"},{\"id\":\"5835\"},{\"id\":\"5836\"},{\"id\":\"5837\"}]},\"id\":\"5839\",\"type\":\"Toolbar\"},{\"attributes\":{},\"id\":\"5801\",\"type\":\"BasicTicker\"},{\"attributes\":{},\"id\":\"5807\",\"type\":\"BasicTickFormatter\"},{\"attributes\":{\"fill_color\":{\"field\":\"color\",\"transform\":{\"id\":\"5846\"}},\"hatch_color\":{\"field\":\"color\",\"transform\":{\"id\":\"5846\"}},\"line_color\":{\"field\":\"color\",\"transform\":{\"id\":\"5846\"}},\"size\":{\"value\":5.477225575051661},\"x\":{\"field\":\"PC1\"},\"y\":{\"field\":\"PC2\"}},\"id\":\"5850\",\"type\":\"Scatter\"},{\"attributes\":{\"coordinates\":null,\"group\":null,\"text\":\"Cryptocurrency Clustering\",\"text_color\":\"black\",\"text_font_size\":\"12pt\"},\"id\":\"5761\",\"type\":\"Title\"},{\"attributes\":{},\"id\":\"5848\",\"type\":\"Selection\"},{\"attributes\":{\"fill_color\":{\"field\":\"color\",\"transform\":{\"id\":\"5790\"}},\"hatch_color\":{\"field\":\"color\",\"transform\":{\"id\":\"5790\"}},\"line_color\":{\"field\":\"color\",\"transform\":{\"id\":\"5790\"}},\"size\":{\"value\":5.477225575051661},\"x\":{\"field\":\"price_change_percentage_24h\"},\"y\":{\"field\":\"price_change_percentage_7d\"}},\"id\":\"5797\",\"type\":\"Scatter\"},{\"attributes\":{},\"id\":\"5778\",\"type\":\"PanTool\"},{\"attributes\":{\"high\":10,\"low\":0,\"palette\":[\"#440154\",\"#440255\",\"#440357\",\"#450558\",\"#45065a\",\"#45085b\",\"#46095c\",\"#460b5e\",\"#460c5f\",\"#460e61\",\"#470f62\",\"#471163\",\"#471265\",\"#471466\",\"#471567\",\"#471669\",\"#47186a\",\"#48196b\",\"#481a6c\",\"#481c6e\",\"#481d6f\",\"#481e70\",\"#482071\",\"#482172\",\"#482273\",\"#482374\",\"#472575\",\"#472676\",\"#472777\",\"#472878\",\"#472a79\",\"#472b7a\",\"#472c7b\",\"#462d7c\",\"#462f7c\",\"#46307d\",\"#46317e\",\"#45327f\",\"#45347f\",\"#453580\",\"#453681\",\"#443781\",\"#443982\",\"#433a83\",\"#433b83\",\"#433c84\",\"#423d84\",\"#423e85\",\"#424085\",\"#414186\",\"#414286\",\"#404387\",\"#404487\",\"#3f4587\",\"#3f4788\",\"#3e4888\",\"#3e4989\",\"#3d4a89\",\"#3d4b89\",\"#3d4c89\",\"#3c4d8a\",\"#3c4e8a\",\"#3b508a\",\"#3b518a\",\"#3a528b\",\"#3a538b\",\"#39548b\",\"#39558b\",\"#38568b\",\"#38578c\",\"#37588c\",\"#37598c\",\"#365a8c\",\"#365b8c\",\"#355c8c\",\"#355d8c\",\"#345e8d\",\"#345f8d\",\"#33608d\",\"#33618d\",\"#32628d\",\"#32638d\",\"#31648d\",\"#31658d\",\"#31668d\",\"#30678d\",\"#30688d\",\"#2f698d\",\"#2f6a8d\",\"#2e6b8e\",\"#2e6c8e\",\"#2e6d8e\",\"#2d6e8e\",\"#2d6f8e\",\"#2c708e\",\"#2c718e\",\"#2c728e\",\"#2b738e\",\"#2b748e\",\"#2a758e\",\"#2a768e\",\"#2a778e\",\"#29788e\",\"#29798e\",\"#287a8e\",\"#287a8e\",\"#287b8e\",\"#277c8e\",\"#277d8e\",\"#277e8e\",\"#267f8e\",\"#26808e\",\"#26818e\",\"#25828e\",\"#25838d\",\"#24848d\",\"#24858d\",\"#24868d\",\"#23878d\",\"#23888d\",\"#23898d\",\"#22898d\",\"#228a8d\",\"#228b8d\",\"#218c8d\",\"#218d8c\",\"#218e8c\",\"#208f8c\",\"#20908c\",\"#20918c\",\"#1f928c\",\"#1f938b\",\"#1f948b\",\"#1f958b\",\"#1f968b\",\"#1e978a\",\"#1e988a\",\"#1e998a\",\"#1e998a\",\"#1e9a89\",\"#1e9b89\",\"#1e9c89\",\"#1e9d88\",\"#1e9e88\",\"#1e9f88\",\"#1ea087\",\"#1fa187\",\"#1fa286\",\"#1fa386\",\"#20a485\",\"#20a585\",\"#21a685\",\"#21a784\",\"#22a784\",\"#23a883\",\"#23a982\",\"#24aa82\",\"#25ab81\",\"#26ac81\",\"#27ad80\",\"#28ae7f\",\"#29af7f\",\"#2ab07e\",\"#2bb17d\",\"#2cb17d\",\"#2eb27c\",\"#2fb37b\",\"#30b47a\",\"#32b57a\",\"#33b679\",\"#35b778\",\"#36b877\",\"#38b976\",\"#39b976\",\"#3bba75\",\"#3dbb74\",\"#3ebc73\",\"#40bd72\",\"#42be71\",\"#44be70\",\"#45bf6f\",\"#47c06e\",\"#49c16d\",\"#4bc26c\",\"#4dc26b\",\"#4fc369\",\"#51c468\",\"#53c567\",\"#55c666\",\"#57c665\",\"#59c764\",\"#5bc862\",\"#5ec961\",\"#60c960\",\"#62ca5f\",\"#64cb5d\",\"#67cc5c\",\"#69cc5b\",\"#6bcd59\",\"#6dce58\",\"#70ce56\",\"#72cf55\",\"#74d054\",\"#77d052\",\"#79d151\",\"#7cd24f\",\"#7ed24e\",\"#81d34c\",\"#83d34b\",\"#86d449\",\"#88d547\",\"#8bd546\",\"#8dd644\",\"#90d643\",\"#92d741\",\"#95d73f\",\"#97d83e\",\"#9ad83c\",\"#9dd93a\",\"#9fd938\",\"#a2da37\",\"#a5da35\",\"#a7db33\",\"#aadb32\",\"#addc30\",\"#afdc2e\",\"#b2dd2c\",\"#b5dd2b\",\"#b7dd29\",\"#bade27\",\"#bdde26\",\"#bfdf24\",\"#c2df22\",\"#c5df21\",\"#c7e01f\",\"#cae01e\",\"#cde01d\",\"#cfe11c\",\"#d2e11b\",\"#d4e11a\",\"#d7e219\",\"#dae218\",\"#dce218\",\"#dfe318\",\"#e1e318\",\"#e4e318\",\"#e7e419\",\"#e9e419\",\"#ece41a\",\"#eee51b\",\"#f1e51c\",\"#f3e51e\",\"#f6e61f\",\"#f8e621\",\"#fae622\",\"#fde724\"]},\"id\":\"5846\",\"type\":\"LinearColorMapper\"},{\"attributes\":{},\"id\":\"5808\",\"type\":\"AllLabels\"},{\"attributes\":{},\"id\":\"5877\",\"type\":\"UnionRenderers\"},{\"attributes\":{\"children\":[{\"id\":\"5895\"},{\"id\":\"5893\"}]},\"id\":\"5896\",\"type\":\"Column\"},{\"attributes\":{\"axis_label\":\"Price Change Percentage (7d)\",\"coordinates\":null,\"formatter\":{\"id\":\"5807\"},\"group\":null,\"major_label_policy\":{\"id\":\"5808\"},\"ticker\":{\"id\":\"5774\"}},\"id\":\"5773\",\"type\":\"LinearAxis\"},{\"attributes\":{\"below\":[{\"id\":\"5825\"}],\"center\":[{\"id\":\"5828\"},{\"id\":\"5832\"}],\"height\":400,\"left\":[{\"id\":\"5829\"}],\"margin\":null,\"min_border_bottom\":10,\"min_border_left\":10,\"min_border_right\":10,\"min_border_top\":10,\"renderers\":[{\"id\":\"5855\"}],\"right\":[{\"id\":\"5858\"}],\"sizing_mode\":\"fixed\",\"title\":{\"id\":\"5817\"},\"toolbar\":{\"id\":\"5839\"},\"toolbar_location\":null,\"width\":500,\"x_range\":{\"id\":\"5813\"},\"x_scale\":{\"id\":\"5821\"},\"y_range\":{\"id\":\"5814\"},\"y_scale\":{\"id\":\"5823\"}},\"id\":\"5816\",\"subtype\":\"Figure\",\"type\":\"Plot\"},{\"attributes\":{\"fill_color\":{\"field\":\"color\",\"transform\":{\"id\":\"5790\"}},\"hatch_color\":{\"field\":\"color\",\"transform\":{\"id\":\"5790\"}},\"line_color\":{\"field\":\"color\",\"transform\":{\"id\":\"5790\"}},\"size\":{\"value\":5.477225575051661},\"x\":{\"field\":\"price_change_percentage_24h\"},\"y\":{\"field\":\"price_change_percentage_7d\"}},\"id\":\"5794\",\"type\":\"Scatter\"},{\"attributes\":{\"fill_color\":{\"field\":\"color\",\"transform\":{\"id\":\"5846\"}},\"hatch_color\":{\"field\":\"color\",\"transform\":{\"id\":\"5846\"}},\"line_color\":{\"field\":\"color\",\"transform\":{\"id\":\"5846\"}},\"size\":{\"value\":5.477225575051661},\"x\":{\"field\":\"PC1\"},\"y\":{\"field\":\"PC2\"}},\"id\":\"5852\",\"type\":\"Scatter\"},{\"attributes\":{},\"id\":\"5804\",\"type\":\"BasicTickFormatter\"},{\"attributes\":{\"fill_color\":{\"field\":\"color\",\"transform\":{\"id\":\"5846\"}},\"hatch_color\":{\"field\":\"color\",\"transform\":{\"id\":\"5846\"}},\"line_color\":{\"field\":\"color\",\"transform\":{\"id\":\"5846\"}},\"size\":{\"value\":5.477225575051661},\"x\":{\"field\":\"PC1\"},\"y\":{\"field\":\"PC2\"}},\"id\":\"5853\",\"type\":\"Scatter\"},{\"attributes\":{},\"id\":\"5885\",\"type\":\"NoOverlap\"},{\"attributes\":{},\"id\":\"5826\",\"type\":\"BasicTicker\"},{\"attributes\":{\"fill_alpha\":{\"value\":0.1},\"fill_color\":{\"field\":\"color\",\"transform\":{\"id\":\"5846\"}},\"hatch_alpha\":{\"value\":0.1},\"hatch_color\":{\"field\":\"color\",\"transform\":{\"id\":\"5846\"}},\"line_alpha\":{\"value\":0.1},\"line_color\":{\"field\":\"color\",\"transform\":{\"id\":\"5846\"}},\"size\":{\"value\":5.477225575051661},\"x\":{\"field\":\"PC1\"},\"y\":{\"field\":\"PC2\"}},\"id\":\"5851\",\"type\":\"Scatter\"},{\"attributes\":{\"fill_alpha\":{\"value\":0.2},\"fill_color\":{\"field\":\"color\",\"transform\":{\"id\":\"5846\"}},\"hatch_alpha\":{\"value\":0.2},\"hatch_color\":{\"field\":\"color\",\"transform\":{\"id\":\"5846\"}},\"line_alpha\":{\"value\":0.2},\"line_color\":{\"field\":\"color\",\"transform\":{\"id\":\"5846\"}},\"size\":{\"value\":5.477225575051661},\"x\":{\"field\":\"PC1\"},\"y\":{\"field\":\"PC2\"}},\"id\":\"5854\",\"type\":\"Scatter\"},{\"attributes\":{\"axis\":{\"id\":\"5825\"},\"coordinates\":null,\"grid_line_color\":null,\"group\":null,\"ticker\":null},\"id\":\"5828\",\"type\":\"Grid\"}],\"root_ids\":[\"5756\"]},\"title\":\"Bokeh Application\",\"version\":\"2.4.3\"}};\n",
       "    var render_items = [{\"docid\":\"c347460e-a00b-429c-b7a5-c8bd9c993885\",\"root_ids\":[\"5756\"],\"roots\":{\"5756\":\"c2d0a137-960a-478a-bbb9-75858769098e\"}}];\n",
       "    root.Bokeh.embed.embed_items_notebook(docs_json, render_items);\n",
       "    for (const render_item of render_items) {\n",
       "      for (const root_id of render_item.root_ids) {\n",
       "\tconst id_el = document.getElementById(root_id)\n",
       "\tif (id_el.children.length && (id_el.children[0].className === 'bk-root')) {\n",
       "\t  const root_el = id_el.children[0]\n",
       "\t  root_el.id = root_el.id + '-rendered'\n",
       "\t}\n",
       "      }\n",
       "    }\n",
       "  }\n",
       "  if (root.Bokeh !== undefined && root.Bokeh.Panel !== undefined) {\n",
       "    embed_document(root);\n",
       "  } else {\n",
       "    var attempts = 0;\n",
       "    var timer = setInterval(function(root) {\n",
       "      if (root.Bokeh !== undefined && root.Bokeh.Panel !== undefined) {\n",
       "        clearInterval(timer);\n",
       "        embed_document(root);\n",
       "      } else if (document.readyState == \"complete\") {\n",
       "        attempts++;\n",
       "        if (attempts > 200) {\n",
       "          clearInterval(timer);\n",
       "          console.log(\"Bokeh: ERROR: Unable to run BokehJS code because BokehJS library is missing\");\n",
       "        }\n",
       "      }\n",
       "    }, 25, root)\n",
       "  }\n",
       "})(window);</script>"
      ],
      "text/plain": [
       ":Layout\n",
       "   .Scatter.I  :Scatter   [price_change_percentage_24h]   (price_change_percentage_7d,cluster,coin_id)\n",
       "   .Scatter.II :Scatter   [PC1]   (PC2,cluster,coin_id)"
      ]
     },
     "execution_count": 219,
     "metadata": {
      "application/vnd.holoviews_exec.v0+json": {
       "id": "5756"
      }
     },
     "output_type": "execute_result"
    }
   ],
   "source": [
    "# Display the composite plot side by side\n",
    "composite_plot = scatter_plot_original + scatter_plot_pca\n",
    "composite_plot.cols(2)  # Arrange the plots side by side\n",
    "\n",
    "# Show the composite plot\n",
    "composite_plot"
   ]
  },
  {
   "attachments": {},
   "cell_type": "markdown",
   "metadata": {},
   "source": [
    "#### Answer the following question: \n",
    "\n",
    "  * **Question:** After visually analyzing the cluster analysis results, what is the impact of using fewer features to cluster the data using K-Means?\n",
    "\n",
    "  * **Answer:**: \n",
    "\n",
    "  By using PCA or any other dimensionality reduction technique, we project the data into fewer features while preserving as much of the variance as possible. This can be helpful in reducing the computational complexity and memory requirements of the clustering process. The sample data did not have that many dimensions, so it would have been ok to keep all the dimensions. \n",
    "\n",
    "  However, reducing the dimensionality can also help in reducing noise or irrelevant features in the data, which might otherwise affect the clustering results. By focusing on the most informative features, we can potentially enhance the quality of the analysis."
   ]
  }
 ],
 "metadata": {
  "kernelspec": {
   "display_name": "Python 3 (ipykernel)",
   "language": "python",
   "name": "python3"
  },
  "language_info": {
   "codemirror_mode": {
    "name": "ipython",
    "version": 3
   },
   "file_extension": ".py",
   "mimetype": "text/x-python",
   "name": "python",
   "nbconvert_exporter": "python",
   "pygments_lexer": "ipython3",
<<<<<<< Updated upstream
   "version": "3.10.6"
=======
   "version": "3.10.11"
>>>>>>> Stashed changes
  },
  "nteract": {
   "version": "0.28.0"
  },
  "vscode": {
   "interpreter": {
    "hash": "40d3a090f54c6569ab1632332b64b2c03c39dcf918b08424e98f38b5ae0af88f"
   }
  }
 },
 "nbformat": 4,
 "nbformat_minor": 4
}
